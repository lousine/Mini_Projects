{
 "cells": [
  {
   "cell_type": "markdown",
   "metadata": {},
   "source": [
    "# Data Visualization \n",
    "\n",
    "## Food carbon footprint index 2018\n",
    "\n",
    "### Using Plotly"
   ]
  },
  {
   "cell_type": "code",
   "execution_count": 2,
   "metadata": {},
   "outputs": [],
   "source": [
    "import numpy as np\n",
    "import pandas as pd"
   ]
  },
  {
   "cell_type": "code",
   "execution_count": 3,
   "metadata": {},
   "outputs": [],
   "source": [
    "import plotly\n",
    "import plotly.graph_objects as go\n",
    "import plotly.express as px\n",
    "from plotly.offline import download_plotlyjs, init_notebook_mode, plot, iplot"
   ]
  },
  {
   "cell_type": "code",
   "execution_count": 4,
   "metadata": {},
   "outputs": [],
   "source": [
    "import matplotlib.pyplot as plt\n",
    "import seaborn as sns"
   ]
  },
  {
   "cell_type": "code",
   "execution_count": 5,
   "metadata": {},
   "outputs": [
    {
     "data": {
      "text/html": [
       "        <script type=\"text/javascript\">\n",
       "        window.PlotlyConfig = {MathJaxConfig: 'local'};\n",
       "        if (window.MathJax) {MathJax.Hub.Config({SVG: {font: \"STIX-Web\"}});}\n",
       "        if (typeof require !== 'undefined') {\n",
       "        require.undef(\"plotly\");\n",
       "        requirejs.config({\n",
       "            paths: {\n",
       "                'plotly': ['https://cdn.plot.ly/plotly-latest.min']\n",
       "            }\n",
       "        });\n",
       "        require(['plotly'], function(Plotly) {\n",
       "            window._Plotly = Plotly;\n",
       "        });\n",
       "        }\n",
       "        </script>\n",
       "        "
      ]
     },
     "metadata": {},
     "output_type": "display_data"
    }
   ],
   "source": [
    "init_notebook_mode(connected=True)"
   ]
  },
  {
   "cell_type": "code",
   "execution_count": 6,
   "metadata": {},
   "outputs": [
    {
     "data": {
      "text/html": [
       "<div>\n",
       "<style scoped>\n",
       "    .dataframe tbody tr th:only-of-type {\n",
       "        vertical-align: middle;\n",
       "    }\n",
       "\n",
       "    .dataframe tbody tr th {\n",
       "        vertical-align: top;\n",
       "    }\n",
       "\n",
       "    .dataframe thead th {\n",
       "        text-align: right;\n",
       "    }\n",
       "</style>\n",
       "<table border=\"1\" class=\"dataframe\">\n",
       "  <thead>\n",
       "    <tr style=\"text-align: right;\">\n",
       "      <th></th>\n",
       "      <th>country</th>\n",
       "      <th>Population</th>\n",
       "      <th>food_category</th>\n",
       "      <th>consumption</th>\n",
       "      <th>co2_emmission</th>\n",
       "    </tr>\n",
       "  </thead>\n",
       "  <tbody>\n",
       "    <tr>\n",
       "      <th>0</th>\n",
       "      <td>Argentina</td>\n",
       "      <td>45,195,774</td>\n",
       "      <td>Pork</td>\n",
       "      <td>10.51</td>\n",
       "      <td>37.20</td>\n",
       "    </tr>\n",
       "    <tr>\n",
       "      <th>1</th>\n",
       "      <td>Argentina</td>\n",
       "      <td>45,195,774</td>\n",
       "      <td>Poultry</td>\n",
       "      <td>38.66</td>\n",
       "      <td>41.53</td>\n",
       "    </tr>\n",
       "    <tr>\n",
       "      <th>2</th>\n",
       "      <td>Argentina</td>\n",
       "      <td>45,195,774</td>\n",
       "      <td>Beef</td>\n",
       "      <td>55.48</td>\n",
       "      <td>1712.00</td>\n",
       "    </tr>\n",
       "    <tr>\n",
       "      <th>3</th>\n",
       "      <td>Argentina</td>\n",
       "      <td>45,195,774</td>\n",
       "      <td>Lamb &amp; Goat</td>\n",
       "      <td>1.56</td>\n",
       "      <td>54.63</td>\n",
       "    </tr>\n",
       "    <tr>\n",
       "      <th>4</th>\n",
       "      <td>Argentina</td>\n",
       "      <td>45,195,774</td>\n",
       "      <td>Fish</td>\n",
       "      <td>4.36</td>\n",
       "      <td>6.96</td>\n",
       "    </tr>\n",
       "    <tr>\n",
       "      <th>5</th>\n",
       "      <td>Argentina</td>\n",
       "      <td>45,195,774</td>\n",
       "      <td>Eggs</td>\n",
       "      <td>11.39</td>\n",
       "      <td>10.46</td>\n",
       "    </tr>\n",
       "    <tr>\n",
       "      <th>6</th>\n",
       "      <td>Argentina</td>\n",
       "      <td>45,195,774</td>\n",
       "      <td>Milk - inc. cheese</td>\n",
       "      <td>195.08</td>\n",
       "      <td>277.87</td>\n",
       "    </tr>\n",
       "    <tr>\n",
       "      <th>7</th>\n",
       "      <td>Argentina</td>\n",
       "      <td>45,195,774</td>\n",
       "      <td>Wheat and Wheat Products</td>\n",
       "      <td>103.11</td>\n",
       "      <td>19.66</td>\n",
       "    </tr>\n",
       "    <tr>\n",
       "      <th>8</th>\n",
       "      <td>Argentina</td>\n",
       "      <td>45,195,774</td>\n",
       "      <td>Rice</td>\n",
       "      <td>8.77</td>\n",
       "      <td>11.22</td>\n",
       "    </tr>\n",
       "    <tr>\n",
       "      <th>9</th>\n",
       "      <td>Argentina</td>\n",
       "      <td>45,195,774</td>\n",
       "      <td>Soybeans</td>\n",
       "      <td>0.00</td>\n",
       "      <td>0.00</td>\n",
       "    </tr>\n",
       "  </tbody>\n",
       "</table>\n",
       "</div>"
      ],
      "text/plain": [
       "     country  Population             food_category  consumption  co2_emmission\n",
       "0  Argentina  45,195,774                      Pork        10.51          37.20\n",
       "1  Argentina  45,195,774                   Poultry        38.66          41.53\n",
       "2  Argentina  45,195,774                      Beef        55.48        1712.00\n",
       "3  Argentina  45,195,774               Lamb & Goat         1.56          54.63\n",
       "4  Argentina  45,195,774                      Fish         4.36           6.96\n",
       "5  Argentina  45,195,774                      Eggs        11.39          10.46\n",
       "6  Argentina  45,195,774        Milk - inc. cheese       195.08         277.87\n",
       "7  Argentina  45,195,774  Wheat and Wheat Products       103.11          19.66\n",
       "8  Argentina  45,195,774                      Rice         8.77          11.22\n",
       "9  Argentina  45,195,774                  Soybeans         0.00           0.00"
      ]
     },
     "execution_count": 6,
     "metadata": {},
     "output_type": "execute_result"
    }
   ],
   "source": [
    "data = pd.read_csv(\"C:\\\\Users\\\\user\\\\Downloads\\\\food_consumptionedited.csv\")\n",
    "data.head(10)"
   ]
  },
  {
   "cell_type": "code",
   "execution_count": 7,
   "metadata": {},
   "outputs": [],
   "source": [
    "data[\"food_category\"] = data[\"food_category\"].astype(\"category\")"
   ]
  },
  {
   "cell_type": "markdown",
   "metadata": {},
   "source": [
    "Adding a new column which labels the column \"food_category\" to show which is a animal product and which is a non-animal product."
   ]
  },
  {
   "cell_type": "code",
   "execution_count": 8,
   "metadata": {},
   "outputs": [
    {
     "data": {
      "text/html": [
       "<div>\n",
       "<style scoped>\n",
       "    .dataframe tbody tr th:only-of-type {\n",
       "        vertical-align: middle;\n",
       "    }\n",
       "\n",
       "    .dataframe tbody tr th {\n",
       "        vertical-align: top;\n",
       "    }\n",
       "\n",
       "    .dataframe thead th {\n",
       "        text-align: right;\n",
       "    }\n",
       "</style>\n",
       "<table border=\"1\" class=\"dataframe\">\n",
       "  <thead>\n",
       "    <tr style=\"text-align: right;\">\n",
       "      <th></th>\n",
       "      <th>country</th>\n",
       "      <th>Population</th>\n",
       "      <th>food_category</th>\n",
       "      <th>consumption</th>\n",
       "      <th>co2_emmission</th>\n",
       "      <th>food_type</th>\n",
       "    </tr>\n",
       "  </thead>\n",
       "  <tbody>\n",
       "    <tr>\n",
       "      <th>0</th>\n",
       "      <td>Argentina</td>\n",
       "      <td>45,195,774</td>\n",
       "      <td>Pork</td>\n",
       "      <td>10.51</td>\n",
       "      <td>37.20</td>\n",
       "      <td>Animal</td>\n",
       "    </tr>\n",
       "    <tr>\n",
       "      <th>1</th>\n",
       "      <td>Argentina</td>\n",
       "      <td>45,195,774</td>\n",
       "      <td>Poultry</td>\n",
       "      <td>38.66</td>\n",
       "      <td>41.53</td>\n",
       "      <td>Animal</td>\n",
       "    </tr>\n",
       "    <tr>\n",
       "      <th>2</th>\n",
       "      <td>Argentina</td>\n",
       "      <td>45,195,774</td>\n",
       "      <td>Beef</td>\n",
       "      <td>55.48</td>\n",
       "      <td>1712.00</td>\n",
       "      <td>Animal</td>\n",
       "    </tr>\n",
       "    <tr>\n",
       "      <th>3</th>\n",
       "      <td>Argentina</td>\n",
       "      <td>45,195,774</td>\n",
       "      <td>Lamb &amp; Goat</td>\n",
       "      <td>1.56</td>\n",
       "      <td>54.63</td>\n",
       "      <td>Animal</td>\n",
       "    </tr>\n",
       "    <tr>\n",
       "      <th>4</th>\n",
       "      <td>Argentina</td>\n",
       "      <td>45,195,774</td>\n",
       "      <td>Fish</td>\n",
       "      <td>4.36</td>\n",
       "      <td>6.96</td>\n",
       "      <td>Animal</td>\n",
       "    </tr>\n",
       "    <tr>\n",
       "      <th>...</th>\n",
       "      <td>...</td>\n",
       "      <td>...</td>\n",
       "      <td>...</td>\n",
       "      <td>...</td>\n",
       "      <td>...</td>\n",
       "      <td>...</td>\n",
       "    </tr>\n",
       "    <tr>\n",
       "      <th>1425</th>\n",
       "      <td>Bangladesh</td>\n",
       "      <td>164,689,383</td>\n",
       "      <td>Milk - inc. cheese</td>\n",
       "      <td>21.91</td>\n",
       "      <td>31.21</td>\n",
       "      <td>Animal</td>\n",
       "    </tr>\n",
       "    <tr>\n",
       "      <th>1426</th>\n",
       "      <td>Bangladesh</td>\n",
       "      <td>164,689,383</td>\n",
       "      <td>Wheat and Wheat Products</td>\n",
       "      <td>17.47</td>\n",
       "      <td>3.33</td>\n",
       "      <td>Non-Animal</td>\n",
       "    </tr>\n",
       "    <tr>\n",
       "      <th>1427</th>\n",
       "      <td>Bangladesh</td>\n",
       "      <td>164,689,383</td>\n",
       "      <td>Rice</td>\n",
       "      <td>171.73</td>\n",
       "      <td>219.76</td>\n",
       "      <td>Non-Animal</td>\n",
       "    </tr>\n",
       "    <tr>\n",
       "      <th>1428</th>\n",
       "      <td>Bangladesh</td>\n",
       "      <td>164,689,383</td>\n",
       "      <td>Soybeans</td>\n",
       "      <td>0.61</td>\n",
       "      <td>0.27</td>\n",
       "      <td>Non-Animal</td>\n",
       "    </tr>\n",
       "    <tr>\n",
       "      <th>1429</th>\n",
       "      <td>Bangladesh</td>\n",
       "      <td>164,689,383</td>\n",
       "      <td>Nuts inc. Peanut Butter</td>\n",
       "      <td>0.72</td>\n",
       "      <td>1.27</td>\n",
       "      <td>Non-Animal</td>\n",
       "    </tr>\n",
       "  </tbody>\n",
       "</table>\n",
       "<p>1430 rows × 6 columns</p>\n",
       "</div>"
      ],
      "text/plain": [
       "         country   Population             food_category  consumption  \\\n",
       "0      Argentina   45,195,774                      Pork        10.51   \n",
       "1      Argentina   45,195,774                   Poultry        38.66   \n",
       "2      Argentina   45,195,774                      Beef        55.48   \n",
       "3      Argentina   45,195,774               Lamb & Goat         1.56   \n",
       "4      Argentina   45,195,774                      Fish         4.36   \n",
       "...          ...          ...                       ...          ...   \n",
       "1425  Bangladesh  164,689,383        Milk - inc. cheese        21.91   \n",
       "1426  Bangladesh  164,689,383  Wheat and Wheat Products        17.47   \n",
       "1427  Bangladesh  164,689,383                      Rice       171.73   \n",
       "1428  Bangladesh  164,689,383                  Soybeans         0.61   \n",
       "1429  Bangladesh  164,689,383   Nuts inc. Peanut Butter         0.72   \n",
       "\n",
       "      co2_emmission   food_type  \n",
       "0             37.20      Animal  \n",
       "1             41.53      Animal  \n",
       "2           1712.00      Animal  \n",
       "3             54.63      Animal  \n",
       "4              6.96      Animal  \n",
       "...             ...         ...  \n",
       "1425          31.21      Animal  \n",
       "1426           3.33  Non-Animal  \n",
       "1427         219.76  Non-Animal  \n",
       "1428           0.27  Non-Animal  \n",
       "1429           1.27  Non-Animal  \n",
       "\n",
       "[1430 rows x 6 columns]"
      ]
     },
     "execution_count": 8,
     "metadata": {},
     "output_type": "execute_result"
    }
   ],
   "source": [
    "data[\"food_type\"] = np.where((data.food_category ==\"Beef\")|(data.food_category ==\"Eggs\")|(data.food_category ==\"Pork\")|(data.food_category ==\"Lamb & Goat\")|(data.food_category ==\"Poultry\")|(data.food_category ==\"Fish\")|(data.food_category ==\"Milk - inc. cheese\"),\"Animal\", \"Non-Animal\")\n",
    "data[\"food_type\"] = data[\"food_type\"].astype(\"category\")\n",
    "data"
   ]
  },
  {
   "cell_type": "code",
   "execution_count": 9,
   "metadata": {},
   "outputs": [
    {
     "data": {
      "application/vnd.plotly.v1+json": {
       "config": {
        "plotlyServerURL": "https://plot.ly"
       },
       "data": [
        {
         "domain": {
          "x": [
           0,
           1
          ],
          "y": [
           0,
           1
          ]
         },
         "hovertemplate": "food_category=%{label}<br>consumption=%{value}<extra></extra>",
         "labels": [
          "Pork",
          "Poultry",
          "Beef",
          "Lamb & Goat",
          "Fish",
          "Eggs",
          "Milk - inc. cheese",
          "Wheat and Wheat Products",
          "Rice",
          "Soybeans",
          "Nuts inc. Peanut Butter"
         ],
         "legendgroup": "",
         "name": "",
         "showlegend": true,
         "type": "pie",
         "values": [
          9.67,
          13.35,
          19.66,
          3.02,
          4.36,
          11.69,
          209.03,
          130.6,
          3.18,
          0,
          2.55
         ]
        }
       ],
       "layout": {
        "legend": {
         "tracegroupgap": 0
        },
        "piecolorway": [
         "rgb(103,0,31)",
         "rgb(178,24,43)",
         "rgb(214,96,77)",
         "rgb(244,165,130)",
         "rgb(253,219,199)",
         "rgb(247,247,247)",
         "rgb(209,229,240)",
         "rgb(146,197,222)",
         "rgb(67,147,195)",
         "rgb(33,102,172)",
         "rgb(5,48,97)"
        ],
        "template": {
         "data": {
          "bar": [
           {
            "error_x": {
             "color": "#2a3f5f"
            },
            "error_y": {
             "color": "#2a3f5f"
            },
            "marker": {
             "line": {
              "color": "#E5ECF6",
              "width": 0.5
             }
            },
            "type": "bar"
           }
          ],
          "barpolar": [
           {
            "marker": {
             "line": {
              "color": "#E5ECF6",
              "width": 0.5
             }
            },
            "type": "barpolar"
           }
          ],
          "carpet": [
           {
            "aaxis": {
             "endlinecolor": "#2a3f5f",
             "gridcolor": "white",
             "linecolor": "white",
             "minorgridcolor": "white",
             "startlinecolor": "#2a3f5f"
            },
            "baxis": {
             "endlinecolor": "#2a3f5f",
             "gridcolor": "white",
             "linecolor": "white",
             "minorgridcolor": "white",
             "startlinecolor": "#2a3f5f"
            },
            "type": "carpet"
           }
          ],
          "choropleth": [
           {
            "colorbar": {
             "outlinewidth": 0,
             "ticks": ""
            },
            "type": "choropleth"
           }
          ],
          "contour": [
           {
            "colorbar": {
             "outlinewidth": 0,
             "ticks": ""
            },
            "colorscale": [
             [
              0,
              "#0d0887"
             ],
             [
              0.1111111111111111,
              "#46039f"
             ],
             [
              0.2222222222222222,
              "#7201a8"
             ],
             [
              0.3333333333333333,
              "#9c179e"
             ],
             [
              0.4444444444444444,
              "#bd3786"
             ],
             [
              0.5555555555555556,
              "#d8576b"
             ],
             [
              0.6666666666666666,
              "#ed7953"
             ],
             [
              0.7777777777777778,
              "#fb9f3a"
             ],
             [
              0.8888888888888888,
              "#fdca26"
             ],
             [
              1,
              "#f0f921"
             ]
            ],
            "type": "contour"
           }
          ],
          "contourcarpet": [
           {
            "colorbar": {
             "outlinewidth": 0,
             "ticks": ""
            },
            "type": "contourcarpet"
           }
          ],
          "heatmap": [
           {
            "colorbar": {
             "outlinewidth": 0,
             "ticks": ""
            },
            "colorscale": [
             [
              0,
              "#0d0887"
             ],
             [
              0.1111111111111111,
              "#46039f"
             ],
             [
              0.2222222222222222,
              "#7201a8"
             ],
             [
              0.3333333333333333,
              "#9c179e"
             ],
             [
              0.4444444444444444,
              "#bd3786"
             ],
             [
              0.5555555555555556,
              "#d8576b"
             ],
             [
              0.6666666666666666,
              "#ed7953"
             ],
             [
              0.7777777777777778,
              "#fb9f3a"
             ],
             [
              0.8888888888888888,
              "#fdca26"
             ],
             [
              1,
              "#f0f921"
             ]
            ],
            "type": "heatmap"
           }
          ],
          "heatmapgl": [
           {
            "colorbar": {
             "outlinewidth": 0,
             "ticks": ""
            },
            "colorscale": [
             [
              0,
              "#0d0887"
             ],
             [
              0.1111111111111111,
              "#46039f"
             ],
             [
              0.2222222222222222,
              "#7201a8"
             ],
             [
              0.3333333333333333,
              "#9c179e"
             ],
             [
              0.4444444444444444,
              "#bd3786"
             ],
             [
              0.5555555555555556,
              "#d8576b"
             ],
             [
              0.6666666666666666,
              "#ed7953"
             ],
             [
              0.7777777777777778,
              "#fb9f3a"
             ],
             [
              0.8888888888888888,
              "#fdca26"
             ],
             [
              1,
              "#f0f921"
             ]
            ],
            "type": "heatmapgl"
           }
          ],
          "histogram": [
           {
            "marker": {
             "colorbar": {
              "outlinewidth": 0,
              "ticks": ""
             }
            },
            "type": "histogram"
           }
          ],
          "histogram2d": [
           {
            "colorbar": {
             "outlinewidth": 0,
             "ticks": ""
            },
            "colorscale": [
             [
              0,
              "#0d0887"
             ],
             [
              0.1111111111111111,
              "#46039f"
             ],
             [
              0.2222222222222222,
              "#7201a8"
             ],
             [
              0.3333333333333333,
              "#9c179e"
             ],
             [
              0.4444444444444444,
              "#bd3786"
             ],
             [
              0.5555555555555556,
              "#d8576b"
             ],
             [
              0.6666666666666666,
              "#ed7953"
             ],
             [
              0.7777777777777778,
              "#fb9f3a"
             ],
             [
              0.8888888888888888,
              "#fdca26"
             ],
             [
              1,
              "#f0f921"
             ]
            ],
            "type": "histogram2d"
           }
          ],
          "histogram2dcontour": [
           {
            "colorbar": {
             "outlinewidth": 0,
             "ticks": ""
            },
            "colorscale": [
             [
              0,
              "#0d0887"
             ],
             [
              0.1111111111111111,
              "#46039f"
             ],
             [
              0.2222222222222222,
              "#7201a8"
             ],
             [
              0.3333333333333333,
              "#9c179e"
             ],
             [
              0.4444444444444444,
              "#bd3786"
             ],
             [
              0.5555555555555556,
              "#d8576b"
             ],
             [
              0.6666666666666666,
              "#ed7953"
             ],
             [
              0.7777777777777778,
              "#fb9f3a"
             ],
             [
              0.8888888888888888,
              "#fdca26"
             ],
             [
              1,
              "#f0f921"
             ]
            ],
            "type": "histogram2dcontour"
           }
          ],
          "mesh3d": [
           {
            "colorbar": {
             "outlinewidth": 0,
             "ticks": ""
            },
            "type": "mesh3d"
           }
          ],
          "parcoords": [
           {
            "line": {
             "colorbar": {
              "outlinewidth": 0,
              "ticks": ""
             }
            },
            "type": "parcoords"
           }
          ],
          "pie": [
           {
            "automargin": true,
            "type": "pie"
           }
          ],
          "scatter": [
           {
            "marker": {
             "colorbar": {
              "outlinewidth": 0,
              "ticks": ""
             }
            },
            "type": "scatter"
           }
          ],
          "scatter3d": [
           {
            "line": {
             "colorbar": {
              "outlinewidth": 0,
              "ticks": ""
             }
            },
            "marker": {
             "colorbar": {
              "outlinewidth": 0,
              "ticks": ""
             }
            },
            "type": "scatter3d"
           }
          ],
          "scattercarpet": [
           {
            "marker": {
             "colorbar": {
              "outlinewidth": 0,
              "ticks": ""
             }
            },
            "type": "scattercarpet"
           }
          ],
          "scattergeo": [
           {
            "marker": {
             "colorbar": {
              "outlinewidth": 0,
              "ticks": ""
             }
            },
            "type": "scattergeo"
           }
          ],
          "scattergl": [
           {
            "marker": {
             "colorbar": {
              "outlinewidth": 0,
              "ticks": ""
             }
            },
            "type": "scattergl"
           }
          ],
          "scattermapbox": [
           {
            "marker": {
             "colorbar": {
              "outlinewidth": 0,
              "ticks": ""
             }
            },
            "type": "scattermapbox"
           }
          ],
          "scatterpolar": [
           {
            "marker": {
             "colorbar": {
              "outlinewidth": 0,
              "ticks": ""
             }
            },
            "type": "scatterpolar"
           }
          ],
          "scatterpolargl": [
           {
            "marker": {
             "colorbar": {
              "outlinewidth": 0,
              "ticks": ""
             }
            },
            "type": "scatterpolargl"
           }
          ],
          "scatterternary": [
           {
            "marker": {
             "colorbar": {
              "outlinewidth": 0,
              "ticks": ""
             }
            },
            "type": "scatterternary"
           }
          ],
          "surface": [
           {
            "colorbar": {
             "outlinewidth": 0,
             "ticks": ""
            },
            "colorscale": [
             [
              0,
              "#0d0887"
             ],
             [
              0.1111111111111111,
              "#46039f"
             ],
             [
              0.2222222222222222,
              "#7201a8"
             ],
             [
              0.3333333333333333,
              "#9c179e"
             ],
             [
              0.4444444444444444,
              "#bd3786"
             ],
             [
              0.5555555555555556,
              "#d8576b"
             ],
             [
              0.6666666666666666,
              "#ed7953"
             ],
             [
              0.7777777777777778,
              "#fb9f3a"
             ],
             [
              0.8888888888888888,
              "#fdca26"
             ],
             [
              1,
              "#f0f921"
             ]
            ],
            "type": "surface"
           }
          ],
          "table": [
           {
            "cells": {
             "fill": {
              "color": "#EBF0F8"
             },
             "line": {
              "color": "white"
             }
            },
            "header": {
             "fill": {
              "color": "#C8D4E3"
             },
             "line": {
              "color": "white"
             }
            },
            "type": "table"
           }
          ]
         },
         "layout": {
          "annotationdefaults": {
           "arrowcolor": "#2a3f5f",
           "arrowhead": 0,
           "arrowwidth": 1
          },
          "autotypenumbers": "strict",
          "coloraxis": {
           "colorbar": {
            "outlinewidth": 0,
            "ticks": ""
           }
          },
          "colorscale": {
           "diverging": [
            [
             0,
             "#8e0152"
            ],
            [
             0.1,
             "#c51b7d"
            ],
            [
             0.2,
             "#de77ae"
            ],
            [
             0.3,
             "#f1b6da"
            ],
            [
             0.4,
             "#fde0ef"
            ],
            [
             0.5,
             "#f7f7f7"
            ],
            [
             0.6,
             "#e6f5d0"
            ],
            [
             0.7,
             "#b8e186"
            ],
            [
             0.8,
             "#7fbc41"
            ],
            [
             0.9,
             "#4d9221"
            ],
            [
             1,
             "#276419"
            ]
           ],
           "sequential": [
            [
             0,
             "#0d0887"
            ],
            [
             0.1111111111111111,
             "#46039f"
            ],
            [
             0.2222222222222222,
             "#7201a8"
            ],
            [
             0.3333333333333333,
             "#9c179e"
            ],
            [
             0.4444444444444444,
             "#bd3786"
            ],
            [
             0.5555555555555556,
             "#d8576b"
            ],
            [
             0.6666666666666666,
             "#ed7953"
            ],
            [
             0.7777777777777778,
             "#fb9f3a"
            ],
            [
             0.8888888888888888,
             "#fdca26"
            ],
            [
             1,
             "#f0f921"
            ]
           ],
           "sequentialminus": [
            [
             0,
             "#0d0887"
            ],
            [
             0.1111111111111111,
             "#46039f"
            ],
            [
             0.2222222222222222,
             "#7201a8"
            ],
            [
             0.3333333333333333,
             "#9c179e"
            ],
            [
             0.4444444444444444,
             "#bd3786"
            ],
            [
             0.5555555555555556,
             "#d8576b"
            ],
            [
             0.6666666666666666,
             "#ed7953"
            ],
            [
             0.7777777777777778,
             "#fb9f3a"
            ],
            [
             0.8888888888888888,
             "#fdca26"
            ],
            [
             1,
             "#f0f921"
            ]
           ]
          },
          "colorway": [
           "#636efa",
           "#EF553B",
           "#00cc96",
           "#ab63fa",
           "#FFA15A",
           "#19d3f3",
           "#FF6692",
           "#B6E880",
           "#FF97FF",
           "#FECB52"
          ],
          "font": {
           "color": "#2a3f5f"
          },
          "geo": {
           "bgcolor": "white",
           "lakecolor": "white",
           "landcolor": "#E5ECF6",
           "showlakes": true,
           "showland": true,
           "subunitcolor": "white"
          },
          "hoverlabel": {
           "align": "left"
          },
          "hovermode": "closest",
          "mapbox": {
           "style": "light"
          },
          "paper_bgcolor": "white",
          "plot_bgcolor": "#E5ECF6",
          "polar": {
           "angularaxis": {
            "gridcolor": "white",
            "linecolor": "white",
            "ticks": ""
           },
           "bgcolor": "#E5ECF6",
           "radialaxis": {
            "gridcolor": "white",
            "linecolor": "white",
            "ticks": ""
           }
          },
          "scene": {
           "xaxis": {
            "backgroundcolor": "#E5ECF6",
            "gridcolor": "white",
            "gridwidth": 2,
            "linecolor": "white",
            "showbackground": true,
            "ticks": "",
            "zerolinecolor": "white"
           },
           "yaxis": {
            "backgroundcolor": "#E5ECF6",
            "gridcolor": "white",
            "gridwidth": 2,
            "linecolor": "white",
            "showbackground": true,
            "ticks": "",
            "zerolinecolor": "white"
           },
           "zaxis": {
            "backgroundcolor": "#E5ECF6",
            "gridcolor": "white",
            "gridwidth": 2,
            "linecolor": "white",
            "showbackground": true,
            "ticks": "",
            "zerolinecolor": "white"
           }
          },
          "shapedefaults": {
           "line": {
            "color": "#2a3f5f"
           }
          },
          "ternary": {
           "aaxis": {
            "gridcolor": "white",
            "linecolor": "white",
            "ticks": ""
           },
           "baxis": {
            "gridcolor": "white",
            "linecolor": "white",
            "ticks": ""
           },
           "bgcolor": "#E5ECF6",
           "caxis": {
            "gridcolor": "white",
            "linecolor": "white",
            "ticks": ""
           }
          },
          "title": {
           "x": 0.05
          },
          "xaxis": {
           "automargin": true,
           "gridcolor": "white",
           "linecolor": "white",
           "ticks": "",
           "title": {
            "standoff": 15
           },
           "zerolinecolor": "white",
           "zerolinewidth": 2
          },
          "yaxis": {
           "automargin": true,
           "gridcolor": "white",
           "linecolor": "white",
           "ticks": "",
           "title": {
            "standoff": 15
           },
           "zerolinecolor": "white",
           "zerolinewidth": 2
          }
         }
        },
        "title": {
         "text": "Product Consumption in Armenia"
        }
       }
      },
      "text/html": [
       "<div>                            <div id=\"c82fe9a9-4dee-4639-9fc3-d829bbce78c8\" class=\"plotly-graph-div\" style=\"height:525px; width:100%;\"></div>            <script type=\"text/javascript\">                require([\"plotly\"], function(Plotly) {                    window.PLOTLYENV=window.PLOTLYENV || {};                                    if (document.getElementById(\"c82fe9a9-4dee-4639-9fc3-d829bbce78c8\")) {                    Plotly.newPlot(                        \"c82fe9a9-4dee-4639-9fc3-d829bbce78c8\",                        [{\"domain\": {\"x\": [0.0, 1.0], \"y\": [0.0, 1.0]}, \"hovertemplate\": \"food_category=%{label}<br>consumption=%{value}<extra></extra>\", \"labels\": [\"Pork\", \"Poultry\", \"Beef\", \"Lamb & Goat\", \"Fish\", \"Eggs\", \"Milk - inc. cheese\", \"Wheat and Wheat Products\", \"Rice\", \"Soybeans\", \"Nuts inc. Peanut Butter\"], \"legendgroup\": \"\", \"name\": \"\", \"showlegend\": true, \"type\": \"pie\", \"values\": [9.67, 13.35, 19.66, 3.02, 4.36, 11.69, 209.03, 130.6, 3.18, 0.0, 2.55]}],                        {\"legend\": {\"tracegroupgap\": 0}, \"piecolorway\": [\"rgb(103,0,31)\", \"rgb(178,24,43)\", \"rgb(214,96,77)\", \"rgb(244,165,130)\", \"rgb(253,219,199)\", \"rgb(247,247,247)\", \"rgb(209,229,240)\", \"rgb(146,197,222)\", \"rgb(67,147,195)\", \"rgb(33,102,172)\", \"rgb(5,48,97)\"], \"template\": {\"data\": {\"bar\": [{\"error_x\": {\"color\": \"#2a3f5f\"}, \"error_y\": {\"color\": \"#2a3f5f\"}, \"marker\": {\"line\": {\"color\": \"#E5ECF6\", \"width\": 0.5}}, \"type\": \"bar\"}], \"barpolar\": [{\"marker\": {\"line\": {\"color\": \"#E5ECF6\", \"width\": 0.5}}, \"type\": \"barpolar\"}], \"carpet\": [{\"aaxis\": {\"endlinecolor\": \"#2a3f5f\", \"gridcolor\": \"white\", \"linecolor\": \"white\", \"minorgridcolor\": \"white\", \"startlinecolor\": \"#2a3f5f\"}, \"baxis\": {\"endlinecolor\": \"#2a3f5f\", \"gridcolor\": \"white\", \"linecolor\": \"white\", \"minorgridcolor\": \"white\", \"startlinecolor\": \"#2a3f5f\"}, \"type\": \"carpet\"}], \"choropleth\": [{\"colorbar\": {\"outlinewidth\": 0, \"ticks\": \"\"}, \"type\": \"choropleth\"}], \"contour\": [{\"colorbar\": {\"outlinewidth\": 0, \"ticks\": \"\"}, \"colorscale\": [[0.0, \"#0d0887\"], [0.1111111111111111, \"#46039f\"], [0.2222222222222222, \"#7201a8\"], [0.3333333333333333, \"#9c179e\"], [0.4444444444444444, \"#bd3786\"], [0.5555555555555556, \"#d8576b\"], [0.6666666666666666, \"#ed7953\"], [0.7777777777777778, \"#fb9f3a\"], [0.8888888888888888, \"#fdca26\"], [1.0, \"#f0f921\"]], \"type\": \"contour\"}], \"contourcarpet\": [{\"colorbar\": {\"outlinewidth\": 0, \"ticks\": \"\"}, \"type\": \"contourcarpet\"}], \"heatmap\": [{\"colorbar\": {\"outlinewidth\": 0, \"ticks\": \"\"}, \"colorscale\": [[0.0, \"#0d0887\"], [0.1111111111111111, \"#46039f\"], [0.2222222222222222, \"#7201a8\"], [0.3333333333333333, \"#9c179e\"], [0.4444444444444444, \"#bd3786\"], [0.5555555555555556, \"#d8576b\"], [0.6666666666666666, \"#ed7953\"], [0.7777777777777778, \"#fb9f3a\"], [0.8888888888888888, \"#fdca26\"], [1.0, \"#f0f921\"]], \"type\": \"heatmap\"}], \"heatmapgl\": [{\"colorbar\": {\"outlinewidth\": 0, \"ticks\": \"\"}, \"colorscale\": [[0.0, \"#0d0887\"], [0.1111111111111111, \"#46039f\"], [0.2222222222222222, \"#7201a8\"], [0.3333333333333333, \"#9c179e\"], [0.4444444444444444, \"#bd3786\"], [0.5555555555555556, \"#d8576b\"], [0.6666666666666666, \"#ed7953\"], [0.7777777777777778, \"#fb9f3a\"], [0.8888888888888888, \"#fdca26\"], [1.0, \"#f0f921\"]], \"type\": \"heatmapgl\"}], \"histogram\": [{\"marker\": {\"colorbar\": {\"outlinewidth\": 0, \"ticks\": \"\"}}, \"type\": \"histogram\"}], \"histogram2d\": [{\"colorbar\": {\"outlinewidth\": 0, \"ticks\": \"\"}, \"colorscale\": [[0.0, \"#0d0887\"], [0.1111111111111111, \"#46039f\"], [0.2222222222222222, \"#7201a8\"], [0.3333333333333333, \"#9c179e\"], [0.4444444444444444, \"#bd3786\"], [0.5555555555555556, \"#d8576b\"], [0.6666666666666666, \"#ed7953\"], [0.7777777777777778, \"#fb9f3a\"], [0.8888888888888888, \"#fdca26\"], [1.0, \"#f0f921\"]], \"type\": \"histogram2d\"}], \"histogram2dcontour\": [{\"colorbar\": {\"outlinewidth\": 0, \"ticks\": \"\"}, \"colorscale\": [[0.0, \"#0d0887\"], [0.1111111111111111, \"#46039f\"], [0.2222222222222222, \"#7201a8\"], [0.3333333333333333, \"#9c179e\"], [0.4444444444444444, \"#bd3786\"], [0.5555555555555556, \"#d8576b\"], [0.6666666666666666, \"#ed7953\"], [0.7777777777777778, \"#fb9f3a\"], [0.8888888888888888, \"#fdca26\"], [1.0, \"#f0f921\"]], \"type\": \"histogram2dcontour\"}], \"mesh3d\": [{\"colorbar\": {\"outlinewidth\": 0, \"ticks\": \"\"}, \"type\": \"mesh3d\"}], \"parcoords\": [{\"line\": {\"colorbar\": {\"outlinewidth\": 0, \"ticks\": \"\"}}, \"type\": \"parcoords\"}], \"pie\": [{\"automargin\": true, \"type\": \"pie\"}], \"scatter\": [{\"marker\": {\"colorbar\": {\"outlinewidth\": 0, \"ticks\": \"\"}}, \"type\": \"scatter\"}], \"scatter3d\": [{\"line\": {\"colorbar\": {\"outlinewidth\": 0, \"ticks\": \"\"}}, \"marker\": {\"colorbar\": {\"outlinewidth\": 0, \"ticks\": \"\"}}, \"type\": \"scatter3d\"}], \"scattercarpet\": [{\"marker\": {\"colorbar\": {\"outlinewidth\": 0, \"ticks\": \"\"}}, \"type\": \"scattercarpet\"}], \"scattergeo\": [{\"marker\": {\"colorbar\": {\"outlinewidth\": 0, \"ticks\": \"\"}}, \"type\": \"scattergeo\"}], \"scattergl\": [{\"marker\": {\"colorbar\": {\"outlinewidth\": 0, \"ticks\": \"\"}}, \"type\": \"scattergl\"}], \"scattermapbox\": [{\"marker\": {\"colorbar\": {\"outlinewidth\": 0, \"ticks\": \"\"}}, \"type\": \"scattermapbox\"}], \"scatterpolar\": [{\"marker\": {\"colorbar\": {\"outlinewidth\": 0, \"ticks\": \"\"}}, \"type\": \"scatterpolar\"}], \"scatterpolargl\": [{\"marker\": {\"colorbar\": {\"outlinewidth\": 0, \"ticks\": \"\"}}, \"type\": \"scatterpolargl\"}], \"scatterternary\": [{\"marker\": {\"colorbar\": {\"outlinewidth\": 0, \"ticks\": \"\"}}, \"type\": \"scatterternary\"}], \"surface\": [{\"colorbar\": {\"outlinewidth\": 0, \"ticks\": \"\"}, \"colorscale\": [[0.0, \"#0d0887\"], [0.1111111111111111, \"#46039f\"], [0.2222222222222222, \"#7201a8\"], [0.3333333333333333, \"#9c179e\"], [0.4444444444444444, \"#bd3786\"], [0.5555555555555556, \"#d8576b\"], [0.6666666666666666, \"#ed7953\"], [0.7777777777777778, \"#fb9f3a\"], [0.8888888888888888, \"#fdca26\"], [1.0, \"#f0f921\"]], \"type\": \"surface\"}], \"table\": [{\"cells\": {\"fill\": {\"color\": \"#EBF0F8\"}, \"line\": {\"color\": \"white\"}}, \"header\": {\"fill\": {\"color\": \"#C8D4E3\"}, \"line\": {\"color\": \"white\"}}, \"type\": \"table\"}]}, \"layout\": {\"annotationdefaults\": {\"arrowcolor\": \"#2a3f5f\", \"arrowhead\": 0, \"arrowwidth\": 1}, \"autotypenumbers\": \"strict\", \"coloraxis\": {\"colorbar\": {\"outlinewidth\": 0, \"ticks\": \"\"}}, \"colorscale\": {\"diverging\": [[0, \"#8e0152\"], [0.1, \"#c51b7d\"], [0.2, \"#de77ae\"], [0.3, \"#f1b6da\"], [0.4, \"#fde0ef\"], [0.5, \"#f7f7f7\"], [0.6, \"#e6f5d0\"], [0.7, \"#b8e186\"], [0.8, \"#7fbc41\"], [0.9, \"#4d9221\"], [1, \"#276419\"]], \"sequential\": [[0.0, \"#0d0887\"], [0.1111111111111111, \"#46039f\"], [0.2222222222222222, \"#7201a8\"], [0.3333333333333333, \"#9c179e\"], [0.4444444444444444, \"#bd3786\"], [0.5555555555555556, \"#d8576b\"], [0.6666666666666666, \"#ed7953\"], [0.7777777777777778, \"#fb9f3a\"], [0.8888888888888888, \"#fdca26\"], [1.0, \"#f0f921\"]], \"sequentialminus\": [[0.0, \"#0d0887\"], [0.1111111111111111, \"#46039f\"], [0.2222222222222222, \"#7201a8\"], [0.3333333333333333, \"#9c179e\"], [0.4444444444444444, \"#bd3786\"], [0.5555555555555556, \"#d8576b\"], [0.6666666666666666, \"#ed7953\"], [0.7777777777777778, \"#fb9f3a\"], [0.8888888888888888, \"#fdca26\"], [1.0, \"#f0f921\"]]}, \"colorway\": [\"#636efa\", \"#EF553B\", \"#00cc96\", \"#ab63fa\", \"#FFA15A\", \"#19d3f3\", \"#FF6692\", \"#B6E880\", \"#FF97FF\", \"#FECB52\"], \"font\": {\"color\": \"#2a3f5f\"}, \"geo\": {\"bgcolor\": \"white\", \"lakecolor\": \"white\", \"landcolor\": \"#E5ECF6\", \"showlakes\": true, \"showland\": true, \"subunitcolor\": \"white\"}, \"hoverlabel\": {\"align\": \"left\"}, \"hovermode\": \"closest\", \"mapbox\": {\"style\": \"light\"}, \"paper_bgcolor\": \"white\", \"plot_bgcolor\": \"#E5ECF6\", \"polar\": {\"angularaxis\": {\"gridcolor\": \"white\", \"linecolor\": \"white\", \"ticks\": \"\"}, \"bgcolor\": \"#E5ECF6\", \"radialaxis\": {\"gridcolor\": \"white\", \"linecolor\": \"white\", \"ticks\": \"\"}}, \"scene\": {\"xaxis\": {\"backgroundcolor\": \"#E5ECF6\", \"gridcolor\": \"white\", \"gridwidth\": 2, \"linecolor\": \"white\", \"showbackground\": true, \"ticks\": \"\", \"zerolinecolor\": \"white\"}, \"yaxis\": {\"backgroundcolor\": \"#E5ECF6\", \"gridcolor\": \"white\", \"gridwidth\": 2, \"linecolor\": \"white\", \"showbackground\": true, \"ticks\": \"\", \"zerolinecolor\": \"white\"}, \"zaxis\": {\"backgroundcolor\": \"#E5ECF6\", \"gridcolor\": \"white\", \"gridwidth\": 2, \"linecolor\": \"white\", \"showbackground\": true, \"ticks\": \"\", \"zerolinecolor\": \"white\"}}, \"shapedefaults\": {\"line\": {\"color\": \"#2a3f5f\"}}, \"ternary\": {\"aaxis\": {\"gridcolor\": \"white\", \"linecolor\": \"white\", \"ticks\": \"\"}, \"baxis\": {\"gridcolor\": \"white\", \"linecolor\": \"white\", \"ticks\": \"\"}, \"bgcolor\": \"#E5ECF6\", \"caxis\": {\"gridcolor\": \"white\", \"linecolor\": \"white\", \"ticks\": \"\"}}, \"title\": {\"x\": 0.05}, \"xaxis\": {\"automargin\": true, \"gridcolor\": \"white\", \"linecolor\": \"white\", \"ticks\": \"\", \"title\": {\"standoff\": 15}, \"zerolinecolor\": \"white\", \"zerolinewidth\": 2}, \"yaxis\": {\"automargin\": true, \"gridcolor\": \"white\", \"linecolor\": \"white\", \"ticks\": \"\", \"title\": {\"standoff\": 15}, \"zerolinecolor\": \"white\", \"zerolinewidth\": 2}}}, \"title\": {\"text\": \"Product Consumption in Armenia\"}},                        {\"responsive\": true}                    ).then(function(){\n",
       "                            \n",
       "var gd = document.getElementById('c82fe9a9-4dee-4639-9fc3-d829bbce78c8');\n",
       "var x = new MutationObserver(function (mutations, observer) {{\n",
       "        var display = window.getComputedStyle(gd).display;\n",
       "        if (!display || display === 'none') {{\n",
       "            console.log([gd, 'removed!']);\n",
       "            Plotly.purge(gd);\n",
       "            observer.disconnect();\n",
       "        }}\n",
       "}});\n",
       "\n",
       "// Listen for the removal of the full notebook cells\n",
       "var notebookContainer = gd.closest('#notebook-container');\n",
       "if (notebookContainer) {{\n",
       "    x.observe(notebookContainer, {childList: true});\n",
       "}}\n",
       "\n",
       "// Listen for the clearing of the current output cell\n",
       "var outputEl = gd.closest('.output');\n",
       "if (outputEl) {{\n",
       "    x.observe(outputEl, {childList: true});\n",
       "}}\n",
       "\n",
       "                        })                };                });            </script>        </div>"
      ]
     },
     "metadata": {},
     "output_type": "display_data"
    },
    {
     "data": {
      "application/vnd.plotly.v1+json": {
       "config": {
        "plotlyServerURL": "https://plot.ly"
       },
       "data": [
        {
         "domain": {
          "x": [
           0,
           1
          ],
          "y": [
           0,
           1
          ]
         },
         "hovertemplate": "food_category=%{label}<br>consumption=%{value}<extra></extra>",
         "labels": [
          "Pork",
          "Poultry",
          "Beef",
          "Lamb & Goat",
          "Fish",
          "Eggs",
          "Milk - inc. cheese",
          "Wheat and Wheat Products",
          "Rice",
          "Soybeans",
          "Nuts inc. Peanut Butter"
         ],
         "legendgroup": "",
         "name": "",
         "showlegend": true,
         "type": "pie",
         "values": [
          0.01,
          18.78,
          11.64,
          4.68,
          5.58,
          8.2,
          193.94,
          169.96,
          10.74,
          1.71,
          7.97
         ]
        }
       ],
       "layout": {
        "legend": {
         "tracegroupgap": 0
        },
        "piecolorway": [
         "rgb(103,0,31)",
         "rgb(178,24,43)",
         "rgb(214,96,77)",
         "rgb(244,165,130)",
         "rgb(253,219,199)",
         "rgb(247,247,247)",
         "rgb(209,229,240)",
         "rgb(146,197,222)",
         "rgb(67,147,195)",
         "rgb(33,102,172)",
         "rgb(5,48,97)"
        ],
        "template": {
         "data": {
          "bar": [
           {
            "error_x": {
             "color": "#2a3f5f"
            },
            "error_y": {
             "color": "#2a3f5f"
            },
            "marker": {
             "line": {
              "color": "#E5ECF6",
              "width": 0.5
             }
            },
            "type": "bar"
           }
          ],
          "barpolar": [
           {
            "marker": {
             "line": {
              "color": "#E5ECF6",
              "width": 0.5
             }
            },
            "type": "barpolar"
           }
          ],
          "carpet": [
           {
            "aaxis": {
             "endlinecolor": "#2a3f5f",
             "gridcolor": "white",
             "linecolor": "white",
             "minorgridcolor": "white",
             "startlinecolor": "#2a3f5f"
            },
            "baxis": {
             "endlinecolor": "#2a3f5f",
             "gridcolor": "white",
             "linecolor": "white",
             "minorgridcolor": "white",
             "startlinecolor": "#2a3f5f"
            },
            "type": "carpet"
           }
          ],
          "choropleth": [
           {
            "colorbar": {
             "outlinewidth": 0,
             "ticks": ""
            },
            "type": "choropleth"
           }
          ],
          "contour": [
           {
            "colorbar": {
             "outlinewidth": 0,
             "ticks": ""
            },
            "colorscale": [
             [
              0,
              "#0d0887"
             ],
             [
              0.1111111111111111,
              "#46039f"
             ],
             [
              0.2222222222222222,
              "#7201a8"
             ],
             [
              0.3333333333333333,
              "#9c179e"
             ],
             [
              0.4444444444444444,
              "#bd3786"
             ],
             [
              0.5555555555555556,
              "#d8576b"
             ],
             [
              0.6666666666666666,
              "#ed7953"
             ],
             [
              0.7777777777777778,
              "#fb9f3a"
             ],
             [
              0.8888888888888888,
              "#fdca26"
             ],
             [
              1,
              "#f0f921"
             ]
            ],
            "type": "contour"
           }
          ],
          "contourcarpet": [
           {
            "colorbar": {
             "outlinewidth": 0,
             "ticks": ""
            },
            "type": "contourcarpet"
           }
          ],
          "heatmap": [
           {
            "colorbar": {
             "outlinewidth": 0,
             "ticks": ""
            },
            "colorscale": [
             [
              0,
              "#0d0887"
             ],
             [
              0.1111111111111111,
              "#46039f"
             ],
             [
              0.2222222222222222,
              "#7201a8"
             ],
             [
              0.3333333333333333,
              "#9c179e"
             ],
             [
              0.4444444444444444,
              "#bd3786"
             ],
             [
              0.5555555555555556,
              "#d8576b"
             ],
             [
              0.6666666666666666,
              "#ed7953"
             ],
             [
              0.7777777777777778,
              "#fb9f3a"
             ],
             [
              0.8888888888888888,
              "#fdca26"
             ],
             [
              1,
              "#f0f921"
             ]
            ],
            "type": "heatmap"
           }
          ],
          "heatmapgl": [
           {
            "colorbar": {
             "outlinewidth": 0,
             "ticks": ""
            },
            "colorscale": [
             [
              0,
              "#0d0887"
             ],
             [
              0.1111111111111111,
              "#46039f"
             ],
             [
              0.2222222222222222,
              "#7201a8"
             ],
             [
              0.3333333333333333,
              "#9c179e"
             ],
             [
              0.4444444444444444,
              "#bd3786"
             ],
             [
              0.5555555555555556,
              "#d8576b"
             ],
             [
              0.6666666666666666,
              "#ed7953"
             ],
             [
              0.7777777777777778,
              "#fb9f3a"
             ],
             [
              0.8888888888888888,
              "#fdca26"
             ],
             [
              1,
              "#f0f921"
             ]
            ],
            "type": "heatmapgl"
           }
          ],
          "histogram": [
           {
            "marker": {
             "colorbar": {
              "outlinewidth": 0,
              "ticks": ""
             }
            },
            "type": "histogram"
           }
          ],
          "histogram2d": [
           {
            "colorbar": {
             "outlinewidth": 0,
             "ticks": ""
            },
            "colorscale": [
             [
              0,
              "#0d0887"
             ],
             [
              0.1111111111111111,
              "#46039f"
             ],
             [
              0.2222222222222222,
              "#7201a8"
             ],
             [
              0.3333333333333333,
              "#9c179e"
             ],
             [
              0.4444444444444444,
              "#bd3786"
             ],
             [
              0.5555555555555556,
              "#d8576b"
             ],
             [
              0.6666666666666666,
              "#ed7953"
             ],
             [
              0.7777777777777778,
              "#fb9f3a"
             ],
             [
              0.8888888888888888,
              "#fdca26"
             ],
             [
              1,
              "#f0f921"
             ]
            ],
            "type": "histogram2d"
           }
          ],
          "histogram2dcontour": [
           {
            "colorbar": {
             "outlinewidth": 0,
             "ticks": ""
            },
            "colorscale": [
             [
              0,
              "#0d0887"
             ],
             [
              0.1111111111111111,
              "#46039f"
             ],
             [
              0.2222222222222222,
              "#7201a8"
             ],
             [
              0.3333333333333333,
              "#9c179e"
             ],
             [
              0.4444444444444444,
              "#bd3786"
             ],
             [
              0.5555555555555556,
              "#d8576b"
             ],
             [
              0.6666666666666666,
              "#ed7953"
             ],
             [
              0.7777777777777778,
              "#fb9f3a"
             ],
             [
              0.8888888888888888,
              "#fdca26"
             ],
             [
              1,
              "#f0f921"
             ]
            ],
            "type": "histogram2dcontour"
           }
          ],
          "mesh3d": [
           {
            "colorbar": {
             "outlinewidth": 0,
             "ticks": ""
            },
            "type": "mesh3d"
           }
          ],
          "parcoords": [
           {
            "line": {
             "colorbar": {
              "outlinewidth": 0,
              "ticks": ""
             }
            },
            "type": "parcoords"
           }
          ],
          "pie": [
           {
            "automargin": true,
            "type": "pie"
           }
          ],
          "scatter": [
           {
            "marker": {
             "colorbar": {
              "outlinewidth": 0,
              "ticks": ""
             }
            },
            "type": "scatter"
           }
          ],
          "scatter3d": [
           {
            "line": {
             "colorbar": {
              "outlinewidth": 0,
              "ticks": ""
             }
            },
            "marker": {
             "colorbar": {
              "outlinewidth": 0,
              "ticks": ""
             }
            },
            "type": "scatter3d"
           }
          ],
          "scattercarpet": [
           {
            "marker": {
             "colorbar": {
              "outlinewidth": 0,
              "ticks": ""
             }
            },
            "type": "scattercarpet"
           }
          ],
          "scattergeo": [
           {
            "marker": {
             "colorbar": {
              "outlinewidth": 0,
              "ticks": ""
             }
            },
            "type": "scattergeo"
           }
          ],
          "scattergl": [
           {
            "marker": {
             "colorbar": {
              "outlinewidth": 0,
              "ticks": ""
             }
            },
            "type": "scattergl"
           }
          ],
          "scattermapbox": [
           {
            "marker": {
             "colorbar": {
              "outlinewidth": 0,
              "ticks": ""
             }
            },
            "type": "scattermapbox"
           }
          ],
          "scatterpolar": [
           {
            "marker": {
             "colorbar": {
              "outlinewidth": 0,
              "ticks": ""
             }
            },
            "type": "scatterpolar"
           }
          ],
          "scatterpolargl": [
           {
            "marker": {
             "colorbar": {
              "outlinewidth": 0,
              "ticks": ""
             }
            },
            "type": "scatterpolargl"
           }
          ],
          "scatterternary": [
           {
            "marker": {
             "colorbar": {
              "outlinewidth": 0,
              "ticks": ""
             }
            },
            "type": "scatterternary"
           }
          ],
          "surface": [
           {
            "colorbar": {
             "outlinewidth": 0,
             "ticks": ""
            },
            "colorscale": [
             [
              0,
              "#0d0887"
             ],
             [
              0.1111111111111111,
              "#46039f"
             ],
             [
              0.2222222222222222,
              "#7201a8"
             ],
             [
              0.3333333333333333,
              "#9c179e"
             ],
             [
              0.4444444444444444,
              "#bd3786"
             ],
             [
              0.5555555555555556,
              "#d8576b"
             ],
             [
              0.6666666666666666,
              "#ed7953"
             ],
             [
              0.7777777777777778,
              "#fb9f3a"
             ],
             [
              0.8888888888888888,
              "#fdca26"
             ],
             [
              1,
              "#f0f921"
             ]
            ],
            "type": "surface"
           }
          ],
          "table": [
           {
            "cells": {
             "fill": {
              "color": "#EBF0F8"
             },
             "line": {
              "color": "white"
             }
            },
            "header": {
             "fill": {
              "color": "#C8D4E3"
             },
             "line": {
              "color": "white"
             }
            },
            "type": "table"
           }
          ]
         },
         "layout": {
          "annotationdefaults": {
           "arrowcolor": "#2a3f5f",
           "arrowhead": 0,
           "arrowwidth": 1
          },
          "autotypenumbers": "strict",
          "coloraxis": {
           "colorbar": {
            "outlinewidth": 0,
            "ticks": ""
           }
          },
          "colorscale": {
           "diverging": [
            [
             0,
             "#8e0152"
            ],
            [
             0.1,
             "#c51b7d"
            ],
            [
             0.2,
             "#de77ae"
            ],
            [
             0.3,
             "#f1b6da"
            ],
            [
             0.4,
             "#fde0ef"
            ],
            [
             0.5,
             "#f7f7f7"
            ],
            [
             0.6,
             "#e6f5d0"
            ],
            [
             0.7,
             "#b8e186"
            ],
            [
             0.8,
             "#7fbc41"
            ],
            [
             0.9,
             "#4d9221"
            ],
            [
             1,
             "#276419"
            ]
           ],
           "sequential": [
            [
             0,
             "#0d0887"
            ],
            [
             0.1111111111111111,
             "#46039f"
            ],
            [
             0.2222222222222222,
             "#7201a8"
            ],
            [
             0.3333333333333333,
             "#9c179e"
            ],
            [
             0.4444444444444444,
             "#bd3786"
            ],
            [
             0.5555555555555556,
             "#d8576b"
            ],
            [
             0.6666666666666666,
             "#ed7953"
            ],
            [
             0.7777777777777778,
             "#fb9f3a"
            ],
            [
             0.8888888888888888,
             "#fdca26"
            ],
            [
             1,
             "#f0f921"
            ]
           ],
           "sequentialminus": [
            [
             0,
             "#0d0887"
            ],
            [
             0.1111111111111111,
             "#46039f"
            ],
            [
             0.2222222222222222,
             "#7201a8"
            ],
            [
             0.3333333333333333,
             "#9c179e"
            ],
            [
             0.4444444444444444,
             "#bd3786"
            ],
            [
             0.5555555555555556,
             "#d8576b"
            ],
            [
             0.6666666666666666,
             "#ed7953"
            ],
            [
             0.7777777777777778,
             "#fb9f3a"
            ],
            [
             0.8888888888888888,
             "#fdca26"
            ],
            [
             1,
             "#f0f921"
            ]
           ]
          },
          "colorway": [
           "#636efa",
           "#EF553B",
           "#00cc96",
           "#ab63fa",
           "#FFA15A",
           "#19d3f3",
           "#FF6692",
           "#B6E880",
           "#FF97FF",
           "#FECB52"
          ],
          "font": {
           "color": "#2a3f5f"
          },
          "geo": {
           "bgcolor": "white",
           "lakecolor": "white",
           "landcolor": "#E5ECF6",
           "showlakes": true,
           "showland": true,
           "subunitcolor": "white"
          },
          "hoverlabel": {
           "align": "left"
          },
          "hovermode": "closest",
          "mapbox": {
           "style": "light"
          },
          "paper_bgcolor": "white",
          "plot_bgcolor": "#E5ECF6",
          "polar": {
           "angularaxis": {
            "gridcolor": "white",
            "linecolor": "white",
            "ticks": ""
           },
           "bgcolor": "#E5ECF6",
           "radialaxis": {
            "gridcolor": "white",
            "linecolor": "white",
            "ticks": ""
           }
          },
          "scene": {
           "xaxis": {
            "backgroundcolor": "#E5ECF6",
            "gridcolor": "white",
            "gridwidth": 2,
            "linecolor": "white",
            "showbackground": true,
            "ticks": "",
            "zerolinecolor": "white"
           },
           "yaxis": {
            "backgroundcolor": "#E5ECF6",
            "gridcolor": "white",
            "gridwidth": 2,
            "linecolor": "white",
            "showbackground": true,
            "ticks": "",
            "zerolinecolor": "white"
           },
           "zaxis": {
            "backgroundcolor": "#E5ECF6",
            "gridcolor": "white",
            "gridwidth": 2,
            "linecolor": "white",
            "showbackground": true,
            "ticks": "",
            "zerolinecolor": "white"
           }
          },
          "shapedefaults": {
           "line": {
            "color": "#2a3f5f"
           }
          },
          "ternary": {
           "aaxis": {
            "gridcolor": "white",
            "linecolor": "white",
            "ticks": ""
           },
           "baxis": {
            "gridcolor": "white",
            "linecolor": "white",
            "ticks": ""
           },
           "bgcolor": "#E5ECF6",
           "caxis": {
            "gridcolor": "white",
            "linecolor": "white",
            "ticks": ""
           }
          },
          "title": {
           "x": 0.05
          },
          "xaxis": {
           "automargin": true,
           "gridcolor": "white",
           "linecolor": "white",
           "ticks": "",
           "title": {
            "standoff": 15
           },
           "zerolinecolor": "white",
           "zerolinewidth": 2
          },
          "yaxis": {
           "automargin": true,
           "gridcolor": "white",
           "linecolor": "white",
           "ticks": "",
           "title": {
            "standoff": 15
           },
           "zerolinecolor": "white",
           "zerolinewidth": 2
          }
         }
        },
        "title": {
         "text": "Product Consumption in Turkey"
        }
       }
      },
      "text/html": [
       "<div>                            <div id=\"947cea64-bb44-4b27-8784-d33dd1ef77e5\" class=\"plotly-graph-div\" style=\"height:525px; width:100%;\"></div>            <script type=\"text/javascript\">                require([\"plotly\"], function(Plotly) {                    window.PLOTLYENV=window.PLOTLYENV || {};                                    if (document.getElementById(\"947cea64-bb44-4b27-8784-d33dd1ef77e5\")) {                    Plotly.newPlot(                        \"947cea64-bb44-4b27-8784-d33dd1ef77e5\",                        [{\"domain\": {\"x\": [0.0, 1.0], \"y\": [0.0, 1.0]}, \"hovertemplate\": \"food_category=%{label}<br>consumption=%{value}<extra></extra>\", \"labels\": [\"Pork\", \"Poultry\", \"Beef\", \"Lamb & Goat\", \"Fish\", \"Eggs\", \"Milk - inc. cheese\", \"Wheat and Wheat Products\", \"Rice\", \"Soybeans\", \"Nuts inc. Peanut Butter\"], \"legendgroup\": \"\", \"name\": \"\", \"showlegend\": true, \"type\": \"pie\", \"values\": [0.01, 18.78, 11.64, 4.68, 5.58, 8.2, 193.94, 169.96, 10.74, 1.71, 7.97]}],                        {\"legend\": {\"tracegroupgap\": 0}, \"piecolorway\": [\"rgb(103,0,31)\", \"rgb(178,24,43)\", \"rgb(214,96,77)\", \"rgb(244,165,130)\", \"rgb(253,219,199)\", \"rgb(247,247,247)\", \"rgb(209,229,240)\", \"rgb(146,197,222)\", \"rgb(67,147,195)\", \"rgb(33,102,172)\", \"rgb(5,48,97)\"], \"template\": {\"data\": {\"bar\": [{\"error_x\": {\"color\": \"#2a3f5f\"}, \"error_y\": {\"color\": \"#2a3f5f\"}, \"marker\": {\"line\": {\"color\": \"#E5ECF6\", \"width\": 0.5}}, \"type\": \"bar\"}], \"barpolar\": [{\"marker\": {\"line\": {\"color\": \"#E5ECF6\", \"width\": 0.5}}, \"type\": \"barpolar\"}], \"carpet\": [{\"aaxis\": {\"endlinecolor\": \"#2a3f5f\", \"gridcolor\": \"white\", \"linecolor\": \"white\", \"minorgridcolor\": \"white\", \"startlinecolor\": \"#2a3f5f\"}, \"baxis\": {\"endlinecolor\": \"#2a3f5f\", \"gridcolor\": \"white\", \"linecolor\": \"white\", \"minorgridcolor\": \"white\", \"startlinecolor\": \"#2a3f5f\"}, \"type\": \"carpet\"}], \"choropleth\": [{\"colorbar\": {\"outlinewidth\": 0, \"ticks\": \"\"}, \"type\": \"choropleth\"}], \"contour\": [{\"colorbar\": {\"outlinewidth\": 0, \"ticks\": \"\"}, \"colorscale\": [[0.0, \"#0d0887\"], [0.1111111111111111, \"#46039f\"], [0.2222222222222222, \"#7201a8\"], [0.3333333333333333, \"#9c179e\"], [0.4444444444444444, \"#bd3786\"], [0.5555555555555556, \"#d8576b\"], [0.6666666666666666, \"#ed7953\"], [0.7777777777777778, \"#fb9f3a\"], [0.8888888888888888, \"#fdca26\"], [1.0, \"#f0f921\"]], \"type\": \"contour\"}], \"contourcarpet\": [{\"colorbar\": {\"outlinewidth\": 0, \"ticks\": \"\"}, \"type\": \"contourcarpet\"}], \"heatmap\": [{\"colorbar\": {\"outlinewidth\": 0, \"ticks\": \"\"}, \"colorscale\": [[0.0, \"#0d0887\"], [0.1111111111111111, \"#46039f\"], [0.2222222222222222, \"#7201a8\"], [0.3333333333333333, \"#9c179e\"], [0.4444444444444444, \"#bd3786\"], [0.5555555555555556, \"#d8576b\"], [0.6666666666666666, \"#ed7953\"], [0.7777777777777778, \"#fb9f3a\"], [0.8888888888888888, \"#fdca26\"], [1.0, \"#f0f921\"]], \"type\": \"heatmap\"}], \"heatmapgl\": [{\"colorbar\": {\"outlinewidth\": 0, \"ticks\": \"\"}, \"colorscale\": [[0.0, \"#0d0887\"], [0.1111111111111111, \"#46039f\"], [0.2222222222222222, \"#7201a8\"], [0.3333333333333333, \"#9c179e\"], [0.4444444444444444, \"#bd3786\"], [0.5555555555555556, \"#d8576b\"], [0.6666666666666666, \"#ed7953\"], [0.7777777777777778, \"#fb9f3a\"], [0.8888888888888888, \"#fdca26\"], [1.0, \"#f0f921\"]], \"type\": \"heatmapgl\"}], \"histogram\": [{\"marker\": {\"colorbar\": {\"outlinewidth\": 0, \"ticks\": \"\"}}, \"type\": \"histogram\"}], \"histogram2d\": [{\"colorbar\": {\"outlinewidth\": 0, \"ticks\": \"\"}, \"colorscale\": [[0.0, \"#0d0887\"], [0.1111111111111111, \"#46039f\"], [0.2222222222222222, \"#7201a8\"], [0.3333333333333333, \"#9c179e\"], [0.4444444444444444, \"#bd3786\"], [0.5555555555555556, \"#d8576b\"], [0.6666666666666666, \"#ed7953\"], [0.7777777777777778, \"#fb9f3a\"], [0.8888888888888888, \"#fdca26\"], [1.0, \"#f0f921\"]], \"type\": \"histogram2d\"}], \"histogram2dcontour\": [{\"colorbar\": {\"outlinewidth\": 0, \"ticks\": \"\"}, \"colorscale\": [[0.0, \"#0d0887\"], [0.1111111111111111, \"#46039f\"], [0.2222222222222222, \"#7201a8\"], [0.3333333333333333, \"#9c179e\"], [0.4444444444444444, \"#bd3786\"], [0.5555555555555556, \"#d8576b\"], [0.6666666666666666, \"#ed7953\"], [0.7777777777777778, \"#fb9f3a\"], [0.8888888888888888, \"#fdca26\"], [1.0, \"#f0f921\"]], \"type\": \"histogram2dcontour\"}], \"mesh3d\": [{\"colorbar\": {\"outlinewidth\": 0, \"ticks\": \"\"}, \"type\": \"mesh3d\"}], \"parcoords\": [{\"line\": {\"colorbar\": {\"outlinewidth\": 0, \"ticks\": \"\"}}, \"type\": \"parcoords\"}], \"pie\": [{\"automargin\": true, \"type\": \"pie\"}], \"scatter\": [{\"marker\": {\"colorbar\": {\"outlinewidth\": 0, \"ticks\": \"\"}}, \"type\": \"scatter\"}], \"scatter3d\": [{\"line\": {\"colorbar\": {\"outlinewidth\": 0, \"ticks\": \"\"}}, \"marker\": {\"colorbar\": {\"outlinewidth\": 0, \"ticks\": \"\"}}, \"type\": \"scatter3d\"}], \"scattercarpet\": [{\"marker\": {\"colorbar\": {\"outlinewidth\": 0, \"ticks\": \"\"}}, \"type\": \"scattercarpet\"}], \"scattergeo\": [{\"marker\": {\"colorbar\": {\"outlinewidth\": 0, \"ticks\": \"\"}}, \"type\": \"scattergeo\"}], \"scattergl\": [{\"marker\": {\"colorbar\": {\"outlinewidth\": 0, \"ticks\": \"\"}}, \"type\": \"scattergl\"}], \"scattermapbox\": [{\"marker\": {\"colorbar\": {\"outlinewidth\": 0, \"ticks\": \"\"}}, \"type\": \"scattermapbox\"}], \"scatterpolar\": [{\"marker\": {\"colorbar\": {\"outlinewidth\": 0, \"ticks\": \"\"}}, \"type\": \"scatterpolar\"}], \"scatterpolargl\": [{\"marker\": {\"colorbar\": {\"outlinewidth\": 0, \"ticks\": \"\"}}, \"type\": \"scatterpolargl\"}], \"scatterternary\": [{\"marker\": {\"colorbar\": {\"outlinewidth\": 0, \"ticks\": \"\"}}, \"type\": \"scatterternary\"}], \"surface\": [{\"colorbar\": {\"outlinewidth\": 0, \"ticks\": \"\"}, \"colorscale\": [[0.0, \"#0d0887\"], [0.1111111111111111, \"#46039f\"], [0.2222222222222222, \"#7201a8\"], [0.3333333333333333, \"#9c179e\"], [0.4444444444444444, \"#bd3786\"], [0.5555555555555556, \"#d8576b\"], [0.6666666666666666, \"#ed7953\"], [0.7777777777777778, \"#fb9f3a\"], [0.8888888888888888, \"#fdca26\"], [1.0, \"#f0f921\"]], \"type\": \"surface\"}], \"table\": [{\"cells\": {\"fill\": {\"color\": \"#EBF0F8\"}, \"line\": {\"color\": \"white\"}}, \"header\": {\"fill\": {\"color\": \"#C8D4E3\"}, \"line\": {\"color\": \"white\"}}, \"type\": \"table\"}]}, \"layout\": {\"annotationdefaults\": {\"arrowcolor\": \"#2a3f5f\", \"arrowhead\": 0, \"arrowwidth\": 1}, \"autotypenumbers\": \"strict\", \"coloraxis\": {\"colorbar\": {\"outlinewidth\": 0, \"ticks\": \"\"}}, \"colorscale\": {\"diverging\": [[0, \"#8e0152\"], [0.1, \"#c51b7d\"], [0.2, \"#de77ae\"], [0.3, \"#f1b6da\"], [0.4, \"#fde0ef\"], [0.5, \"#f7f7f7\"], [0.6, \"#e6f5d0\"], [0.7, \"#b8e186\"], [0.8, \"#7fbc41\"], [0.9, \"#4d9221\"], [1, \"#276419\"]], \"sequential\": [[0.0, \"#0d0887\"], [0.1111111111111111, \"#46039f\"], [0.2222222222222222, \"#7201a8\"], [0.3333333333333333, \"#9c179e\"], [0.4444444444444444, \"#bd3786\"], [0.5555555555555556, \"#d8576b\"], [0.6666666666666666, \"#ed7953\"], [0.7777777777777778, \"#fb9f3a\"], [0.8888888888888888, \"#fdca26\"], [1.0, \"#f0f921\"]], \"sequentialminus\": [[0.0, \"#0d0887\"], [0.1111111111111111, \"#46039f\"], [0.2222222222222222, \"#7201a8\"], [0.3333333333333333, \"#9c179e\"], [0.4444444444444444, \"#bd3786\"], [0.5555555555555556, \"#d8576b\"], [0.6666666666666666, \"#ed7953\"], [0.7777777777777778, \"#fb9f3a\"], [0.8888888888888888, \"#fdca26\"], [1.0, \"#f0f921\"]]}, \"colorway\": [\"#636efa\", \"#EF553B\", \"#00cc96\", \"#ab63fa\", \"#FFA15A\", \"#19d3f3\", \"#FF6692\", \"#B6E880\", \"#FF97FF\", \"#FECB52\"], \"font\": {\"color\": \"#2a3f5f\"}, \"geo\": {\"bgcolor\": \"white\", \"lakecolor\": \"white\", \"landcolor\": \"#E5ECF6\", \"showlakes\": true, \"showland\": true, \"subunitcolor\": \"white\"}, \"hoverlabel\": {\"align\": \"left\"}, \"hovermode\": \"closest\", \"mapbox\": {\"style\": \"light\"}, \"paper_bgcolor\": \"white\", \"plot_bgcolor\": \"#E5ECF6\", \"polar\": {\"angularaxis\": {\"gridcolor\": \"white\", \"linecolor\": \"white\", \"ticks\": \"\"}, \"bgcolor\": \"#E5ECF6\", \"radialaxis\": {\"gridcolor\": \"white\", \"linecolor\": \"white\", \"ticks\": \"\"}}, \"scene\": {\"xaxis\": {\"backgroundcolor\": \"#E5ECF6\", \"gridcolor\": \"white\", \"gridwidth\": 2, \"linecolor\": \"white\", \"showbackground\": true, \"ticks\": \"\", \"zerolinecolor\": \"white\"}, \"yaxis\": {\"backgroundcolor\": \"#E5ECF6\", \"gridcolor\": \"white\", \"gridwidth\": 2, \"linecolor\": \"white\", \"showbackground\": true, \"ticks\": \"\", \"zerolinecolor\": \"white\"}, \"zaxis\": {\"backgroundcolor\": \"#E5ECF6\", \"gridcolor\": \"white\", \"gridwidth\": 2, \"linecolor\": \"white\", \"showbackground\": true, \"ticks\": \"\", \"zerolinecolor\": \"white\"}}, \"shapedefaults\": {\"line\": {\"color\": \"#2a3f5f\"}}, \"ternary\": {\"aaxis\": {\"gridcolor\": \"white\", \"linecolor\": \"white\", \"ticks\": \"\"}, \"baxis\": {\"gridcolor\": \"white\", \"linecolor\": \"white\", \"ticks\": \"\"}, \"bgcolor\": \"#E5ECF6\", \"caxis\": {\"gridcolor\": \"white\", \"linecolor\": \"white\", \"ticks\": \"\"}}, \"title\": {\"x\": 0.05}, \"xaxis\": {\"automargin\": true, \"gridcolor\": \"white\", \"linecolor\": \"white\", \"ticks\": \"\", \"title\": {\"standoff\": 15}, \"zerolinecolor\": \"white\", \"zerolinewidth\": 2}, \"yaxis\": {\"automargin\": true, \"gridcolor\": \"white\", \"linecolor\": \"white\", \"ticks\": \"\", \"title\": {\"standoff\": 15}, \"zerolinecolor\": \"white\", \"zerolinewidth\": 2}}}, \"title\": {\"text\": \"Product Consumption in Turkey\"}},                        {\"responsive\": true}                    ).then(function(){\n",
       "                            \n",
       "var gd = document.getElementById('947cea64-bb44-4b27-8784-d33dd1ef77e5');\n",
       "var x = new MutationObserver(function (mutations, observer) {{\n",
       "        var display = window.getComputedStyle(gd).display;\n",
       "        if (!display || display === 'none') {{\n",
       "            console.log([gd, 'removed!']);\n",
       "            Plotly.purge(gd);\n",
       "            observer.disconnect();\n",
       "        }}\n",
       "}});\n",
       "\n",
       "// Listen for the removal of the full notebook cells\n",
       "var notebookContainer = gd.closest('#notebook-container');\n",
       "if (notebookContainer) {{\n",
       "    x.observe(notebookContainer, {childList: true});\n",
       "}}\n",
       "\n",
       "// Listen for the clearing of the current output cell\n",
       "var outputEl = gd.closest('.output');\n",
       "if (outputEl) {{\n",
       "    x.observe(outputEl, {childList: true});\n",
       "}}\n",
       "\n",
       "                        })                };                });            </script>        </div>"
      ]
     },
     "metadata": {},
     "output_type": "display_data"
    },
    {
     "data": {
      "application/vnd.plotly.v1+json": {
       "config": {
        "plotlyServerURL": "https://plot.ly"
       },
       "data": [
        {
         "domain": {
          "x": [
           0,
           1
          ],
          "y": [
           0,
           1
          ]
         },
         "hovertemplate": "food_category=%{label}<br>consumption=%{value}<extra></extra>",
         "labels": [
          "Pork",
          "Poultry",
          "Beef",
          "Lamb & Goat",
          "Fish",
          "Eggs",
          "Milk - inc. cheese",
          "Wheat and Wheat Products",
          "Rice",
          "Soybeans",
          "Nuts inc. Peanut Butter"
         ],
         "legendgroup": "",
         "name": "",
         "showlegend": true,
         "type": "pie",
         "values": [
          36.36,
          23.9,
          17.67,
          0.94,
          18.64,
          14.03,
          341.47,
          70.17,
          2.93,
          0.12,
          7.94
         ]
        }
       ],
       "layout": {
        "legend": {
         "tracegroupgap": 0
        },
        "piecolorway": [
         "rgb(103,0,31)",
         "rgb(178,24,43)",
         "rgb(214,96,77)",
         "rgb(244,165,130)",
         "rgb(253,219,199)",
         "rgb(247,247,247)",
         "rgb(209,229,240)",
         "rgb(146,197,222)",
         "rgb(67,147,195)",
         "rgb(33,102,172)",
         "rgb(5,48,97)"
        ],
        "template": {
         "data": {
          "bar": [
           {
            "error_x": {
             "color": "#2a3f5f"
            },
            "error_y": {
             "color": "#2a3f5f"
            },
            "marker": {
             "line": {
              "color": "#E5ECF6",
              "width": 0.5
             }
            },
            "type": "bar"
           }
          ],
          "barpolar": [
           {
            "marker": {
             "line": {
              "color": "#E5ECF6",
              "width": 0.5
             }
            },
            "type": "barpolar"
           }
          ],
          "carpet": [
           {
            "aaxis": {
             "endlinecolor": "#2a3f5f",
             "gridcolor": "white",
             "linecolor": "white",
             "minorgridcolor": "white",
             "startlinecolor": "#2a3f5f"
            },
            "baxis": {
             "endlinecolor": "#2a3f5f",
             "gridcolor": "white",
             "linecolor": "white",
             "minorgridcolor": "white",
             "startlinecolor": "#2a3f5f"
            },
            "type": "carpet"
           }
          ],
          "choropleth": [
           {
            "colorbar": {
             "outlinewidth": 0,
             "ticks": ""
            },
            "type": "choropleth"
           }
          ],
          "contour": [
           {
            "colorbar": {
             "outlinewidth": 0,
             "ticks": ""
            },
            "colorscale": [
             [
              0,
              "#0d0887"
             ],
             [
              0.1111111111111111,
              "#46039f"
             ],
             [
              0.2222222222222222,
              "#7201a8"
             ],
             [
              0.3333333333333333,
              "#9c179e"
             ],
             [
              0.4444444444444444,
              "#bd3786"
             ],
             [
              0.5555555555555556,
              "#d8576b"
             ],
             [
              0.6666666666666666,
              "#ed7953"
             ],
             [
              0.7777777777777778,
              "#fb9f3a"
             ],
             [
              0.8888888888888888,
              "#fdca26"
             ],
             [
              1,
              "#f0f921"
             ]
            ],
            "type": "contour"
           }
          ],
          "contourcarpet": [
           {
            "colorbar": {
             "outlinewidth": 0,
             "ticks": ""
            },
            "type": "contourcarpet"
           }
          ],
          "heatmap": [
           {
            "colorbar": {
             "outlinewidth": 0,
             "ticks": ""
            },
            "colorscale": [
             [
              0,
              "#0d0887"
             ],
             [
              0.1111111111111111,
              "#46039f"
             ],
             [
              0.2222222222222222,
              "#7201a8"
             ],
             [
              0.3333333333333333,
              "#9c179e"
             ],
             [
              0.4444444444444444,
              "#bd3786"
             ],
             [
              0.5555555555555556,
              "#d8576b"
             ],
             [
              0.6666666666666666,
              "#ed7953"
             ],
             [
              0.7777777777777778,
              "#fb9f3a"
             ],
             [
              0.8888888888888888,
              "#fdca26"
             ],
             [
              1,
              "#f0f921"
             ]
            ],
            "type": "heatmap"
           }
          ],
          "heatmapgl": [
           {
            "colorbar": {
             "outlinewidth": 0,
             "ticks": ""
            },
            "colorscale": [
             [
              0,
              "#0d0887"
             ],
             [
              0.1111111111111111,
              "#46039f"
             ],
             [
              0.2222222222222222,
              "#7201a8"
             ],
             [
              0.3333333333333333,
              "#9c179e"
             ],
             [
              0.4444444444444444,
              "#bd3786"
             ],
             [
              0.5555555555555556,
              "#d8576b"
             ],
             [
              0.6666666666666666,
              "#ed7953"
             ],
             [
              0.7777777777777778,
              "#fb9f3a"
             ],
             [
              0.8888888888888888,
              "#fdca26"
             ],
             [
              1,
              "#f0f921"
             ]
            ],
            "type": "heatmapgl"
           }
          ],
          "histogram": [
           {
            "marker": {
             "colorbar": {
              "outlinewidth": 0,
              "ticks": ""
             }
            },
            "type": "histogram"
           }
          ],
          "histogram2d": [
           {
            "colorbar": {
             "outlinewidth": 0,
             "ticks": ""
            },
            "colorscale": [
             [
              0,
              "#0d0887"
             ],
             [
              0.1111111111111111,
              "#46039f"
             ],
             [
              0.2222222222222222,
              "#7201a8"
             ],
             [
              0.3333333333333333,
              "#9c179e"
             ],
             [
              0.4444444444444444,
              "#bd3786"
             ],
             [
              0.5555555555555556,
              "#d8576b"
             ],
             [
              0.6666666666666666,
              "#ed7953"
             ],
             [
              0.7777777777777778,
              "#fb9f3a"
             ],
             [
              0.8888888888888888,
              "#fdca26"
             ],
             [
              1,
              "#f0f921"
             ]
            ],
            "type": "histogram2d"
           }
          ],
          "histogram2dcontour": [
           {
            "colorbar": {
             "outlinewidth": 0,
             "ticks": ""
            },
            "colorscale": [
             [
              0,
              "#0d0887"
             ],
             [
              0.1111111111111111,
              "#46039f"
             ],
             [
              0.2222222222222222,
              "#7201a8"
             ],
             [
              0.3333333333333333,
              "#9c179e"
             ],
             [
              0.4444444444444444,
              "#bd3786"
             ],
             [
              0.5555555555555556,
              "#d8576b"
             ],
             [
              0.6666666666666666,
              "#ed7953"
             ],
             [
              0.7777777777777778,
              "#fb9f3a"
             ],
             [
              0.8888888888888888,
              "#fdca26"
             ],
             [
              1,
              "#f0f921"
             ]
            ],
            "type": "histogram2dcontour"
           }
          ],
          "mesh3d": [
           {
            "colorbar": {
             "outlinewidth": 0,
             "ticks": ""
            },
            "type": "mesh3d"
           }
          ],
          "parcoords": [
           {
            "line": {
             "colorbar": {
              "outlinewidth": 0,
              "ticks": ""
             }
            },
            "type": "parcoords"
           }
          ],
          "pie": [
           {
            "automargin": true,
            "type": "pie"
           }
          ],
          "scatter": [
           {
            "marker": {
             "colorbar": {
              "outlinewidth": 0,
              "ticks": ""
             }
            },
            "type": "scatter"
           }
          ],
          "scatter3d": [
           {
            "line": {
             "colorbar": {
              "outlinewidth": 0,
              "ticks": ""
             }
            },
            "marker": {
             "colorbar": {
              "outlinewidth": 0,
              "ticks": ""
             }
            },
            "type": "scatter3d"
           }
          ],
          "scattercarpet": [
           {
            "marker": {
             "colorbar": {
              "outlinewidth": 0,
              "ticks": ""
             }
            },
            "type": "scattercarpet"
           }
          ],
          "scattergeo": [
           {
            "marker": {
             "colorbar": {
              "outlinewidth": 0,
              "ticks": ""
             }
            },
            "type": "scattergeo"
           }
          ],
          "scattergl": [
           {
            "marker": {
             "colorbar": {
              "outlinewidth": 0,
              "ticks": ""
             }
            },
            "type": "scattergl"
           }
          ],
          "scattermapbox": [
           {
            "marker": {
             "colorbar": {
              "outlinewidth": 0,
              "ticks": ""
             }
            },
            "type": "scattermapbox"
           }
          ],
          "scatterpolar": [
           {
            "marker": {
             "colorbar": {
              "outlinewidth": 0,
              "ticks": ""
             }
            },
            "type": "scatterpolar"
           }
          ],
          "scatterpolargl": [
           {
            "marker": {
             "colorbar": {
              "outlinewidth": 0,
              "ticks": ""
             }
            },
            "type": "scatterpolargl"
           }
          ],
          "scatterternary": [
           {
            "marker": {
             "colorbar": {
              "outlinewidth": 0,
              "ticks": ""
             }
            },
            "type": "scatterternary"
           }
          ],
          "surface": [
           {
            "colorbar": {
             "outlinewidth": 0,
             "ticks": ""
            },
            "colorscale": [
             [
              0,
              "#0d0887"
             ],
             [
              0.1111111111111111,
              "#46039f"
             ],
             [
              0.2222222222222222,
              "#7201a8"
             ],
             [
              0.3333333333333333,
              "#9c179e"
             ],
             [
              0.4444444444444444,
              "#bd3786"
             ],
             [
              0.5555555555555556,
              "#d8576b"
             ],
             [
              0.6666666666666666,
              "#ed7953"
             ],
             [
              0.7777777777777778,
              "#fb9f3a"
             ],
             [
              0.8888888888888888,
              "#fdca26"
             ],
             [
              1,
              "#f0f921"
             ]
            ],
            "type": "surface"
           }
          ],
          "table": [
           {
            "cells": {
             "fill": {
              "color": "#EBF0F8"
             },
             "line": {
              "color": "white"
             }
            },
            "header": {
             "fill": {
              "color": "#C8D4E3"
             },
             "line": {
              "color": "white"
             }
            },
            "type": "table"
           }
          ]
         },
         "layout": {
          "annotationdefaults": {
           "arrowcolor": "#2a3f5f",
           "arrowhead": 0,
           "arrowwidth": 1
          },
          "autotypenumbers": "strict",
          "coloraxis": {
           "colorbar": {
            "outlinewidth": 0,
            "ticks": ""
           }
          },
          "colorscale": {
           "diverging": [
            [
             0,
             "#8e0152"
            ],
            [
             0.1,
             "#c51b7d"
            ],
            [
             0.2,
             "#de77ae"
            ],
            [
             0.3,
             "#f1b6da"
            ],
            [
             0.4,
             "#fde0ef"
            ],
            [
             0.5,
             "#f7f7f7"
            ],
            [
             0.6,
             "#e6f5d0"
            ],
            [
             0.7,
             "#b8e186"
            ],
            [
             0.8,
             "#7fbc41"
            ],
            [
             0.9,
             "#4d9221"
            ],
            [
             1,
             "#276419"
            ]
           ],
           "sequential": [
            [
             0,
             "#0d0887"
            ],
            [
             0.1111111111111111,
             "#46039f"
            ],
            [
             0.2222222222222222,
             "#7201a8"
            ],
            [
             0.3333333333333333,
             "#9c179e"
            ],
            [
             0.4444444444444444,
             "#bd3786"
            ],
            [
             0.5555555555555556,
             "#d8576b"
            ],
            [
             0.6666666666666666,
             "#ed7953"
            ],
            [
             0.7777777777777778,
             "#fb9f3a"
            ],
            [
             0.8888888888888888,
             "#fdca26"
            ],
            [
             1,
             "#f0f921"
            ]
           ],
           "sequentialminus": [
            [
             0,
             "#0d0887"
            ],
            [
             0.1111111111111111,
             "#46039f"
            ],
            [
             0.2222222222222222,
             "#7201a8"
            ],
            [
             0.3333333333333333,
             "#9c179e"
            ],
            [
             0.4444444444444444,
             "#bd3786"
            ],
            [
             0.5555555555555556,
             "#d8576b"
            ],
            [
             0.6666666666666666,
             "#ed7953"
            ],
            [
             0.7777777777777778,
             "#fb9f3a"
            ],
            [
             0.8888888888888888,
             "#fdca26"
            ],
            [
             1,
             "#f0f921"
            ]
           ]
          },
          "colorway": [
           "#636efa",
           "#EF553B",
           "#00cc96",
           "#ab63fa",
           "#FFA15A",
           "#19d3f3",
           "#FF6692",
           "#B6E880",
           "#FF97FF",
           "#FECB52"
          ],
          "font": {
           "color": "#2a3f5f"
          },
          "geo": {
           "bgcolor": "white",
           "lakecolor": "white",
           "landcolor": "#E5ECF6",
           "showlakes": true,
           "showland": true,
           "subunitcolor": "white"
          },
          "hoverlabel": {
           "align": "left"
          },
          "hovermode": "closest",
          "mapbox": {
           "style": "light"
          },
          "paper_bgcolor": "white",
          "plot_bgcolor": "#E5ECF6",
          "polar": {
           "angularaxis": {
            "gridcolor": "white",
            "linecolor": "white",
            "ticks": ""
           },
           "bgcolor": "#E5ECF6",
           "radialaxis": {
            "gridcolor": "white",
            "linecolor": "white",
            "ticks": ""
           }
          },
          "scene": {
           "xaxis": {
            "backgroundcolor": "#E5ECF6",
            "gridcolor": "white",
            "gridwidth": 2,
            "linecolor": "white",
            "showbackground": true,
            "ticks": "",
            "zerolinecolor": "white"
           },
           "yaxis": {
            "backgroundcolor": "#E5ECF6",
            "gridcolor": "white",
            "gridwidth": 2,
            "linecolor": "white",
            "showbackground": true,
            "ticks": "",
            "zerolinecolor": "white"
           },
           "zaxis": {
            "backgroundcolor": "#E5ECF6",
            "gridcolor": "white",
            "gridwidth": 2,
            "linecolor": "white",
            "showbackground": true,
            "ticks": "",
            "zerolinecolor": "white"
           }
          },
          "shapedefaults": {
           "line": {
            "color": "#2a3f5f"
           }
          },
          "ternary": {
           "aaxis": {
            "gridcolor": "white",
            "linecolor": "white",
            "ticks": ""
           },
           "baxis": {
            "gridcolor": "white",
            "linecolor": "white",
            "ticks": ""
           },
           "bgcolor": "#E5ECF6",
           "caxis": {
            "gridcolor": "white",
            "linecolor": "white",
            "ticks": ""
           }
          },
          "title": {
           "x": 0.05
          },
          "xaxis": {
           "automargin": true,
           "gridcolor": "white",
           "linecolor": "white",
           "ticks": "",
           "title": {
            "standoff": 15
           },
           "zerolinecolor": "white",
           "zerolinewidth": 2
          },
          "yaxis": {
           "automargin": true,
           "gridcolor": "white",
           "linecolor": "white",
           "ticks": "",
           "title": {
            "standoff": 15
           },
           "zerolinecolor": "white",
           "zerolinewidth": 2
          }
         }
        },
        "title": {
         "text": "Product Consumption in the Netherlands"
        }
       }
      },
      "text/html": [
       "<div>                            <div id=\"06f4a447-a2c7-4b60-b4e7-cc11a2f70d8b\" class=\"plotly-graph-div\" style=\"height:525px; width:100%;\"></div>            <script type=\"text/javascript\">                require([\"plotly\"], function(Plotly) {                    window.PLOTLYENV=window.PLOTLYENV || {};                                    if (document.getElementById(\"06f4a447-a2c7-4b60-b4e7-cc11a2f70d8b\")) {                    Plotly.newPlot(                        \"06f4a447-a2c7-4b60-b4e7-cc11a2f70d8b\",                        [{\"domain\": {\"x\": [0.0, 1.0], \"y\": [0.0, 1.0]}, \"hovertemplate\": \"food_category=%{label}<br>consumption=%{value}<extra></extra>\", \"labels\": [\"Pork\", \"Poultry\", \"Beef\", \"Lamb & Goat\", \"Fish\", \"Eggs\", \"Milk - inc. cheese\", \"Wheat and Wheat Products\", \"Rice\", \"Soybeans\", \"Nuts inc. Peanut Butter\"], \"legendgroup\": \"\", \"name\": \"\", \"showlegend\": true, \"type\": \"pie\", \"values\": [36.36, 23.9, 17.67, 0.94, 18.64, 14.03, 341.47, 70.17, 2.93, 0.12, 7.94]}],                        {\"legend\": {\"tracegroupgap\": 0}, \"piecolorway\": [\"rgb(103,0,31)\", \"rgb(178,24,43)\", \"rgb(214,96,77)\", \"rgb(244,165,130)\", \"rgb(253,219,199)\", \"rgb(247,247,247)\", \"rgb(209,229,240)\", \"rgb(146,197,222)\", \"rgb(67,147,195)\", \"rgb(33,102,172)\", \"rgb(5,48,97)\"], \"template\": {\"data\": {\"bar\": [{\"error_x\": {\"color\": \"#2a3f5f\"}, \"error_y\": {\"color\": \"#2a3f5f\"}, \"marker\": {\"line\": {\"color\": \"#E5ECF6\", \"width\": 0.5}}, \"type\": \"bar\"}], \"barpolar\": [{\"marker\": {\"line\": {\"color\": \"#E5ECF6\", \"width\": 0.5}}, \"type\": \"barpolar\"}], \"carpet\": [{\"aaxis\": {\"endlinecolor\": \"#2a3f5f\", \"gridcolor\": \"white\", \"linecolor\": \"white\", \"minorgridcolor\": \"white\", \"startlinecolor\": \"#2a3f5f\"}, \"baxis\": {\"endlinecolor\": \"#2a3f5f\", \"gridcolor\": \"white\", \"linecolor\": \"white\", \"minorgridcolor\": \"white\", \"startlinecolor\": \"#2a3f5f\"}, \"type\": \"carpet\"}], \"choropleth\": [{\"colorbar\": {\"outlinewidth\": 0, \"ticks\": \"\"}, \"type\": \"choropleth\"}], \"contour\": [{\"colorbar\": {\"outlinewidth\": 0, \"ticks\": \"\"}, \"colorscale\": [[0.0, \"#0d0887\"], [0.1111111111111111, \"#46039f\"], [0.2222222222222222, \"#7201a8\"], [0.3333333333333333, \"#9c179e\"], [0.4444444444444444, \"#bd3786\"], [0.5555555555555556, \"#d8576b\"], [0.6666666666666666, \"#ed7953\"], [0.7777777777777778, \"#fb9f3a\"], [0.8888888888888888, \"#fdca26\"], [1.0, \"#f0f921\"]], \"type\": \"contour\"}], \"contourcarpet\": [{\"colorbar\": {\"outlinewidth\": 0, \"ticks\": \"\"}, \"type\": \"contourcarpet\"}], \"heatmap\": [{\"colorbar\": {\"outlinewidth\": 0, \"ticks\": \"\"}, \"colorscale\": [[0.0, \"#0d0887\"], [0.1111111111111111, \"#46039f\"], [0.2222222222222222, \"#7201a8\"], [0.3333333333333333, \"#9c179e\"], [0.4444444444444444, \"#bd3786\"], [0.5555555555555556, \"#d8576b\"], [0.6666666666666666, \"#ed7953\"], [0.7777777777777778, \"#fb9f3a\"], [0.8888888888888888, \"#fdca26\"], [1.0, \"#f0f921\"]], \"type\": \"heatmap\"}], \"heatmapgl\": [{\"colorbar\": {\"outlinewidth\": 0, \"ticks\": \"\"}, \"colorscale\": [[0.0, \"#0d0887\"], [0.1111111111111111, \"#46039f\"], [0.2222222222222222, \"#7201a8\"], [0.3333333333333333, \"#9c179e\"], [0.4444444444444444, \"#bd3786\"], [0.5555555555555556, \"#d8576b\"], [0.6666666666666666, \"#ed7953\"], [0.7777777777777778, \"#fb9f3a\"], [0.8888888888888888, \"#fdca26\"], [1.0, \"#f0f921\"]], \"type\": \"heatmapgl\"}], \"histogram\": [{\"marker\": {\"colorbar\": {\"outlinewidth\": 0, \"ticks\": \"\"}}, \"type\": \"histogram\"}], \"histogram2d\": [{\"colorbar\": {\"outlinewidth\": 0, \"ticks\": \"\"}, \"colorscale\": [[0.0, \"#0d0887\"], [0.1111111111111111, \"#46039f\"], [0.2222222222222222, \"#7201a8\"], [0.3333333333333333, \"#9c179e\"], [0.4444444444444444, \"#bd3786\"], [0.5555555555555556, \"#d8576b\"], [0.6666666666666666, \"#ed7953\"], [0.7777777777777778, \"#fb9f3a\"], [0.8888888888888888, \"#fdca26\"], [1.0, \"#f0f921\"]], \"type\": \"histogram2d\"}], \"histogram2dcontour\": [{\"colorbar\": {\"outlinewidth\": 0, \"ticks\": \"\"}, \"colorscale\": [[0.0, \"#0d0887\"], [0.1111111111111111, \"#46039f\"], [0.2222222222222222, \"#7201a8\"], [0.3333333333333333, \"#9c179e\"], [0.4444444444444444, \"#bd3786\"], [0.5555555555555556, \"#d8576b\"], [0.6666666666666666, \"#ed7953\"], [0.7777777777777778, \"#fb9f3a\"], [0.8888888888888888, \"#fdca26\"], [1.0, \"#f0f921\"]], \"type\": \"histogram2dcontour\"}], \"mesh3d\": [{\"colorbar\": {\"outlinewidth\": 0, \"ticks\": \"\"}, \"type\": \"mesh3d\"}], \"parcoords\": [{\"line\": {\"colorbar\": {\"outlinewidth\": 0, \"ticks\": \"\"}}, \"type\": \"parcoords\"}], \"pie\": [{\"automargin\": true, \"type\": \"pie\"}], \"scatter\": [{\"marker\": {\"colorbar\": {\"outlinewidth\": 0, \"ticks\": \"\"}}, \"type\": \"scatter\"}], \"scatter3d\": [{\"line\": {\"colorbar\": {\"outlinewidth\": 0, \"ticks\": \"\"}}, \"marker\": {\"colorbar\": {\"outlinewidth\": 0, \"ticks\": \"\"}}, \"type\": \"scatter3d\"}], \"scattercarpet\": [{\"marker\": {\"colorbar\": {\"outlinewidth\": 0, \"ticks\": \"\"}}, \"type\": \"scattercarpet\"}], \"scattergeo\": [{\"marker\": {\"colorbar\": {\"outlinewidth\": 0, \"ticks\": \"\"}}, \"type\": \"scattergeo\"}], \"scattergl\": [{\"marker\": {\"colorbar\": {\"outlinewidth\": 0, \"ticks\": \"\"}}, \"type\": \"scattergl\"}], \"scattermapbox\": [{\"marker\": {\"colorbar\": {\"outlinewidth\": 0, \"ticks\": \"\"}}, \"type\": \"scattermapbox\"}], \"scatterpolar\": [{\"marker\": {\"colorbar\": {\"outlinewidth\": 0, \"ticks\": \"\"}}, \"type\": \"scatterpolar\"}], \"scatterpolargl\": [{\"marker\": {\"colorbar\": {\"outlinewidth\": 0, \"ticks\": \"\"}}, \"type\": \"scatterpolargl\"}], \"scatterternary\": [{\"marker\": {\"colorbar\": {\"outlinewidth\": 0, \"ticks\": \"\"}}, \"type\": \"scatterternary\"}], \"surface\": [{\"colorbar\": {\"outlinewidth\": 0, \"ticks\": \"\"}, \"colorscale\": [[0.0, \"#0d0887\"], [0.1111111111111111, \"#46039f\"], [0.2222222222222222, \"#7201a8\"], [0.3333333333333333, \"#9c179e\"], [0.4444444444444444, \"#bd3786\"], [0.5555555555555556, \"#d8576b\"], [0.6666666666666666, \"#ed7953\"], [0.7777777777777778, \"#fb9f3a\"], [0.8888888888888888, \"#fdca26\"], [1.0, \"#f0f921\"]], \"type\": \"surface\"}], \"table\": [{\"cells\": {\"fill\": {\"color\": \"#EBF0F8\"}, \"line\": {\"color\": \"white\"}}, \"header\": {\"fill\": {\"color\": \"#C8D4E3\"}, \"line\": {\"color\": \"white\"}}, \"type\": \"table\"}]}, \"layout\": {\"annotationdefaults\": {\"arrowcolor\": \"#2a3f5f\", \"arrowhead\": 0, \"arrowwidth\": 1}, \"autotypenumbers\": \"strict\", \"coloraxis\": {\"colorbar\": {\"outlinewidth\": 0, \"ticks\": \"\"}}, \"colorscale\": {\"diverging\": [[0, \"#8e0152\"], [0.1, \"#c51b7d\"], [0.2, \"#de77ae\"], [0.3, \"#f1b6da\"], [0.4, \"#fde0ef\"], [0.5, \"#f7f7f7\"], [0.6, \"#e6f5d0\"], [0.7, \"#b8e186\"], [0.8, \"#7fbc41\"], [0.9, \"#4d9221\"], [1, \"#276419\"]], \"sequential\": [[0.0, \"#0d0887\"], [0.1111111111111111, \"#46039f\"], [0.2222222222222222, \"#7201a8\"], [0.3333333333333333, \"#9c179e\"], [0.4444444444444444, \"#bd3786\"], [0.5555555555555556, \"#d8576b\"], [0.6666666666666666, \"#ed7953\"], [0.7777777777777778, \"#fb9f3a\"], [0.8888888888888888, \"#fdca26\"], [1.0, \"#f0f921\"]], \"sequentialminus\": [[0.0, \"#0d0887\"], [0.1111111111111111, \"#46039f\"], [0.2222222222222222, \"#7201a8\"], [0.3333333333333333, \"#9c179e\"], [0.4444444444444444, \"#bd3786\"], [0.5555555555555556, \"#d8576b\"], [0.6666666666666666, \"#ed7953\"], [0.7777777777777778, \"#fb9f3a\"], [0.8888888888888888, \"#fdca26\"], [1.0, \"#f0f921\"]]}, \"colorway\": [\"#636efa\", \"#EF553B\", \"#00cc96\", \"#ab63fa\", \"#FFA15A\", \"#19d3f3\", \"#FF6692\", \"#B6E880\", \"#FF97FF\", \"#FECB52\"], \"font\": {\"color\": \"#2a3f5f\"}, \"geo\": {\"bgcolor\": \"white\", \"lakecolor\": \"white\", \"landcolor\": \"#E5ECF6\", \"showlakes\": true, \"showland\": true, \"subunitcolor\": \"white\"}, \"hoverlabel\": {\"align\": \"left\"}, \"hovermode\": \"closest\", \"mapbox\": {\"style\": \"light\"}, \"paper_bgcolor\": \"white\", \"plot_bgcolor\": \"#E5ECF6\", \"polar\": {\"angularaxis\": {\"gridcolor\": \"white\", \"linecolor\": \"white\", \"ticks\": \"\"}, \"bgcolor\": \"#E5ECF6\", \"radialaxis\": {\"gridcolor\": \"white\", \"linecolor\": \"white\", \"ticks\": \"\"}}, \"scene\": {\"xaxis\": {\"backgroundcolor\": \"#E5ECF6\", \"gridcolor\": \"white\", \"gridwidth\": 2, \"linecolor\": \"white\", \"showbackground\": true, \"ticks\": \"\", \"zerolinecolor\": \"white\"}, \"yaxis\": {\"backgroundcolor\": \"#E5ECF6\", \"gridcolor\": \"white\", \"gridwidth\": 2, \"linecolor\": \"white\", \"showbackground\": true, \"ticks\": \"\", \"zerolinecolor\": \"white\"}, \"zaxis\": {\"backgroundcolor\": \"#E5ECF6\", \"gridcolor\": \"white\", \"gridwidth\": 2, \"linecolor\": \"white\", \"showbackground\": true, \"ticks\": \"\", \"zerolinecolor\": \"white\"}}, \"shapedefaults\": {\"line\": {\"color\": \"#2a3f5f\"}}, \"ternary\": {\"aaxis\": {\"gridcolor\": \"white\", \"linecolor\": \"white\", \"ticks\": \"\"}, \"baxis\": {\"gridcolor\": \"white\", \"linecolor\": \"white\", \"ticks\": \"\"}, \"bgcolor\": \"#E5ECF6\", \"caxis\": {\"gridcolor\": \"white\", \"linecolor\": \"white\", \"ticks\": \"\"}}, \"title\": {\"x\": 0.05}, \"xaxis\": {\"automargin\": true, \"gridcolor\": \"white\", \"linecolor\": \"white\", \"ticks\": \"\", \"title\": {\"standoff\": 15}, \"zerolinecolor\": \"white\", \"zerolinewidth\": 2}, \"yaxis\": {\"automargin\": true, \"gridcolor\": \"white\", \"linecolor\": \"white\", \"ticks\": \"\", \"title\": {\"standoff\": 15}, \"zerolinecolor\": \"white\", \"zerolinewidth\": 2}}}, \"title\": {\"text\": \"Product Consumption in the Netherlands\"}},                        {\"responsive\": true}                    ).then(function(){\n",
       "                            \n",
       "var gd = document.getElementById('06f4a447-a2c7-4b60-b4e7-cc11a2f70d8b');\n",
       "var x = new MutationObserver(function (mutations, observer) {{\n",
       "        var display = window.getComputedStyle(gd).display;\n",
       "        if (!display || display === 'none') {{\n",
       "            console.log([gd, 'removed!']);\n",
       "            Plotly.purge(gd);\n",
       "            observer.disconnect();\n",
       "        }}\n",
       "}});\n",
       "\n",
       "// Listen for the removal of the full notebook cells\n",
       "var notebookContainer = gd.closest('#notebook-container');\n",
       "if (notebookContainer) {{\n",
       "    x.observe(notebookContainer, {childList: true});\n",
       "}}\n",
       "\n",
       "// Listen for the clearing of the current output cell\n",
       "var outputEl = gd.closest('.output');\n",
       "if (outputEl) {{\n",
       "    x.observe(outputEl, {childList: true});\n",
       "}}\n",
       "\n",
       "                        })                };                });            </script>        </div>"
      ]
     },
     "metadata": {},
     "output_type": "display_data"
    }
   ],
   "source": [
    "a= data[data['country']=='Armenia']\n",
    "b= data[data['country']=='Turkey']\n",
    "c= data[data['country']=='Netherlands']\n",
    "fig = px.pie(a, values='consumption', names='food_category', title='Product Consumption in Armenia', color_discrete_sequence=px.colors.sequential.RdBu)\n",
    "fig.show()\n",
    "fig = px.pie(b, values='consumption', names='food_category', title='Product Consumption in Turkey', color_discrete_sequence=px.colors.sequential.RdBu)\n",
    "fig.show()\n",
    "fig = px.pie(c, values='consumption', names='food_category', title='Product Consumption in the Netherlands', color_discrete_sequence=px.colors.sequential.RdBu)\n",
    "fig.show()"
   ]
  },
  {
   "cell_type": "code",
   "execution_count": 10,
   "metadata": {},
   "outputs": [
    {
     "data": {
      "text/html": [
       "<div>\n",
       "<style scoped>\n",
       "    .dataframe tbody tr th:only-of-type {\n",
       "        vertical-align: middle;\n",
       "    }\n",
       "\n",
       "    .dataframe tbody tr th {\n",
       "        vertical-align: top;\n",
       "    }\n",
       "\n",
       "    .dataframe thead th {\n",
       "        text-align: right;\n",
       "    }\n",
       "</style>\n",
       "<table border=\"1\" class=\"dataframe\">\n",
       "  <thead>\n",
       "    <tr style=\"text-align: right;\">\n",
       "      <th></th>\n",
       "      <th>country</th>\n",
       "      <th>Population</th>\n",
       "      <th>food_category</th>\n",
       "      <th>consumption</th>\n",
       "      <th>co2_emmission</th>\n",
       "      <th>food_type</th>\n",
       "    </tr>\n",
       "  </thead>\n",
       "  <tbody>\n",
       "    <tr>\n",
       "      <th>57</th>\n",
       "      <td>USA</td>\n",
       "      <td>331,002,651</td>\n",
       "      <td>Beef</td>\n",
       "      <td>36.24</td>\n",
       "      <td>1118.29</td>\n",
       "      <td>Animal</td>\n",
       "    </tr>\n",
       "    <tr>\n",
       "      <th>61</th>\n",
       "      <td>USA</td>\n",
       "      <td>331,002,651</td>\n",
       "      <td>Milk - inc. cheese</td>\n",
       "      <td>254.69</td>\n",
       "      <td>362.78</td>\n",
       "      <td>Animal</td>\n",
       "    </tr>\n",
       "    <tr>\n",
       "      <th>62</th>\n",
       "      <td>USA</td>\n",
       "      <td>331,002,651</td>\n",
       "      <td>Wheat and Wheat Products</td>\n",
       "      <td>80.43</td>\n",
       "      <td>15.34</td>\n",
       "      <td>Non-Animal</td>\n",
       "    </tr>\n",
       "    <tr>\n",
       "      <th>981</th>\n",
       "      <td>China</td>\n",
       "      <td>1,439,323,776</td>\n",
       "      <td>Beef</td>\n",
       "      <td>5.12</td>\n",
       "      <td>157.99</td>\n",
       "      <td>Animal</td>\n",
       "    </tr>\n",
       "    <tr>\n",
       "      <th>985</th>\n",
       "      <td>China</td>\n",
       "      <td>1,439,323,776</td>\n",
       "      <td>Milk - inc. cheese</td>\n",
       "      <td>32.66</td>\n",
       "      <td>46.52</td>\n",
       "      <td>Animal</td>\n",
       "    </tr>\n",
       "    <tr>\n",
       "      <th>986</th>\n",
       "      <td>China</td>\n",
       "      <td>1,439,323,776</td>\n",
       "      <td>Wheat and Wheat Products</td>\n",
       "      <td>63.36</td>\n",
       "      <td>12.08</td>\n",
       "      <td>Non-Animal</td>\n",
       "    </tr>\n",
       "    <tr>\n",
       "      <th>1333</th>\n",
       "      <td>India</td>\n",
       "      <td>1,380,004,385</td>\n",
       "      <td>Beef</td>\n",
       "      <td>0.81</td>\n",
       "      <td>24.99</td>\n",
       "      <td>Animal</td>\n",
       "    </tr>\n",
       "    <tr>\n",
       "      <th>1337</th>\n",
       "      <td>India</td>\n",
       "      <td>1,380,004,385</td>\n",
       "      <td>Milk - inc. cheese</td>\n",
       "      <td>84.50</td>\n",
       "      <td>120.36</td>\n",
       "      <td>Animal</td>\n",
       "    </tr>\n",
       "    <tr>\n",
       "      <th>1338</th>\n",
       "      <td>India</td>\n",
       "      <td>1,380,004,385</td>\n",
       "      <td>Wheat and Wheat Products</td>\n",
       "      <td>60.56</td>\n",
       "      <td>11.55</td>\n",
       "      <td>Non-Animal</td>\n",
       "    </tr>\n",
       "  </tbody>\n",
       "</table>\n",
       "</div>"
      ],
      "text/plain": [
       "     country     Population             food_category  consumption  \\\n",
       "57       USA    331,002,651                      Beef        36.24   \n",
       "61       USA    331,002,651        Milk - inc. cheese       254.69   \n",
       "62       USA    331,002,651  Wheat and Wheat Products        80.43   \n",
       "981    China  1,439,323,776                      Beef         5.12   \n",
       "985    China  1,439,323,776        Milk - inc. cheese        32.66   \n",
       "986    China  1,439,323,776  Wheat and Wheat Products        63.36   \n",
       "1333   India  1,380,004,385                      Beef         0.81   \n",
       "1337   India  1,380,004,385        Milk - inc. cheese        84.50   \n",
       "1338   India  1,380,004,385  Wheat and Wheat Products        60.56   \n",
       "\n",
       "      co2_emmission   food_type  \n",
       "57          1118.29      Animal  \n",
       "61           362.78      Animal  \n",
       "62            15.34  Non-Animal  \n",
       "981          157.99      Animal  \n",
       "985           46.52      Animal  \n",
       "986           12.08  Non-Animal  \n",
       "1333          24.99      Animal  \n",
       "1337         120.36      Animal  \n",
       "1338          11.55  Non-Animal  "
      ]
     },
     "execution_count": 10,
     "metadata": {},
     "output_type": "execute_result"
    }
   ],
   "source": [
    "countries = ['China','India','USA']\n",
    "food_categories= ['Beef','Milk - inc. cheese','Wheat and Wheat Products']\n",
    "top = data[data.country.isin(countries) & data.food_category.isin(food_categories)]\n",
    "top"
   ]
  },
  {
   "cell_type": "code",
   "execution_count": 11,
   "metadata": {},
   "outputs": [
    {
     "data": {
      "application/vnd.plotly.v1+json": {
       "config": {
        "plotlyServerURL": "https://plot.ly"
       },
       "data": [
        {
         "alignmentgroup": "True",
         "hovertemplate": "food_category=Beef<br>country=%{x}<br>consumption=%{y}<extra></extra>",
         "legendgroup": "Beef",
         "marker": {
          "color": "rgb(103,0,31)"
         },
         "name": "Beef",
         "offsetgroup": "Beef",
         "orientation": "v",
         "showlegend": true,
         "textposition": "auto",
         "type": "bar",
         "x": [
          "USA",
          "China",
          "India"
         ],
         "xaxis": "x",
         "y": [
          36.24,
          5.12,
          0.81
         ],
         "yaxis": "y"
        },
        {
         "alignmentgroup": "True",
         "hovertemplate": "food_category=Milk - inc. cheese<br>country=%{x}<br>consumption=%{y}<extra></extra>",
         "legendgroup": "Milk - inc. cheese",
         "marker": {
          "color": "rgb(178,24,43)"
         },
         "name": "Milk - inc. cheese",
         "offsetgroup": "Milk - inc. cheese",
         "orientation": "v",
         "showlegend": true,
         "textposition": "auto",
         "type": "bar",
         "x": [
          "USA",
          "China",
          "India"
         ],
         "xaxis": "x",
         "y": [
          254.69,
          32.66,
          84.5
         ],
         "yaxis": "y"
        },
        {
         "alignmentgroup": "True",
         "hovertemplate": "food_category=Wheat and Wheat Products<br>country=%{x}<br>consumption=%{y}<extra></extra>",
         "legendgroup": "Wheat and Wheat Products",
         "marker": {
          "color": "rgb(214,96,77)"
         },
         "name": "Wheat and Wheat Products",
         "offsetgroup": "Wheat and Wheat Products",
         "orientation": "v",
         "showlegend": true,
         "textposition": "auto",
         "type": "bar",
         "x": [
          "USA",
          "China",
          "India"
         ],
         "xaxis": "x",
         "y": [
          80.43,
          63.36,
          60.56
         ],
         "yaxis": "y"
        }
       ],
       "layout": {
        "barmode": "relative",
        "legend": {
         "title": {
          "text": "food_category"
         },
         "tracegroupgap": 0
        },
        "template": {
         "data": {
          "bar": [
           {
            "error_x": {
             "color": "#2a3f5f"
            },
            "error_y": {
             "color": "#2a3f5f"
            },
            "marker": {
             "line": {
              "color": "#E5ECF6",
              "width": 0.5
             }
            },
            "type": "bar"
           }
          ],
          "barpolar": [
           {
            "marker": {
             "line": {
              "color": "#E5ECF6",
              "width": 0.5
             }
            },
            "type": "barpolar"
           }
          ],
          "carpet": [
           {
            "aaxis": {
             "endlinecolor": "#2a3f5f",
             "gridcolor": "white",
             "linecolor": "white",
             "minorgridcolor": "white",
             "startlinecolor": "#2a3f5f"
            },
            "baxis": {
             "endlinecolor": "#2a3f5f",
             "gridcolor": "white",
             "linecolor": "white",
             "minorgridcolor": "white",
             "startlinecolor": "#2a3f5f"
            },
            "type": "carpet"
           }
          ],
          "choropleth": [
           {
            "colorbar": {
             "outlinewidth": 0,
             "ticks": ""
            },
            "type": "choropleth"
           }
          ],
          "contour": [
           {
            "colorbar": {
             "outlinewidth": 0,
             "ticks": ""
            },
            "colorscale": [
             [
              0,
              "#0d0887"
             ],
             [
              0.1111111111111111,
              "#46039f"
             ],
             [
              0.2222222222222222,
              "#7201a8"
             ],
             [
              0.3333333333333333,
              "#9c179e"
             ],
             [
              0.4444444444444444,
              "#bd3786"
             ],
             [
              0.5555555555555556,
              "#d8576b"
             ],
             [
              0.6666666666666666,
              "#ed7953"
             ],
             [
              0.7777777777777778,
              "#fb9f3a"
             ],
             [
              0.8888888888888888,
              "#fdca26"
             ],
             [
              1,
              "#f0f921"
             ]
            ],
            "type": "contour"
           }
          ],
          "contourcarpet": [
           {
            "colorbar": {
             "outlinewidth": 0,
             "ticks": ""
            },
            "type": "contourcarpet"
           }
          ],
          "heatmap": [
           {
            "colorbar": {
             "outlinewidth": 0,
             "ticks": ""
            },
            "colorscale": [
             [
              0,
              "#0d0887"
             ],
             [
              0.1111111111111111,
              "#46039f"
             ],
             [
              0.2222222222222222,
              "#7201a8"
             ],
             [
              0.3333333333333333,
              "#9c179e"
             ],
             [
              0.4444444444444444,
              "#bd3786"
             ],
             [
              0.5555555555555556,
              "#d8576b"
             ],
             [
              0.6666666666666666,
              "#ed7953"
             ],
             [
              0.7777777777777778,
              "#fb9f3a"
             ],
             [
              0.8888888888888888,
              "#fdca26"
             ],
             [
              1,
              "#f0f921"
             ]
            ],
            "type": "heatmap"
           }
          ],
          "heatmapgl": [
           {
            "colorbar": {
             "outlinewidth": 0,
             "ticks": ""
            },
            "colorscale": [
             [
              0,
              "#0d0887"
             ],
             [
              0.1111111111111111,
              "#46039f"
             ],
             [
              0.2222222222222222,
              "#7201a8"
             ],
             [
              0.3333333333333333,
              "#9c179e"
             ],
             [
              0.4444444444444444,
              "#bd3786"
             ],
             [
              0.5555555555555556,
              "#d8576b"
             ],
             [
              0.6666666666666666,
              "#ed7953"
             ],
             [
              0.7777777777777778,
              "#fb9f3a"
             ],
             [
              0.8888888888888888,
              "#fdca26"
             ],
             [
              1,
              "#f0f921"
             ]
            ],
            "type": "heatmapgl"
           }
          ],
          "histogram": [
           {
            "marker": {
             "colorbar": {
              "outlinewidth": 0,
              "ticks": ""
             }
            },
            "type": "histogram"
           }
          ],
          "histogram2d": [
           {
            "colorbar": {
             "outlinewidth": 0,
             "ticks": ""
            },
            "colorscale": [
             [
              0,
              "#0d0887"
             ],
             [
              0.1111111111111111,
              "#46039f"
             ],
             [
              0.2222222222222222,
              "#7201a8"
             ],
             [
              0.3333333333333333,
              "#9c179e"
             ],
             [
              0.4444444444444444,
              "#bd3786"
             ],
             [
              0.5555555555555556,
              "#d8576b"
             ],
             [
              0.6666666666666666,
              "#ed7953"
             ],
             [
              0.7777777777777778,
              "#fb9f3a"
             ],
             [
              0.8888888888888888,
              "#fdca26"
             ],
             [
              1,
              "#f0f921"
             ]
            ],
            "type": "histogram2d"
           }
          ],
          "histogram2dcontour": [
           {
            "colorbar": {
             "outlinewidth": 0,
             "ticks": ""
            },
            "colorscale": [
             [
              0,
              "#0d0887"
             ],
             [
              0.1111111111111111,
              "#46039f"
             ],
             [
              0.2222222222222222,
              "#7201a8"
             ],
             [
              0.3333333333333333,
              "#9c179e"
             ],
             [
              0.4444444444444444,
              "#bd3786"
             ],
             [
              0.5555555555555556,
              "#d8576b"
             ],
             [
              0.6666666666666666,
              "#ed7953"
             ],
             [
              0.7777777777777778,
              "#fb9f3a"
             ],
             [
              0.8888888888888888,
              "#fdca26"
             ],
             [
              1,
              "#f0f921"
             ]
            ],
            "type": "histogram2dcontour"
           }
          ],
          "mesh3d": [
           {
            "colorbar": {
             "outlinewidth": 0,
             "ticks": ""
            },
            "type": "mesh3d"
           }
          ],
          "parcoords": [
           {
            "line": {
             "colorbar": {
              "outlinewidth": 0,
              "ticks": ""
             }
            },
            "type": "parcoords"
           }
          ],
          "pie": [
           {
            "automargin": true,
            "type": "pie"
           }
          ],
          "scatter": [
           {
            "marker": {
             "colorbar": {
              "outlinewidth": 0,
              "ticks": ""
             }
            },
            "type": "scatter"
           }
          ],
          "scatter3d": [
           {
            "line": {
             "colorbar": {
              "outlinewidth": 0,
              "ticks": ""
             }
            },
            "marker": {
             "colorbar": {
              "outlinewidth": 0,
              "ticks": ""
             }
            },
            "type": "scatter3d"
           }
          ],
          "scattercarpet": [
           {
            "marker": {
             "colorbar": {
              "outlinewidth": 0,
              "ticks": ""
             }
            },
            "type": "scattercarpet"
           }
          ],
          "scattergeo": [
           {
            "marker": {
             "colorbar": {
              "outlinewidth": 0,
              "ticks": ""
             }
            },
            "type": "scattergeo"
           }
          ],
          "scattergl": [
           {
            "marker": {
             "colorbar": {
              "outlinewidth": 0,
              "ticks": ""
             }
            },
            "type": "scattergl"
           }
          ],
          "scattermapbox": [
           {
            "marker": {
             "colorbar": {
              "outlinewidth": 0,
              "ticks": ""
             }
            },
            "type": "scattermapbox"
           }
          ],
          "scatterpolar": [
           {
            "marker": {
             "colorbar": {
              "outlinewidth": 0,
              "ticks": ""
             }
            },
            "type": "scatterpolar"
           }
          ],
          "scatterpolargl": [
           {
            "marker": {
             "colorbar": {
              "outlinewidth": 0,
              "ticks": ""
             }
            },
            "type": "scatterpolargl"
           }
          ],
          "scatterternary": [
           {
            "marker": {
             "colorbar": {
              "outlinewidth": 0,
              "ticks": ""
             }
            },
            "type": "scatterternary"
           }
          ],
          "surface": [
           {
            "colorbar": {
             "outlinewidth": 0,
             "ticks": ""
            },
            "colorscale": [
             [
              0,
              "#0d0887"
             ],
             [
              0.1111111111111111,
              "#46039f"
             ],
             [
              0.2222222222222222,
              "#7201a8"
             ],
             [
              0.3333333333333333,
              "#9c179e"
             ],
             [
              0.4444444444444444,
              "#bd3786"
             ],
             [
              0.5555555555555556,
              "#d8576b"
             ],
             [
              0.6666666666666666,
              "#ed7953"
             ],
             [
              0.7777777777777778,
              "#fb9f3a"
             ],
             [
              0.8888888888888888,
              "#fdca26"
             ],
             [
              1,
              "#f0f921"
             ]
            ],
            "type": "surface"
           }
          ],
          "table": [
           {
            "cells": {
             "fill": {
              "color": "#EBF0F8"
             },
             "line": {
              "color": "white"
             }
            },
            "header": {
             "fill": {
              "color": "#C8D4E3"
             },
             "line": {
              "color": "white"
             }
            },
            "type": "table"
           }
          ]
         },
         "layout": {
          "annotationdefaults": {
           "arrowcolor": "#2a3f5f",
           "arrowhead": 0,
           "arrowwidth": 1
          },
          "autotypenumbers": "strict",
          "coloraxis": {
           "colorbar": {
            "outlinewidth": 0,
            "ticks": ""
           }
          },
          "colorscale": {
           "diverging": [
            [
             0,
             "#8e0152"
            ],
            [
             0.1,
             "#c51b7d"
            ],
            [
             0.2,
             "#de77ae"
            ],
            [
             0.3,
             "#f1b6da"
            ],
            [
             0.4,
             "#fde0ef"
            ],
            [
             0.5,
             "#f7f7f7"
            ],
            [
             0.6,
             "#e6f5d0"
            ],
            [
             0.7,
             "#b8e186"
            ],
            [
             0.8,
             "#7fbc41"
            ],
            [
             0.9,
             "#4d9221"
            ],
            [
             1,
             "#276419"
            ]
           ],
           "sequential": [
            [
             0,
             "#0d0887"
            ],
            [
             0.1111111111111111,
             "#46039f"
            ],
            [
             0.2222222222222222,
             "#7201a8"
            ],
            [
             0.3333333333333333,
             "#9c179e"
            ],
            [
             0.4444444444444444,
             "#bd3786"
            ],
            [
             0.5555555555555556,
             "#d8576b"
            ],
            [
             0.6666666666666666,
             "#ed7953"
            ],
            [
             0.7777777777777778,
             "#fb9f3a"
            ],
            [
             0.8888888888888888,
             "#fdca26"
            ],
            [
             1,
             "#f0f921"
            ]
           ],
           "sequentialminus": [
            [
             0,
             "#0d0887"
            ],
            [
             0.1111111111111111,
             "#46039f"
            ],
            [
             0.2222222222222222,
             "#7201a8"
            ],
            [
             0.3333333333333333,
             "#9c179e"
            ],
            [
             0.4444444444444444,
             "#bd3786"
            ],
            [
             0.5555555555555556,
             "#d8576b"
            ],
            [
             0.6666666666666666,
             "#ed7953"
            ],
            [
             0.7777777777777778,
             "#fb9f3a"
            ],
            [
             0.8888888888888888,
             "#fdca26"
            ],
            [
             1,
             "#f0f921"
            ]
           ]
          },
          "colorway": [
           "#636efa",
           "#EF553B",
           "#00cc96",
           "#ab63fa",
           "#FFA15A",
           "#19d3f3",
           "#FF6692",
           "#B6E880",
           "#FF97FF",
           "#FECB52"
          ],
          "font": {
           "color": "#2a3f5f"
          },
          "geo": {
           "bgcolor": "white",
           "lakecolor": "white",
           "landcolor": "#E5ECF6",
           "showlakes": true,
           "showland": true,
           "subunitcolor": "white"
          },
          "hoverlabel": {
           "align": "left"
          },
          "hovermode": "closest",
          "mapbox": {
           "style": "light"
          },
          "paper_bgcolor": "white",
          "plot_bgcolor": "#E5ECF6",
          "polar": {
           "angularaxis": {
            "gridcolor": "white",
            "linecolor": "white",
            "ticks": ""
           },
           "bgcolor": "#E5ECF6",
           "radialaxis": {
            "gridcolor": "white",
            "linecolor": "white",
            "ticks": ""
           }
          },
          "scene": {
           "xaxis": {
            "backgroundcolor": "#E5ECF6",
            "gridcolor": "white",
            "gridwidth": 2,
            "linecolor": "white",
            "showbackground": true,
            "ticks": "",
            "zerolinecolor": "white"
           },
           "yaxis": {
            "backgroundcolor": "#E5ECF6",
            "gridcolor": "white",
            "gridwidth": 2,
            "linecolor": "white",
            "showbackground": true,
            "ticks": "",
            "zerolinecolor": "white"
           },
           "zaxis": {
            "backgroundcolor": "#E5ECF6",
            "gridcolor": "white",
            "gridwidth": 2,
            "linecolor": "white",
            "showbackground": true,
            "ticks": "",
            "zerolinecolor": "white"
           }
          },
          "shapedefaults": {
           "line": {
            "color": "#2a3f5f"
           }
          },
          "ternary": {
           "aaxis": {
            "gridcolor": "white",
            "linecolor": "white",
            "ticks": ""
           },
           "baxis": {
            "gridcolor": "white",
            "linecolor": "white",
            "ticks": ""
           },
           "bgcolor": "#E5ECF6",
           "caxis": {
            "gridcolor": "white",
            "linecolor": "white",
            "ticks": ""
           }
          },
          "title": {
           "x": 0.05
          },
          "xaxis": {
           "automargin": true,
           "gridcolor": "white",
           "linecolor": "white",
           "ticks": "",
           "title": {
            "standoff": 15
           },
           "zerolinecolor": "white",
           "zerolinewidth": 2
          },
          "yaxis": {
           "automargin": true,
           "gridcolor": "white",
           "linecolor": "white",
           "ticks": "",
           "title": {
            "standoff": 15
           },
           "zerolinecolor": "white",
           "zerolinewidth": 2
          }
         }
        },
        "title": {
         "text": "Top product consumption in top 3 countries with highest population"
        },
        "xaxis": {
         "anchor": "y",
         "domain": [
          0,
          1
         ],
         "title": {
          "text": "country"
         }
        },
        "yaxis": {
         "anchor": "x",
         "domain": [
          0,
          1
         ],
         "title": {
          "text": "consumption"
         }
        }
       }
      },
      "text/html": [
       "<div>                            <div id=\"c0d6e6cc-6316-4b8a-ab9d-52cfce5d123c\" class=\"plotly-graph-div\" style=\"height:525px; width:100%;\"></div>            <script type=\"text/javascript\">                require([\"plotly\"], function(Plotly) {                    window.PLOTLYENV=window.PLOTLYENV || {};                                    if (document.getElementById(\"c0d6e6cc-6316-4b8a-ab9d-52cfce5d123c\")) {                    Plotly.newPlot(                        \"c0d6e6cc-6316-4b8a-ab9d-52cfce5d123c\",                        [{\"alignmentgroup\": \"True\", \"hovertemplate\": \"food_category=Beef<br>country=%{x}<br>consumption=%{y}<extra></extra>\", \"legendgroup\": \"Beef\", \"marker\": {\"color\": \"rgb(103,0,31)\"}, \"name\": \"Beef\", \"offsetgroup\": \"Beef\", \"orientation\": \"v\", \"showlegend\": true, \"textposition\": \"auto\", \"type\": \"bar\", \"x\": [\"USA\", \"China\", \"India\"], \"xaxis\": \"x\", \"y\": [36.24, 5.12, 0.81], \"yaxis\": \"y\"}, {\"alignmentgroup\": \"True\", \"hovertemplate\": \"food_category=Milk - inc. cheese<br>country=%{x}<br>consumption=%{y}<extra></extra>\", \"legendgroup\": \"Milk - inc. cheese\", \"marker\": {\"color\": \"rgb(178,24,43)\"}, \"name\": \"Milk - inc. cheese\", \"offsetgroup\": \"Milk - inc. cheese\", \"orientation\": \"v\", \"showlegend\": true, \"textposition\": \"auto\", \"type\": \"bar\", \"x\": [\"USA\", \"China\", \"India\"], \"xaxis\": \"x\", \"y\": [254.69, 32.66, 84.5], \"yaxis\": \"y\"}, {\"alignmentgroup\": \"True\", \"hovertemplate\": \"food_category=Wheat and Wheat Products<br>country=%{x}<br>consumption=%{y}<extra></extra>\", \"legendgroup\": \"Wheat and Wheat Products\", \"marker\": {\"color\": \"rgb(214,96,77)\"}, \"name\": \"Wheat and Wheat Products\", \"offsetgroup\": \"Wheat and Wheat Products\", \"orientation\": \"v\", \"showlegend\": true, \"textposition\": \"auto\", \"type\": \"bar\", \"x\": [\"USA\", \"China\", \"India\"], \"xaxis\": \"x\", \"y\": [80.43, 63.36, 60.56], \"yaxis\": \"y\"}],                        {\"barmode\": \"relative\", \"legend\": {\"title\": {\"text\": \"food_category\"}, \"tracegroupgap\": 0}, \"template\": {\"data\": {\"bar\": [{\"error_x\": {\"color\": \"#2a3f5f\"}, \"error_y\": {\"color\": \"#2a3f5f\"}, \"marker\": {\"line\": {\"color\": \"#E5ECF6\", \"width\": 0.5}}, \"type\": \"bar\"}], \"barpolar\": [{\"marker\": {\"line\": {\"color\": \"#E5ECF6\", \"width\": 0.5}}, \"type\": \"barpolar\"}], \"carpet\": [{\"aaxis\": {\"endlinecolor\": \"#2a3f5f\", \"gridcolor\": \"white\", \"linecolor\": \"white\", \"minorgridcolor\": \"white\", \"startlinecolor\": \"#2a3f5f\"}, \"baxis\": {\"endlinecolor\": \"#2a3f5f\", \"gridcolor\": \"white\", \"linecolor\": \"white\", \"minorgridcolor\": \"white\", \"startlinecolor\": \"#2a3f5f\"}, \"type\": \"carpet\"}], \"choropleth\": [{\"colorbar\": {\"outlinewidth\": 0, \"ticks\": \"\"}, \"type\": \"choropleth\"}], \"contour\": [{\"colorbar\": {\"outlinewidth\": 0, \"ticks\": \"\"}, \"colorscale\": [[0.0, \"#0d0887\"], [0.1111111111111111, \"#46039f\"], [0.2222222222222222, \"#7201a8\"], [0.3333333333333333, \"#9c179e\"], [0.4444444444444444, \"#bd3786\"], [0.5555555555555556, \"#d8576b\"], [0.6666666666666666, \"#ed7953\"], [0.7777777777777778, \"#fb9f3a\"], [0.8888888888888888, \"#fdca26\"], [1.0, \"#f0f921\"]], \"type\": \"contour\"}], \"contourcarpet\": [{\"colorbar\": {\"outlinewidth\": 0, \"ticks\": \"\"}, \"type\": \"contourcarpet\"}], \"heatmap\": [{\"colorbar\": {\"outlinewidth\": 0, \"ticks\": \"\"}, \"colorscale\": [[0.0, \"#0d0887\"], [0.1111111111111111, \"#46039f\"], [0.2222222222222222, \"#7201a8\"], [0.3333333333333333, \"#9c179e\"], [0.4444444444444444, \"#bd3786\"], [0.5555555555555556, \"#d8576b\"], [0.6666666666666666, \"#ed7953\"], [0.7777777777777778, \"#fb9f3a\"], [0.8888888888888888, \"#fdca26\"], [1.0, \"#f0f921\"]], \"type\": \"heatmap\"}], \"heatmapgl\": [{\"colorbar\": {\"outlinewidth\": 0, \"ticks\": \"\"}, \"colorscale\": [[0.0, \"#0d0887\"], [0.1111111111111111, \"#46039f\"], [0.2222222222222222, \"#7201a8\"], [0.3333333333333333, \"#9c179e\"], [0.4444444444444444, \"#bd3786\"], [0.5555555555555556, \"#d8576b\"], [0.6666666666666666, \"#ed7953\"], [0.7777777777777778, \"#fb9f3a\"], [0.8888888888888888, \"#fdca26\"], [1.0, \"#f0f921\"]], \"type\": \"heatmapgl\"}], \"histogram\": [{\"marker\": {\"colorbar\": {\"outlinewidth\": 0, \"ticks\": \"\"}}, \"type\": \"histogram\"}], \"histogram2d\": [{\"colorbar\": {\"outlinewidth\": 0, \"ticks\": \"\"}, \"colorscale\": [[0.0, \"#0d0887\"], [0.1111111111111111, \"#46039f\"], [0.2222222222222222, \"#7201a8\"], [0.3333333333333333, \"#9c179e\"], [0.4444444444444444, \"#bd3786\"], [0.5555555555555556, \"#d8576b\"], [0.6666666666666666, \"#ed7953\"], [0.7777777777777778, \"#fb9f3a\"], [0.8888888888888888, \"#fdca26\"], [1.0, \"#f0f921\"]], \"type\": \"histogram2d\"}], \"histogram2dcontour\": [{\"colorbar\": {\"outlinewidth\": 0, \"ticks\": \"\"}, \"colorscale\": [[0.0, \"#0d0887\"], [0.1111111111111111, \"#46039f\"], [0.2222222222222222, \"#7201a8\"], [0.3333333333333333, \"#9c179e\"], [0.4444444444444444, \"#bd3786\"], [0.5555555555555556, \"#d8576b\"], [0.6666666666666666, \"#ed7953\"], [0.7777777777777778, \"#fb9f3a\"], [0.8888888888888888, \"#fdca26\"], [1.0, \"#f0f921\"]], \"type\": \"histogram2dcontour\"}], \"mesh3d\": [{\"colorbar\": {\"outlinewidth\": 0, \"ticks\": \"\"}, \"type\": \"mesh3d\"}], \"parcoords\": [{\"line\": {\"colorbar\": {\"outlinewidth\": 0, \"ticks\": \"\"}}, \"type\": \"parcoords\"}], \"pie\": [{\"automargin\": true, \"type\": \"pie\"}], \"scatter\": [{\"marker\": {\"colorbar\": {\"outlinewidth\": 0, \"ticks\": \"\"}}, \"type\": \"scatter\"}], \"scatter3d\": [{\"line\": {\"colorbar\": {\"outlinewidth\": 0, \"ticks\": \"\"}}, \"marker\": {\"colorbar\": {\"outlinewidth\": 0, \"ticks\": \"\"}}, \"type\": \"scatter3d\"}], \"scattercarpet\": [{\"marker\": {\"colorbar\": {\"outlinewidth\": 0, \"ticks\": \"\"}}, \"type\": \"scattercarpet\"}], \"scattergeo\": [{\"marker\": {\"colorbar\": {\"outlinewidth\": 0, \"ticks\": \"\"}}, \"type\": \"scattergeo\"}], \"scattergl\": [{\"marker\": {\"colorbar\": {\"outlinewidth\": 0, \"ticks\": \"\"}}, \"type\": \"scattergl\"}], \"scattermapbox\": [{\"marker\": {\"colorbar\": {\"outlinewidth\": 0, \"ticks\": \"\"}}, \"type\": \"scattermapbox\"}], \"scatterpolar\": [{\"marker\": {\"colorbar\": {\"outlinewidth\": 0, \"ticks\": \"\"}}, \"type\": \"scatterpolar\"}], \"scatterpolargl\": [{\"marker\": {\"colorbar\": {\"outlinewidth\": 0, \"ticks\": \"\"}}, \"type\": \"scatterpolargl\"}], \"scatterternary\": [{\"marker\": {\"colorbar\": {\"outlinewidth\": 0, \"ticks\": \"\"}}, \"type\": \"scatterternary\"}], \"surface\": [{\"colorbar\": {\"outlinewidth\": 0, \"ticks\": \"\"}, \"colorscale\": [[0.0, \"#0d0887\"], [0.1111111111111111, \"#46039f\"], [0.2222222222222222, \"#7201a8\"], [0.3333333333333333, \"#9c179e\"], [0.4444444444444444, \"#bd3786\"], [0.5555555555555556, \"#d8576b\"], [0.6666666666666666, \"#ed7953\"], [0.7777777777777778, \"#fb9f3a\"], [0.8888888888888888, \"#fdca26\"], [1.0, \"#f0f921\"]], \"type\": \"surface\"}], \"table\": [{\"cells\": {\"fill\": {\"color\": \"#EBF0F8\"}, \"line\": {\"color\": \"white\"}}, \"header\": {\"fill\": {\"color\": \"#C8D4E3\"}, \"line\": {\"color\": \"white\"}}, \"type\": \"table\"}]}, \"layout\": {\"annotationdefaults\": {\"arrowcolor\": \"#2a3f5f\", \"arrowhead\": 0, \"arrowwidth\": 1}, \"autotypenumbers\": \"strict\", \"coloraxis\": {\"colorbar\": {\"outlinewidth\": 0, \"ticks\": \"\"}}, \"colorscale\": {\"diverging\": [[0, \"#8e0152\"], [0.1, \"#c51b7d\"], [0.2, \"#de77ae\"], [0.3, \"#f1b6da\"], [0.4, \"#fde0ef\"], [0.5, \"#f7f7f7\"], [0.6, \"#e6f5d0\"], [0.7, \"#b8e186\"], [0.8, \"#7fbc41\"], [0.9, \"#4d9221\"], [1, \"#276419\"]], \"sequential\": [[0.0, \"#0d0887\"], [0.1111111111111111, \"#46039f\"], [0.2222222222222222, \"#7201a8\"], [0.3333333333333333, \"#9c179e\"], [0.4444444444444444, \"#bd3786\"], [0.5555555555555556, \"#d8576b\"], [0.6666666666666666, \"#ed7953\"], [0.7777777777777778, \"#fb9f3a\"], [0.8888888888888888, \"#fdca26\"], [1.0, \"#f0f921\"]], \"sequentialminus\": [[0.0, \"#0d0887\"], [0.1111111111111111, \"#46039f\"], [0.2222222222222222, \"#7201a8\"], [0.3333333333333333, \"#9c179e\"], [0.4444444444444444, \"#bd3786\"], [0.5555555555555556, \"#d8576b\"], [0.6666666666666666, \"#ed7953\"], [0.7777777777777778, \"#fb9f3a\"], [0.8888888888888888, \"#fdca26\"], [1.0, \"#f0f921\"]]}, \"colorway\": [\"#636efa\", \"#EF553B\", \"#00cc96\", \"#ab63fa\", \"#FFA15A\", \"#19d3f3\", \"#FF6692\", \"#B6E880\", \"#FF97FF\", \"#FECB52\"], \"font\": {\"color\": \"#2a3f5f\"}, \"geo\": {\"bgcolor\": \"white\", \"lakecolor\": \"white\", \"landcolor\": \"#E5ECF6\", \"showlakes\": true, \"showland\": true, \"subunitcolor\": \"white\"}, \"hoverlabel\": {\"align\": \"left\"}, \"hovermode\": \"closest\", \"mapbox\": {\"style\": \"light\"}, \"paper_bgcolor\": \"white\", \"plot_bgcolor\": \"#E5ECF6\", \"polar\": {\"angularaxis\": {\"gridcolor\": \"white\", \"linecolor\": \"white\", \"ticks\": \"\"}, \"bgcolor\": \"#E5ECF6\", \"radialaxis\": {\"gridcolor\": \"white\", \"linecolor\": \"white\", \"ticks\": \"\"}}, \"scene\": {\"xaxis\": {\"backgroundcolor\": \"#E5ECF6\", \"gridcolor\": \"white\", \"gridwidth\": 2, \"linecolor\": \"white\", \"showbackground\": true, \"ticks\": \"\", \"zerolinecolor\": \"white\"}, \"yaxis\": {\"backgroundcolor\": \"#E5ECF6\", \"gridcolor\": \"white\", \"gridwidth\": 2, \"linecolor\": \"white\", \"showbackground\": true, \"ticks\": \"\", \"zerolinecolor\": \"white\"}, \"zaxis\": {\"backgroundcolor\": \"#E5ECF6\", \"gridcolor\": \"white\", \"gridwidth\": 2, \"linecolor\": \"white\", \"showbackground\": true, \"ticks\": \"\", \"zerolinecolor\": \"white\"}}, \"shapedefaults\": {\"line\": {\"color\": \"#2a3f5f\"}}, \"ternary\": {\"aaxis\": {\"gridcolor\": \"white\", \"linecolor\": \"white\", \"ticks\": \"\"}, \"baxis\": {\"gridcolor\": \"white\", \"linecolor\": \"white\", \"ticks\": \"\"}, \"bgcolor\": \"#E5ECF6\", \"caxis\": {\"gridcolor\": \"white\", \"linecolor\": \"white\", \"ticks\": \"\"}}, \"title\": {\"x\": 0.05}, \"xaxis\": {\"automargin\": true, \"gridcolor\": \"white\", \"linecolor\": \"white\", \"ticks\": \"\", \"title\": {\"standoff\": 15}, \"zerolinecolor\": \"white\", \"zerolinewidth\": 2}, \"yaxis\": {\"automargin\": true, \"gridcolor\": \"white\", \"linecolor\": \"white\", \"ticks\": \"\", \"title\": {\"standoff\": 15}, \"zerolinecolor\": \"white\", \"zerolinewidth\": 2}}}, \"title\": {\"text\": \"Top product consumption in top 3 countries with highest population\"}, \"xaxis\": {\"anchor\": \"y\", \"domain\": [0.0, 1.0], \"title\": {\"text\": \"country\"}}, \"yaxis\": {\"anchor\": \"x\", \"domain\": [0.0, 1.0], \"title\": {\"text\": \"consumption\"}}},                        {\"responsive\": true}                    ).then(function(){\n",
       "                            \n",
       "var gd = document.getElementById('c0d6e6cc-6316-4b8a-ab9d-52cfce5d123c');\n",
       "var x = new MutationObserver(function (mutations, observer) {{\n",
       "        var display = window.getComputedStyle(gd).display;\n",
       "        if (!display || display === 'none') {{\n",
       "            console.log([gd, 'removed!']);\n",
       "            Plotly.purge(gd);\n",
       "            observer.disconnect();\n",
       "        }}\n",
       "}});\n",
       "\n",
       "// Listen for the removal of the full notebook cells\n",
       "var notebookContainer = gd.closest('#notebook-container');\n",
       "if (notebookContainer) {{\n",
       "    x.observe(notebookContainer, {childList: true});\n",
       "}}\n",
       "\n",
       "// Listen for the clearing of the current output cell\n",
       "var outputEl = gd.closest('.output');\n",
       "if (outputEl) {{\n",
       "    x.observe(outputEl, {childList: true});\n",
       "}}\n",
       "\n",
       "                        })                };                });            </script>        </div>"
      ]
     },
     "metadata": {},
     "output_type": "display_data"
    }
   ],
   "source": [
    "fig = px.bar(top, x='country', y='consumption', color=\"food_category\", title=\"Top product consumption in top 3 countries with highest population\",color_discrete_sequence=px.colors.sequential.RdBu)\n",
    "fig.show()"
   ]
  },
  {
   "cell_type": "code",
   "execution_count": 12,
   "metadata": {},
   "outputs": [
    {
     "data": {
      "application/vnd.plotly.v1+json": {
       "config": {
        "plotlyServerURL": "https://plot.ly"
       },
       "data": [
        {
         "alignmentgroup": "True",
         "hovertemplate": "food_category=Pork<br>country=%{x}<br>consumption=%{y}<extra></extra>",
         "legendgroup": "Pork",
         "marker": {
          "color": "rgb(103,0,31)"
         },
         "name": "Pork",
         "offsetgroup": "Pork",
         "orientation": "v",
         "showlegend": true,
         "textposition": "auto",
         "type": "bar",
         "x": [
          "Argentina",
          "Australia",
          "Albania",
          "Iceland",
          "New Zealand",
          "USA",
          "Uruguay",
          "Luxembourg",
          "Brazil",
          "Kazakhstan",
          "Sweden",
          "Bermuda",
          "Denmark",
          "Finland",
          "Ireland",
          "Greece",
          "France",
          "Canada",
          "Norway",
          "Hong Kong SAR. China",
          "French Polynesia",
          "Israel",
          "Switzerland",
          "Netherlands",
          "Kuwait",
          "United Kingdom",
          "Austria",
          "Oman",
          "Italy",
          "Bahamas",
          "Portugal",
          "Malta",
          "Armenia",
          "Slovenia",
          "Chile",
          "Venezuela",
          "Belgium",
          "Germany",
          "Russia",
          "Croatia",
          "Belarus",
          "Spain",
          "Paraguay",
          "New Caledonia",
          "South Africa",
          "Barbados",
          "Lithuania",
          "Turkey",
          "Estonia",
          "Mexico",
          "Costa Rica",
          "Bolivia",
          "Ecuador",
          "Panama",
          "Czech Republic",
          "Romania",
          "Colombia",
          "Maldives",
          "Cyprus",
          "Serbia",
          "United Arab Emirates",
          "Algeria",
          "Ukraine",
          "Pakistan",
          "Swazerland",
          "Latvia",
          "Bosnia and Herzegovina",
          "Fiji",
          "South Korea",
          "Poland",
          "Saudi Arabia",
          "Botswana",
          "Macedonia",
          "Hungary",
          "Trinidad and Tobago",
          "Tunisia",
          "Egypt",
          "Mauritius",
          "Bulgaria",
          "Morocco",
          "Slovakia",
          "Niger",
          "Kenya",
          "Jordan",
          "Japan",
          "Georgia",
          "Grenada",
          "El Salvador",
          "Cuba",
          "China",
          "Honduras",
          "Taiwan. ROC",
          "Angola",
          "Jamaica",
          "Namibia",
          "Belize",
          "Malaysia",
          "Zimbabwe",
          "Guatemala",
          "Uganda",
          "Nepal",
          "Iran",
          "Tanzania",
          "Senegal",
          "Peru",
          "Nicaragua",
          "Vietnam",
          "Ethiopia",
          "Myanmar",
          "Congo",
          "Zambia",
          "Cameroon",
          "Madagascar",
          "Malawi",
          "Guinea",
          "Nigeria",
          "Rwanda",
          "Philippines",
          "Ghana",
          "Togo",
          "Gambia",
          "India",
          "Thailand",
          "Mozambique",
          "Cambodia",
          "Sierra Leone",
          "Sri Lanka",
          "Indonesia",
          "Liberia",
          "Bangladesh"
         ],
         "xaxis": "x",
         "y": [
          10.51,
          24.14,
          10.88,
          21.69,
          22.29,
          27.64,
          16.84,
          43.58,
          12.6,
          10.36,
          37,
          28.24,
          24.87,
          36.14,
          32.4,
          28.31,
          33.05,
          22.81,
          23.51,
          67.11,
          14.75,
          1.99,
          31.49,
          36.36,
          0,
          25.79,
          52.56,
          0.01,
          40.28,
          32.74,
          37.91,
          34.24,
          9.67,
          28.19,
          24.68,
          7.23,
          38.65,
          51.81,
          25.66,
          42.79,
          40.37,
          48.92,
          26.24,
          19.9,
          4.16,
          8.3,
          45.67,
          0.01,
          29.68,
          15.23,
          10.28,
          8.89,
          14.44,
          13.48,
          41.17,
          25.31,
          6.51,
          1.22,
          38.38,
          32.04,
          0,
          0,
          20.56,
          0,
          2.43,
          34.96,
          9.38,
          4.31,
          32.76,
          46.19,
          0,
          0.74,
          10.35,
          34.93,
          8.92,
          0,
          0.02,
          4.08,
          26.26,
          0.01,
          31.78,
          0.09,
          0.29,
          0.02,
          20.62,
          8.93,
          11.52,
          3.23,
          19.82,
          38.43,
          6.48,
          39.37,
          8.89,
          3.99,
          4.21,
          16.8,
          7.76,
          2.65,
          4.85,
          3.37,
          0.67,
          0,
          0.32,
          0.94,
          3.85,
          3.38,
          35,
          0.02,
          11.31,
          2.39,
          1.66,
          1.47,
          2.56,
          5.45,
          0.16,
          1.47,
          0.76,
          18.4,
          1.36,
          1.57,
          0.18,
          0.28,
          13,
          5.13,
          6.52,
          1.22,
          0.05,
          2.98,
          4.01,
          0
         ],
         "yaxis": "y"
        },
        {
         "alignmentgroup": "True",
         "hovertemplate": "food_category=Poultry<br>country=%{x}<br>consumption=%{y}<extra></extra>",
         "legendgroup": "Poultry",
         "marker": {
          "color": "rgb(178,24,43)"
         },
         "name": "Poultry",
         "offsetgroup": "Poultry",
         "orientation": "v",
         "showlegend": true,
         "textposition": "auto",
         "type": "bar",
         "x": [
          "Argentina",
          "Australia",
          "Albania",
          "Iceland",
          "New Zealand",
          "USA",
          "Uruguay",
          "Luxembourg",
          "Brazil",
          "Kazakhstan",
          "Sweden",
          "Bermuda",
          "Denmark",
          "Finland",
          "Ireland",
          "Greece",
          "France",
          "Canada",
          "Norway",
          "Hong Kong SAR. China",
          "French Polynesia",
          "Israel",
          "Switzerland",
          "Netherlands",
          "Kuwait",
          "United Kingdom",
          "Austria",
          "Oman",
          "Italy",
          "Bahamas",
          "Portugal",
          "Malta",
          "Armenia",
          "Slovenia",
          "Chile",
          "Venezuela",
          "Belgium",
          "Germany",
          "Russia",
          "Croatia",
          "Belarus",
          "Spain",
          "Paraguay",
          "New Caledonia",
          "South Africa",
          "Barbados",
          "Lithuania",
          "Turkey",
          "Estonia",
          "Mexico",
          "Costa Rica",
          "Bolivia",
          "Ecuador",
          "Panama",
          "Czech Republic",
          "Romania",
          "Colombia",
          "Maldives",
          "Cyprus",
          "Serbia",
          "United Arab Emirates",
          "Algeria",
          "Ukraine",
          "Pakistan",
          "Swazerland",
          "Latvia",
          "Bosnia and Herzegovina",
          "Fiji",
          "South Korea",
          "Poland",
          "Saudi Arabia",
          "Botswana",
          "Macedonia",
          "Hungary",
          "Trinidad and Tobago",
          "Tunisia",
          "Egypt",
          "Mauritius",
          "Bulgaria",
          "Morocco",
          "Slovakia",
          "Niger",
          "Kenya",
          "Jordan",
          "Japan",
          "Georgia",
          "Grenada",
          "El Salvador",
          "Cuba",
          "China",
          "Honduras",
          "Taiwan. ROC",
          "Angola",
          "Jamaica",
          "Namibia",
          "Belize",
          "Malaysia",
          "Zimbabwe",
          "Guatemala",
          "Uganda",
          "Nepal",
          "Iran",
          "Tanzania",
          "Senegal",
          "Peru",
          "Nicaragua",
          "Vietnam",
          "Ethiopia",
          "Myanmar",
          "Congo",
          "Zambia",
          "Cameroon",
          "Madagascar",
          "Malawi",
          "Guinea",
          "Nigeria",
          "Rwanda",
          "Philippines",
          "Ghana",
          "Togo",
          "Gambia",
          "India",
          "Thailand",
          "Mozambique",
          "Cambodia",
          "Sierra Leone",
          "Sri Lanka",
          "Indonesia",
          "Liberia",
          "Bangladesh"
         ],
         "xaxis": "x",
         "y": [
          38.66,
          46.12,
          13.23,
          26.87,
          34.98,
          50.01,
          27.45,
          21.37,
          45,
          18.38,
          16.64,
          32.62,
          26.75,
          19.87,
          26.26,
          15.74,
          22.93,
          36.68,
          21.01,
          54.86,
          49.55,
          62.5,
          16.38,
          23.9,
          53.61,
          31.55,
          18.61,
          31.51,
          18.61,
          45.74,
          30.14,
          26.4,
          13.35,
          23.46,
          36.52,
          39.28,
          12.2,
          17.75,
          27.5,
          8.52,
          31.29,
          28.63,
          6.39,
          44.36,
          37.57,
          42.62,
          26.84,
          18.78,
          21.11,
          30.12,
          24.47,
          34.31,
          21.85,
          30.81,
          19.09,
          15.38,
          27.57,
          18.47,
          24.45,
          10.64,
          41.04,
          7.42,
          24.23,
          5.01,
          6.18,
          20.53,
          13.17,
          20.26,
          16,
          27.41,
          49.05,
          5.33,
          18.77,
          23.78,
          58.27,
          18.5,
          14.43,
          38.51,
          20.68,
          20.77,
          15.13,
          1.08,
          0.47,
          33.39,
          19.42,
          12.28,
          43.51,
          19.84,
          20.15,
          13.2,
          20.29,
          32.13,
          17.33,
          52.51,
          12.19,
          28.31,
          41.01,
          4.97,
          16.45,
          1.51,
          1.56,
          25.38,
          1.84,
          4.62,
          11.72,
          21.31,
          12.36,
          0.66,
          21.87,
          13.02,
          3.29,
          3.29,
          3.14,
          1.38,
          1.83,
          1.73,
          1.34,
          11.91,
          8.63,
          6.63,
          2.66,
          1.88,
          13.69,
          1.41,
          1.84,
          4.97,
          4.96,
          7.5,
          8.91,
          1.4
         ],
         "yaxis": "y"
        },
        {
         "alignmentgroup": "True",
         "hovertemplate": "food_category=Beef<br>country=%{x}<br>consumption=%{y}<extra></extra>",
         "legendgroup": "Beef",
         "marker": {
          "color": "rgb(214,96,77)"
         },
         "name": "Beef",
         "offsetgroup": "Beef",
         "orientation": "v",
         "showlegend": true,
         "textposition": "auto",
         "type": "bar",
         "x": [
          "Argentina",
          "Australia",
          "Albania",
          "Iceland",
          "New Zealand",
          "USA",
          "Uruguay",
          "Luxembourg",
          "Brazil",
          "Kazakhstan",
          "Sweden",
          "Bermuda",
          "Denmark",
          "Finland",
          "Ireland",
          "Greece",
          "France",
          "Canada",
          "Norway",
          "Hong Kong SAR. China",
          "French Polynesia",
          "Israel",
          "Switzerland",
          "Netherlands",
          "Kuwait",
          "United Kingdom",
          "Austria",
          "Oman",
          "Italy",
          "Bahamas",
          "Portugal",
          "Malta",
          "Armenia",
          "Slovenia",
          "Chile",
          "Venezuela",
          "Belgium",
          "Germany",
          "Russia",
          "Croatia",
          "Belarus",
          "Spain",
          "Paraguay",
          "New Caledonia",
          "South Africa",
          "Barbados",
          "Lithuania",
          "Turkey",
          "Estonia",
          "Mexico",
          "Costa Rica",
          "Bolivia",
          "Ecuador",
          "Panama",
          "Czech Republic",
          "Romania",
          "Colombia",
          "Maldives",
          "Cyprus",
          "Serbia",
          "United Arab Emirates",
          "Algeria",
          "Ukraine",
          "Pakistan",
          "Swazerland",
          "Latvia",
          "Bosnia and Herzegovina",
          "Fiji",
          "South Korea",
          "Poland",
          "Saudi Arabia",
          "Botswana",
          "Macedonia",
          "Hungary",
          "Trinidad and Tobago",
          "Tunisia",
          "Egypt",
          "Mauritius",
          "Bulgaria",
          "Morocco",
          "Slovakia",
          "Niger",
          "Kenya",
          "Jordan",
          "Japan",
          "Georgia",
          "Grenada",
          "El Salvador",
          "Cuba",
          "China",
          "Honduras",
          "Taiwan. ROC",
          "Angola",
          "Jamaica",
          "Namibia",
          "Belize",
          "Malaysia",
          "Zimbabwe",
          "Guatemala",
          "Uganda",
          "Nepal",
          "Iran",
          "Tanzania",
          "Senegal",
          "Peru",
          "Nicaragua",
          "Vietnam",
          "Ethiopia",
          "Myanmar",
          "Congo",
          "Zambia",
          "Cameroon",
          "Madagascar",
          "Malawi",
          "Guinea",
          "Nigeria",
          "Rwanda",
          "Philippines",
          "Ghana",
          "Togo",
          "Gambia",
          "India",
          "Thailand",
          "Mozambique",
          "Cambodia",
          "Sierra Leone",
          "Sri Lanka",
          "Indonesia",
          "Liberia",
          "Bangladesh"
         ],
         "xaxis": "x",
         "y": [
          55.48,
          33.86,
          22.5,
          13.36,
          22.49,
          36.24,
          29.1,
          29.88,
          39.25,
          23.38,
          24.58,
          33.15,
          28.46,
          19.22,
          22.35,
          16.1,
          23.81,
          30.25,
          19.83,
          25.82,
          30.9,
          28.78,
          21.26,
          17.67,
          13.03,
          18.12,
          17.14,
          15.1,
          18.6,
          19.92,
          16.45,
          19.22,
          19.66,
          18.43,
          23.86,
          25.89,
          15.63,
          13.16,
          16.98,
          12.41,
          17.11,
          12.15,
          19.81,
          16.07,
          18.03,
          13.13,
          4.49,
          11.64,
          7.19,
          15.33,
          15.23,
          19.78,
          16.61,
          20.4,
          8.15,
          4.78,
          16.36,
          9.44,
          5.79,
          7.05,
          5.64,
          5.6,
          8.96,
          8.82,
          15.1,
          5.11,
          9.12,
          8.96,
          14.53,
          2.32,
          6.45,
          7.85,
          7.69,
          4.96,
          6.13,
          5.53,
          12.88,
          5.99,
          3.84,
          8.04,
          5.19,
          8.97,
          9.54,
          5.61,
          9.15,
          6.04,
          3.46,
          5.95,
          6.39,
          5.12,
          7.19,
          5.21,
          8.42,
          3.97,
          3.75,
          4.86,
          6.52,
          7.37,
          5.6,
          5.15,
          7.89,
          3.58,
          6.09,
          5.85,
          4.69,
          4.73,
          7.44,
          3.61,
          4.94,
          4.35,
          4.76,
          4.17,
          7.51,
          2.35,
          6.26,
          2.33,
          2.53,
          4.06,
          1.09,
          1.53,
          2.16,
          0.81,
          2.56,
          1.04,
          4.85,
          1.99,
          1.38,
          2.59,
          0.78,
          1.28
         ],
         "yaxis": "y"
        },
        {
         "alignmentgroup": "True",
         "hovertemplate": "food_category=Lamb & Goat<br>country=%{x}<br>consumption=%{y}<extra></extra>",
         "legendgroup": "Lamb & Goat",
         "marker": {
          "color": "rgb(244,165,130)"
         },
         "name": "Lamb & Goat",
         "offsetgroup": "Lamb & Goat",
         "orientation": "v",
         "showlegend": true,
         "textposition": "auto",
         "type": "bar",
         "x": [
          "Argentina",
          "Australia",
          "Albania",
          "Iceland",
          "New Zealand",
          "USA",
          "Uruguay",
          "Luxembourg",
          "Brazil",
          "Kazakhstan",
          "Sweden",
          "Bermuda",
          "Denmark",
          "Finland",
          "Ireland",
          "Greece",
          "France",
          "Canada",
          "Norway",
          "Hong Kong SAR. China",
          "French Polynesia",
          "Israel",
          "Switzerland",
          "Netherlands",
          "Kuwait",
          "United Kingdom",
          "Austria",
          "Oman",
          "Italy",
          "Bahamas",
          "Portugal",
          "Malta",
          "Armenia",
          "Slovenia",
          "Chile",
          "Venezuela",
          "Belgium",
          "Germany",
          "Russia",
          "Croatia",
          "Belarus",
          "Spain",
          "Paraguay",
          "New Caledonia",
          "South Africa",
          "Barbados",
          "Lithuania",
          "Turkey",
          "Estonia",
          "Mexico",
          "Costa Rica",
          "Bolivia",
          "Ecuador",
          "Panama",
          "Czech Republic",
          "Romania",
          "Colombia",
          "Maldives",
          "Cyprus",
          "Serbia",
          "United Arab Emirates",
          "Algeria",
          "Ukraine",
          "Pakistan",
          "Swazerland",
          "Latvia",
          "Bosnia and Herzegovina",
          "Fiji",
          "South Korea",
          "Poland",
          "Saudi Arabia",
          "Botswana",
          "Macedonia",
          "Hungary",
          "Trinidad and Tobago",
          "Tunisia",
          "Egypt",
          "Mauritius",
          "Bulgaria",
          "Morocco",
          "Slovakia",
          "Niger",
          "Kenya",
          "Jordan",
          "Japan",
          "Georgia",
          "Grenada",
          "El Salvador",
          "Cuba",
          "China",
          "Honduras",
          "Taiwan. ROC",
          "Angola",
          "Jamaica",
          "Namibia",
          "Belize",
          "Malaysia",
          "Zimbabwe",
          "Guatemala",
          "Uganda",
          "Nepal",
          "Iran",
          "Tanzania",
          "Senegal",
          "Peru",
          "Nicaragua",
          "Vietnam",
          "Ethiopia",
          "Myanmar",
          "Congo",
          "Zambia",
          "Cameroon",
          "Madagascar",
          "Malawi",
          "Guinea",
          "Nigeria",
          "Rwanda",
          "Philippines",
          "Ghana",
          "Togo",
          "Gambia",
          "India",
          "Thailand",
          "Mozambique",
          "Cambodia",
          "Sierra Leone",
          "Sri Lanka",
          "Indonesia",
          "Liberia",
          "Bangladesh"
         ],
         "xaxis": "x",
         "y": [
          1.56,
          9.87,
          15.32,
          21.12,
          18.91,
          0.43,
          8.23,
          1.67,
          0.62,
          9.56,
          1.41,
          2.71,
          0.92,
          0.53,
          4.1,
          12.47,
          3.28,
          0.97,
          5.34,
          2.22,
          2.83,
          1.87,
          1.42,
          0.94,
          15.61,
          4.49,
          1.16,
          12.87,
          0.92,
          5.22,
          2.38,
          1.19,
          3.02,
          0.79,
          0.42,
          0.32,
          1.32,
          0.73,
          1.4,
          1.71,
          0.11,
          2.16,
          0.56,
          1.95,
          4.28,
          4.08,
          0.24,
          4.68,
          0.44,
          0.89,
          0.02,
          1.72,
          0.44,
          0.01,
          0.34,
          3.41,
          0.21,
          0.7,
          5.05,
          3.56,
          9.08,
          7.69,
          0.41,
          2.46,
          1.94,
          0.34,
          0.47,
          5.9,
          0.14,
          0.02,
          6.54,
          3.76,
          0.94,
          0.11,
          2.79,
          5.34,
          1.58,
          4.08,
          1.63,
          4.36,
          0.16,
          4.17,
          1.86,
          5.68,
          0.14,
          0.63,
          1.25,
          0.02,
          1.24,
          3.13,
          0.04,
          0.92,
          1.08,
          1.26,
          2.27,
          0.14,
          0.94,
          0.96,
          0.23,
          1.25,
          2.1,
          3.69,
          1.28,
          3.19,
          1,
          0.01,
          0.14,
          1.57,
          0.89,
          0.4,
          0.68,
          1.4,
          0.57,
          2.07,
          1.6,
          2.72,
          1.93,
          0.56,
          1.74,
          1.58,
          0.71,
          0.58,
          0.05,
          0.9,
          0,
          0.65,
          0.09,
          0.46,
          0.48,
          1.33
         ],
         "yaxis": "y"
        },
        {
         "alignmentgroup": "True",
         "hovertemplate": "food_category=Fish<br>country=%{x}<br>consumption=%{y}<extra></extra>",
         "legendgroup": "Fish",
         "marker": {
          "color": "rgb(253,219,199)"
         },
         "name": "Fish",
         "offsetgroup": "Fish",
         "orientation": "v",
         "showlegend": true,
         "textposition": "auto",
         "type": "bar",
         "x": [
          "Argentina",
          "Australia",
          "Albania",
          "Iceland",
          "New Zealand",
          "USA",
          "Uruguay",
          "Luxembourg",
          "Brazil",
          "Kazakhstan",
          "Sweden",
          "Bermuda",
          "Denmark",
          "Finland",
          "Ireland",
          "Greece",
          "France",
          "Canada",
          "Norway",
          "Hong Kong SAR. China",
          "French Polynesia",
          "Israel",
          "Switzerland",
          "Netherlands",
          "Kuwait",
          "United Kingdom",
          "Austria",
          "Oman",
          "Italy",
          "Bahamas",
          "Portugal",
          "Malta",
          "Armenia",
          "Slovenia",
          "Chile",
          "Venezuela",
          "Belgium",
          "Germany",
          "Russia",
          "Croatia",
          "Belarus",
          "Spain",
          "Paraguay",
          "New Caledonia",
          "South Africa",
          "Barbados",
          "Lithuania",
          "Turkey",
          "Estonia",
          "Mexico",
          "Costa Rica",
          "Bolivia",
          "Ecuador",
          "Panama",
          "Czech Republic",
          "Romania",
          "Colombia",
          "Maldives",
          "Cyprus",
          "Serbia",
          "United Arab Emirates",
          "Algeria",
          "Ukraine",
          "Pakistan",
          "Swazerland",
          "Latvia",
          "Bosnia and Herzegovina",
          "Fiji",
          "South Korea",
          "Poland",
          "Saudi Arabia",
          "Botswana",
          "Macedonia",
          "Hungary",
          "Trinidad and Tobago",
          "Tunisia",
          "Egypt",
          "Mauritius",
          "Bulgaria",
          "Morocco",
          "Slovakia",
          "Niger",
          "Kenya",
          "Jordan",
          "Japan",
          "Georgia",
          "Grenada",
          "El Salvador",
          "Cuba",
          "China",
          "Honduras",
          "Taiwan. ROC",
          "Angola",
          "Jamaica",
          "Namibia",
          "Belize",
          "Malaysia",
          "Zimbabwe",
          "Guatemala",
          "Uganda",
          "Nepal",
          "Iran",
          "Tanzania",
          "Senegal",
          "Peru",
          "Nicaragua",
          "Vietnam",
          "Ethiopia",
          "Myanmar",
          "Congo",
          "Zambia",
          "Cameroon",
          "Madagascar",
          "Malawi",
          "Guinea",
          "Nigeria",
          "Rwanda",
          "Philippines",
          "Ghana",
          "Togo",
          "Gambia",
          "India",
          "Thailand",
          "Mozambique",
          "Cambodia",
          "Sierra Leone",
          "Sri Lanka",
          "Indonesia",
          "Liberia",
          "Bangladesh"
         ],
         "xaxis": "x",
         "y": [
          4.36,
          17.69,
          3.85,
          74.41,
          20.36,
          12.35,
          6.53,
          23.09,
          10.01,
          5.21,
          23.86,
          33.22,
          16.49,
          33.8,
          17.39,
          14.42,
          22.91,
          14.56,
          38.18,
          42.44,
          38.95,
          22.18,
          13.48,
          18.64,
          11.99,
          15.49,
          12.16,
          21.56,
          15.6,
          18.8,
          45.39,
          24.58,
          4.36,
          7.76,
          7.65,
          8.34,
          18.97,
          11.16,
          20.82,
          15.83,
          15.75,
          28.83,
          3.6,
          19.38,
          5.56,
          37.41,
          42.39,
          5.58,
          12.78,
          7.56,
          11.32,
          2.18,
          5.17,
          11.05,
          8.25,
          6.07,
          6.01,
          179.71,
          14.86,
          5.59,
          20.41,
          3.74,
          15.23,
          1.87,
          1.26,
          21.3,
          4.06,
          35.01,
          33.09,
          10.49,
          11.99,
          3.98,
          5.47,
          4.93,
          20.54,
          12.63,
          21.46,
          19.66,
          6.24,
          17.44,
          8.39,
          2.7,
          4.27,
          5.13,
          31.1,
          10.42,
          27.95,
          6.25,
          4.76,
          21.01,
          2.7,
          18.29,
          15.24,
          21.95,
          10.7,
          7.57,
          49.43,
          2.8,
          1.08,
          12.5,
          2.17,
          9.8,
          5.5,
          22.94,
          15.74,
          3.59,
          26.52,
          0.24,
          54.26,
          26.22,
          6.2,
          14.71,
          4.41,
          7.33,
          9.18,
          16.03,
          3.88,
          28.51,
          26.05,
          11.69,
          23.13,
          4.71,
          19.45,
          7.74,
          39.59,
          32.03,
          24.92,
          25.65,
          4.13,
          18.07
         ],
         "yaxis": "y"
        },
        {
         "alignmentgroup": "True",
         "hovertemplate": "food_category=Eggs<br>country=%{x}<br>consumption=%{y}<extra></extra>",
         "legendgroup": "Eggs",
         "marker": {
          "color": "rgb(247,247,247)"
         },
         "name": "Eggs",
         "offsetgroup": "Eggs",
         "orientation": "v",
         "showlegend": true,
         "textposition": "auto",
         "type": "bar",
         "x": [
          "Argentina",
          "Australia",
          "Albania",
          "Iceland",
          "New Zealand",
          "USA",
          "Uruguay",
          "Luxembourg",
          "Brazil",
          "Kazakhstan",
          "Sweden",
          "Bermuda",
          "Denmark",
          "Finland",
          "Ireland",
          "Greece",
          "France",
          "Canada",
          "Norway",
          "Hong Kong SAR. China",
          "French Polynesia",
          "Israel",
          "Switzerland",
          "Netherlands",
          "Kuwait",
          "United Kingdom",
          "Austria",
          "Oman",
          "Italy",
          "Bahamas",
          "Portugal",
          "Malta",
          "Armenia",
          "Slovenia",
          "Chile",
          "Venezuela",
          "Belgium",
          "Germany",
          "Russia",
          "Croatia",
          "Belarus",
          "Spain",
          "Paraguay",
          "New Caledonia",
          "South Africa",
          "Barbados",
          "Lithuania",
          "Turkey",
          "Estonia",
          "Mexico",
          "Costa Rica",
          "Bolivia",
          "Ecuador",
          "Panama",
          "Czech Republic",
          "Romania",
          "Colombia",
          "Maldives",
          "Cyprus",
          "Serbia",
          "United Arab Emirates",
          "Algeria",
          "Ukraine",
          "Pakistan",
          "Swazerland",
          "Latvia",
          "Bosnia and Herzegovina",
          "Fiji",
          "South Korea",
          "Poland",
          "Saudi Arabia",
          "Botswana",
          "Macedonia",
          "Hungary",
          "Trinidad and Tobago",
          "Tunisia",
          "Egypt",
          "Mauritius",
          "Bulgaria",
          "Morocco",
          "Slovakia",
          "Niger",
          "Kenya",
          "Jordan",
          "Japan",
          "Georgia",
          "Grenada",
          "El Salvador",
          "Cuba",
          "China",
          "Honduras",
          "Taiwan. ROC",
          "Angola",
          "Jamaica",
          "Namibia",
          "Belize",
          "Malaysia",
          "Zimbabwe",
          "Guatemala",
          "Uganda",
          "Nepal",
          "Iran",
          "Tanzania",
          "Senegal",
          "Peru",
          "Nicaragua",
          "Vietnam",
          "Ethiopia",
          "Myanmar",
          "Congo",
          "Zambia",
          "Cameroon",
          "Madagascar",
          "Malawi",
          "Guinea",
          "Nigeria",
          "Rwanda",
          "Philippines",
          "Ghana",
          "Togo",
          "Gambia",
          "India",
          "Thailand",
          "Mozambique",
          "Cambodia",
          "Sierra Leone",
          "Sri Lanka",
          "Indonesia",
          "Liberia",
          "Bangladesh"
         ],
         "xaxis": "x",
         "y": [
          11.39,
          8.51,
          12.45,
          8.24,
          9.91,
          14.58,
          13.14,
          14.64,
          8.98,
          8.29,
          13.37,
          14.92,
          15.35,
          9.55,
          8.96,
          10.13,
          13.13,
          12.95,
          11.41,
          14.5,
          8.75,
          11.35,
          10.53,
          14.03,
          12.6,
          11.08,
          14.68,
          7.8,
          13.34,
          6.2,
          9.05,
          11.64,
          11.69,
          9.36,
          9.97,
          5.63,
          12.59,
          12.2,
          15.43,
          8.48,
          15.86,
          13.32,
          18.83,
          8.85,
          7.21,
          9.61,
          13.11,
          8.2,
          12.66,
          18.34,
          10.55,
          5.18,
          8.01,
          4.53,
          11.66,
          12.94,
          10.78,
          10.79,
          8.98,
          8.89,
          8.23,
          8.06,
          18.01,
          2.95,
          1.5,
          14.03,
          4.49,
          6.44,
          11.24,
          7.53,
          5.37,
          1.95,
          6.38,
          12.45,
          4.2,
          7.67,
          4.59,
          6.32,
          8.36,
          6.68,
          16.05,
          0.3,
          1.84,
          3.92,
          19.15,
          6.12,
          10.34,
          9.51,
          9.82,
          18.76,
          5.19,
          13.08,
          1.11,
          2.27,
          1.63,
          4.85,
          16.57,
          1.75,
          14.61,
          0.97,
          1.42,
          7.7,
          0.58,
          1.63,
          8.76,
          4.9,
          3.84,
          0.36,
          6.45,
          0.6,
          3.32,
          0.4,
          0.71,
          1.08,
          1.95,
          3.46,
          0.16,
          4.02,
          1.21,
          0.86,
          0.99,
          2.58,
          12.35,
          1.7,
          1.37,
          1.92,
          4.57,
          4.88,
          2.05,
          2.08
         ],
         "yaxis": "y"
        },
        {
         "alignmentgroup": "True",
         "hovertemplate": "food_category=Milk - inc. cheese<br>country=%{x}<br>consumption=%{y}<extra></extra>",
         "legendgroup": "Milk - inc. cheese",
         "marker": {
          "color": "rgb(209,229,240)"
         },
         "name": "Milk - inc. cheese",
         "offsetgroup": "Milk - inc. cheese",
         "orientation": "v",
         "showlegend": true,
         "textposition": "auto",
         "type": "bar",
         "x": [
          "Argentina",
          "Australia",
          "Albania",
          "Iceland",
          "New Zealand",
          "USA",
          "Uruguay",
          "Luxembourg",
          "Brazil",
          "Kazakhstan",
          "Sweden",
          "Bermuda",
          "Denmark",
          "Finland",
          "Ireland",
          "Greece",
          "France",
          "Canada",
          "Norway",
          "Hong Kong SAR. China",
          "French Polynesia",
          "Israel",
          "Switzerland",
          "Netherlands",
          "Kuwait",
          "United Kingdom",
          "Austria",
          "Oman",
          "Italy",
          "Bahamas",
          "Portugal",
          "Malta",
          "Armenia",
          "Slovenia",
          "Chile",
          "Venezuela",
          "Belgium",
          "Germany",
          "Russia",
          "Croatia",
          "Belarus",
          "Spain",
          "Paraguay",
          "New Caledonia",
          "South Africa",
          "Barbados",
          "Lithuania",
          "Turkey",
          "Estonia",
          "Mexico",
          "Costa Rica",
          "Bolivia",
          "Ecuador",
          "Panama",
          "Czech Republic",
          "Romania",
          "Colombia",
          "Maldives",
          "Cyprus",
          "Serbia",
          "United Arab Emirates",
          "Algeria",
          "Ukraine",
          "Pakistan",
          "Swazerland",
          "Latvia",
          "Bosnia and Herzegovina",
          "Fiji",
          "South Korea",
          "Poland",
          "Saudi Arabia",
          "Botswana",
          "Macedonia",
          "Hungary",
          "Trinidad and Tobago",
          "Tunisia",
          "Egypt",
          "Mauritius",
          "Bulgaria",
          "Morocco",
          "Slovakia",
          "Niger",
          "Kenya",
          "Jordan",
          "Japan",
          "Georgia",
          "Grenada",
          "El Salvador",
          "Cuba",
          "China",
          "Honduras",
          "Taiwan. ROC",
          "Angola",
          "Jamaica",
          "Namibia",
          "Belize",
          "Malaysia",
          "Zimbabwe",
          "Guatemala",
          "Uganda",
          "Nepal",
          "Iran",
          "Tanzania",
          "Senegal",
          "Peru",
          "Nicaragua",
          "Vietnam",
          "Ethiopia",
          "Myanmar",
          "Congo",
          "Zambia",
          "Cameroon",
          "Madagascar",
          "Malawi",
          "Guinea",
          "Nigeria",
          "Rwanda",
          "Philippines",
          "Ghana",
          "Togo",
          "Gambia",
          "India",
          "Thailand",
          "Mozambique",
          "Cambodia",
          "Sierra Leone",
          "Sri Lanka",
          "Indonesia",
          "Liberia",
          "Bangladesh"
         ],
         "xaxis": "x",
         "y": [
          195.08,
          234.49,
          303.72,
          225.82,
          137.25,
          254.69,
          210.54,
          255.3,
          149.28,
          288.12,
          341.23,
          95.56,
          277.3,
          430.76,
          291.86,
          255.26,
          241.31,
          187.77,
          261.34,
          105.85,
          93.56,
          193.6,
          318.69,
          341.47,
          157.66,
          232.2,
          258.09,
          152.28,
          246.88,
          104.76,
          205.04,
          190.06,
          209.03,
          235.01,
          116.11,
          117.79,
          236.19,
          258.7,
          163.57,
          231.02,
          133.73,
          164.29,
          75.72,
          108,
          55.75,
          110.48,
          295.46,
          193.94,
          284.85,
          111.87,
          183.28,
          46.04,
          139.6,
          70.29,
          195.2,
          238.33,
          108.47,
          111.47,
          113.31,
          148.53,
          132.66,
          141.53,
          145.03,
          183.13,
          56.6,
          174.11,
          174.03,
          40.2,
          29.05,
          205.39,
          83.65,
          117.74,
          157.93,
          159.05,
          103.8,
          114.47,
          59.46,
          117.27,
          155.71,
          54.68,
          143.14,
          58.92,
          94.86,
          77.68,
          72.06,
          149.26,
          86.88,
          124.34,
          99.94,
          32.66,
          91.33,
          41.72,
          12.3,
          91.13,
          73.05,
          80.3,
          25.28,
          31.9,
          46.6,
          37.27,
          52.1,
          46.69,
          40.29,
          16.86,
          62.15,
          85.16,
          16.36,
          44.14,
          31.48,
          10.69,
          9.71,
          15.27,
          24.84,
          7.98,
          20.62,
          7.91,
          7.23,
          15.66,
          9.08,
          7.96,
          45.71,
          84.5,
          29.35,
          4.79,
          3.47,
          7,
          34.98,
          14.82,
          3.04,
          21.91
         ],
         "yaxis": "y"
        },
        {
         "alignmentgroup": "True",
         "hovertemplate": "food_category=Wheat and Wheat Products<br>country=%{x}<br>consumption=%{y}<extra></extra>",
         "legendgroup": "Wheat and Wheat Products",
         "marker": {
          "color": "rgb(146,197,222)"
         },
         "name": "Wheat and Wheat Products",
         "offsetgroup": "Wheat and Wheat Products",
         "orientation": "v",
         "showlegend": true,
         "textposition": "auto",
         "type": "bar",
         "x": [
          "Argentina",
          "Australia",
          "Albania",
          "Iceland",
          "New Zealand",
          "USA",
          "Uruguay",
          "Luxembourg",
          "Brazil",
          "Kazakhstan",
          "Sweden",
          "Bermuda",
          "Denmark",
          "Finland",
          "Ireland",
          "Greece",
          "France",
          "Canada",
          "Norway",
          "Hong Kong SAR. China",
          "French Polynesia",
          "Israel",
          "Switzerland",
          "Netherlands",
          "Kuwait",
          "United Kingdom",
          "Austria",
          "Oman",
          "Italy",
          "Bahamas",
          "Portugal",
          "Malta",
          "Armenia",
          "Slovenia",
          "Chile",
          "Venezuela",
          "Belgium",
          "Germany",
          "Russia",
          "Croatia",
          "Belarus",
          "Spain",
          "Paraguay",
          "New Caledonia",
          "South Africa",
          "Barbados",
          "Lithuania",
          "Turkey",
          "Estonia",
          "Mexico",
          "Costa Rica",
          "Bolivia",
          "Ecuador",
          "Panama",
          "Czech Republic",
          "Romania",
          "Colombia",
          "Maldives",
          "Cyprus",
          "Serbia",
          "United Arab Emirates",
          "Algeria",
          "Ukraine",
          "Pakistan",
          "Swazerland",
          "Latvia",
          "Bosnia and Herzegovina",
          "Fiji",
          "South Korea",
          "Poland",
          "Saudi Arabia",
          "Botswana",
          "Macedonia",
          "Hungary",
          "Trinidad and Tobago",
          "Tunisia",
          "Egypt",
          "Mauritius",
          "Bulgaria",
          "Morocco",
          "Slovakia",
          "Niger",
          "Kenya",
          "Jordan",
          "Japan",
          "Georgia",
          "Grenada",
          "El Salvador",
          "Cuba",
          "China",
          "Honduras",
          "Taiwan. ROC",
          "Angola",
          "Jamaica",
          "Namibia",
          "Belize",
          "Malaysia",
          "Zimbabwe",
          "Guatemala",
          "Uganda",
          "Nepal",
          "Iran",
          "Tanzania",
          "Senegal",
          "Peru",
          "Nicaragua",
          "Vietnam",
          "Ethiopia",
          "Myanmar",
          "Congo",
          "Zambia",
          "Cameroon",
          "Madagascar",
          "Malawi",
          "Guinea",
          "Nigeria",
          "Rwanda",
          "Philippines",
          "Ghana",
          "Togo",
          "Gambia",
          "India",
          "Thailand",
          "Mozambique",
          "Cambodia",
          "Sierra Leone",
          "Sri Lanka",
          "Indonesia",
          "Liberia",
          "Bangladesh"
         ],
         "xaxis": "x",
         "y": [
          103.11,
          70.46,
          138.64,
          72.92,
          76.91,
          80.43,
          109.31,
          103.2,
          53,
          92.31,
          79.59,
          54.88,
          98,
          81.99,
          107.98,
          124.04,
          108.43,
          84.96,
          97.12,
          53.14,
          68.67,
          110.86,
          89.51,
          70.17,
          96.76,
          98.63,
          81.1,
          64.1,
          146.37,
          39.98,
          94.3,
          139.58,
          130.6,
          103.43,
          104.74,
          49.17,
          111.91,
          83.41,
          130.99,
          106.59,
          60.48,
          93.88,
          31.51,
          81.75,
          60.13,
          65.71,
          121.59,
          169.96,
          89.36,
          35.21,
          39.31,
          49.99,
          39.19,
          38.96,
          92.67,
          134.87,
          29.79,
          77.77,
          83.25,
          105.88,
          101.29,
          185.42,
          105.15,
          113.63,
          37.15,
          72.13,
          93.56,
          84.22,
          50.84,
          108.83,
          89.47,
          38.2,
          104.8,
          109.98,
          90.17,
          197.5,
          146.83,
          114.02,
          121.17,
          179.7,
          123.62,
          4.79,
          34.65,
          136.74,
          45.04,
          163.43,
          59.59,
          28.19,
          54.62,
          63.36,
          37.36,
          50.92,
          40.72,
          70.67,
          36.26,
          54.06,
          51.04,
          31.31,
          35.9,
          10.14,
          50.46,
          153.31,
          15.94,
          37.32,
          56.12,
          28.17,
          10.49,
          31.26,
          6.22,
          40.07,
          12.1,
          22.6,
          9.01,
          11.77,
          18.55,
          20.82,
          11.34,
          23.12,
          14.45,
          12.91,
          37.91,
          60.56,
          10.93,
          14.65,
          2.74,
          8.72,
          37.01,
          25.45,
          10.95,
          17.47
         ],
         "yaxis": "y"
        },
        {
         "alignmentgroup": "True",
         "hovertemplate": "food_category=Rice<br>country=%{x}<br>consumption=%{y}<extra></extra>",
         "legendgroup": "Rice",
         "marker": {
          "color": "rgb(67,147,195)"
         },
         "name": "Rice",
         "offsetgroup": "Rice",
         "orientation": "v",
         "showlegend": true,
         "textposition": "auto",
         "type": "bar",
         "x": [
          "Argentina",
          "Australia",
          "Albania",
          "Iceland",
          "New Zealand",
          "USA",
          "Uruguay",
          "Luxembourg",
          "Brazil",
          "Kazakhstan",
          "Sweden",
          "Bermuda",
          "Denmark",
          "Finland",
          "Ireland",
          "Greece",
          "France",
          "Canada",
          "Norway",
          "Hong Kong SAR. China",
          "French Polynesia",
          "Israel",
          "Switzerland",
          "Netherlands",
          "Kuwait",
          "United Kingdom",
          "Austria",
          "Oman",
          "Italy",
          "Bahamas",
          "Portugal",
          "Malta",
          "Armenia",
          "Slovenia",
          "Chile",
          "Venezuela",
          "Belgium",
          "Germany",
          "Russia",
          "Croatia",
          "Belarus",
          "Spain",
          "Paraguay",
          "New Caledonia",
          "South Africa",
          "Barbados",
          "Lithuania",
          "Turkey",
          "Estonia",
          "Mexico",
          "Costa Rica",
          "Bolivia",
          "Ecuador",
          "Panama",
          "Czech Republic",
          "Romania",
          "Colombia",
          "Maldives",
          "Cyprus",
          "Serbia",
          "United Arab Emirates",
          "Algeria",
          "Ukraine",
          "Pakistan",
          "Swazerland",
          "Latvia",
          "Bosnia and Herzegovina",
          "Fiji",
          "South Korea",
          "Poland",
          "Saudi Arabia",
          "Botswana",
          "Macedonia",
          "Hungary",
          "Trinidad and Tobago",
          "Tunisia",
          "Egypt",
          "Mauritius",
          "Bulgaria",
          "Morocco",
          "Slovakia",
          "Niger",
          "Kenya",
          "Jordan",
          "Japan",
          "Georgia",
          "Grenada",
          "El Salvador",
          "Cuba",
          "China",
          "Honduras",
          "Taiwan. ROC",
          "Angola",
          "Jamaica",
          "Namibia",
          "Belize",
          "Malaysia",
          "Zimbabwe",
          "Guatemala",
          "Uganda",
          "Nepal",
          "Iran",
          "Tanzania",
          "Senegal",
          "Peru",
          "Nicaragua",
          "Vietnam",
          "Ethiopia",
          "Myanmar",
          "Congo",
          "Zambia",
          "Cameroon",
          "Madagascar",
          "Malawi",
          "Guinea",
          "Nigeria",
          "Rwanda",
          "Philippines",
          "Ghana",
          "Togo",
          "Gambia",
          "India",
          "Thailand",
          "Mozambique",
          "Cambodia",
          "Sierra Leone",
          "Sri Lanka",
          "Indonesia",
          "Liberia",
          "Bangladesh"
         ],
         "xaxis": "x",
         "y": [
          8.77,
          11.03,
          7.78,
          3.89,
          9.16,
          6.88,
          11.5,
          4.2,
          32.13,
          7.32,
          5.96,
          5.38,
          4.96,
          4.42,
          3,
          6.64,
          4.88,
          12.65,
          4.36,
          43.48,
          35.59,
          16.81,
          2.43,
          2.93,
          43.83,
          6.39,
          3.7,
          56.55,
          5.74,
          23.97,
          14.86,
          4.96,
          3.18,
          3.95,
          8.85,
          23.39,
          8.61,
          3.34,
          4.71,
          2.64,
          3.17,
          8.32,
          4.91,
          17.47,
          17.41,
          15.66,
          3.07,
          10.74,
          2.56,
          5.64,
          45.69,
          26.99,
          45.07,
          66.42,
          4.79,
          2.59,
          28.02,
          50.73,
          4.94,
          1.22,
          56.25,
          2.97,
          3,
          12.25,
          21.15,
          2.21,
          1.88,
          45.62,
          85.18,
          0.95,
          36.02,
          7.06,
          2.81,
          2.15,
          16.38,
          1.07,
          39.77,
          45.56,
          2.24,
          1.1,
          2.88,
          13.17,
          12.94,
          19.67,
          59.85,
          2.64,
          9.56,
          10.53,
          67.7,
          78.18,
          14.42,
          45.85,
          8.12,
          23.45,
          6.31,
          28.42,
          81.25,
          10.09,
          5.66,
          4.64,
          87.75,
          29.95,
          21.01,
          72.29,
          48.92,
          43.33,
          144.56,
          2.25,
          132.8,
          16.51,
          3.05,
          23.85,
          102.53,
          4.75,
          97.12,
          28.23,
          8.7,
          119.44,
          32.03,
          25.99,
          61.84,
          69.49,
          114.57,
          23.41,
          159.1,
          103.3,
          109.72,
          134.62,
          94.75,
          171.73
         ],
         "yaxis": "y"
        },
        {
         "alignmentgroup": "True",
         "hovertemplate": "food_category=Soybeans<br>country=%{x}<br>consumption=%{y}<extra></extra>",
         "legendgroup": "Soybeans",
         "marker": {
          "color": "rgb(33,102,172)"
         },
         "name": "Soybeans",
         "offsetgroup": "Soybeans",
         "orientation": "v",
         "showlegend": true,
         "textposition": "auto",
         "type": "bar",
         "x": [
          "Argentina",
          "Australia",
          "Albania",
          "Iceland",
          "New Zealand",
          "USA",
          "Uruguay",
          "Luxembourg",
          "Brazil",
          "Kazakhstan",
          "Sweden",
          "Bermuda",
          "Denmark",
          "Finland",
          "Ireland",
          "Greece",
          "France",
          "Canada",
          "Norway",
          "Hong Kong SAR. China",
          "French Polynesia",
          "Israel",
          "Switzerland",
          "Netherlands",
          "Kuwait",
          "United Kingdom",
          "Austria",
          "Oman",
          "Italy",
          "Bahamas",
          "Portugal",
          "Malta",
          "Armenia",
          "Slovenia",
          "Chile",
          "Venezuela",
          "Belgium",
          "Germany",
          "Russia",
          "Croatia",
          "Belarus",
          "Spain",
          "Paraguay",
          "New Caledonia",
          "South Africa",
          "Barbados",
          "Lithuania",
          "Turkey",
          "Estonia",
          "Mexico",
          "Costa Rica",
          "Bolivia",
          "Ecuador",
          "Panama",
          "Czech Republic",
          "Romania",
          "Colombia",
          "Maldives",
          "Cyprus",
          "Serbia",
          "United Arab Emirates",
          "Algeria",
          "Ukraine",
          "Pakistan",
          "Swazerland",
          "Latvia",
          "Bosnia and Herzegovina",
          "Fiji",
          "South Korea",
          "Poland",
          "Saudi Arabia",
          "Botswana",
          "Macedonia",
          "Hungary",
          "Trinidad and Tobago",
          "Tunisia",
          "Egypt",
          "Mauritius",
          "Bulgaria",
          "Morocco",
          "Slovakia",
          "Niger",
          "Kenya",
          "Jordan",
          "Japan",
          "Georgia",
          "Grenada",
          "El Salvador",
          "Cuba",
          "China",
          "Honduras",
          "Taiwan. ROC",
          "Angola",
          "Jamaica",
          "Namibia",
          "Belize",
          "Malaysia",
          "Zimbabwe",
          "Guatemala",
          "Uganda",
          "Nepal",
          "Iran",
          "Tanzania",
          "Senegal",
          "Peru",
          "Nicaragua",
          "Vietnam",
          "Ethiopia",
          "Myanmar",
          "Congo",
          "Zambia",
          "Cameroon",
          "Madagascar",
          "Malawi",
          "Guinea",
          "Nigeria",
          "Rwanda",
          "Philippines",
          "Ghana",
          "Togo",
          "Gambia",
          "India",
          "Thailand",
          "Mozambique",
          "Cambodia",
          "Sierra Leone",
          "Sri Lanka",
          "Indonesia",
          "Liberia",
          "Bangladesh"
         ],
         "xaxis": "x",
         "y": [
          0,
          0.19,
          0,
          0.11,
          0.44,
          0.04,
          0.01,
          0.04,
          3.62,
          0.03,
          0.13,
          0.22,
          0.03,
          0.08,
          0.25,
          0.02,
          0.05,
          0.94,
          0.11,
          2.79,
          0.77,
          0.1,
          0.44,
          0.12,
          0.06,
          0.05,
          2.06,
          0.21,
          0.01,
          0.09,
          0.01,
          0.05,
          0,
          0.75,
          0.04,
          0,
          0.07,
          0.88,
          0.05,
          0,
          0.3,
          0.02,
          0,
          0.55,
          1.27,
          0.1,
          0.02,
          1.71,
          0.04,
          0.02,
          1.54,
          0.01,
          0,
          3.53,
          0.82,
          0.01,
          0.89,
          0.2,
          0.04,
          0,
          0.08,
          0,
          0.02,
          0,
          0.55,
          0.04,
          1.48,
          0.3,
          8.35,
          0.06,
          0.05,
          1.16,
          0.46,
          0.01,
          0.04,
          1.88,
          0.64,
          0.3,
          0.04,
          0,
          0.02,
          0,
          0.2,
          0.02,
          7.34,
          0,
          0.01,
          0.8,
          6.34,
          3.66,
          0.01,
          16.95,
          0.52,
          0,
          0.07,
          1.88,
          0.04,
          0.54,
          0.32,
          0.01,
          0.01,
          0,
          0.04,
          0,
          1.59,
          0.01,
          5.75,
          0.45,
          0.38,
          0,
          7.3,
          0.64,
          0,
          1.76,
          0,
          2.6,
          1.93,
          0.03,
          0.01,
          0.01,
          0,
          0.39,
          2.13,
          0.03,
          4.33,
          0,
          0,
          1.12,
          0.63,
          0.61
         ],
         "yaxis": "y"
        },
        {
         "alignmentgroup": "True",
         "hovertemplate": "food_category=Nuts inc. Peanut Butter<br>country=%{x}<br>consumption=%{y}<extra></extra>",
         "legendgroup": "Nuts inc. Peanut Butter",
         "marker": {
          "color": "rgb(5,48,97)"
         },
         "name": "Nuts inc. Peanut Butter",
         "offsetgroup": "Nuts inc. Peanut Butter",
         "orientation": "v",
         "showlegend": true,
         "textposition": "auto",
         "type": "bar",
         "x": [
          "Argentina",
          "Australia",
          "Albania",
          "Iceland",
          "New Zealand",
          "USA",
          "Uruguay",
          "Luxembourg",
          "Brazil",
          "Kazakhstan",
          "Sweden",
          "Bermuda",
          "Denmark",
          "Finland",
          "Ireland",
          "Greece",
          "France",
          "Canada",
          "Norway",
          "Hong Kong SAR. China",
          "French Polynesia",
          "Israel",
          "Switzerland",
          "Netherlands",
          "Kuwait",
          "United Kingdom",
          "Austria",
          "Oman",
          "Italy",
          "Bahamas",
          "Portugal",
          "Malta",
          "Armenia",
          "Slovenia",
          "Chile",
          "Venezuela",
          "Belgium",
          "Germany",
          "Russia",
          "Croatia",
          "Belarus",
          "Spain",
          "Paraguay",
          "New Caledonia",
          "South Africa",
          "Barbados",
          "Lithuania",
          "Turkey",
          "Estonia",
          "Mexico",
          "Costa Rica",
          "Bolivia",
          "Ecuador",
          "Panama",
          "Czech Republic",
          "Romania",
          "Colombia",
          "Maldives",
          "Cyprus",
          "Serbia",
          "United Arab Emirates",
          "Algeria",
          "Ukraine",
          "Pakistan",
          "Swazerland",
          "Latvia",
          "Bosnia and Herzegovina",
          "Fiji",
          "South Korea",
          "Poland",
          "Saudi Arabia",
          "Botswana",
          "Macedonia",
          "Hungary",
          "Trinidad and Tobago",
          "Tunisia",
          "Egypt",
          "Mauritius",
          "Bulgaria",
          "Morocco",
          "Slovakia",
          "Niger",
          "Kenya",
          "Jordan",
          "Japan",
          "Georgia",
          "Grenada",
          "El Salvador",
          "Cuba",
          "China",
          "Honduras",
          "Taiwan. ROC",
          "Angola",
          "Jamaica",
          "Namibia",
          "Belize",
          "Malaysia",
          "Zimbabwe",
          "Guatemala",
          "Uganda",
          "Nepal",
          "Iran",
          "Tanzania",
          "Senegal",
          "Peru",
          "Nicaragua",
          "Vietnam",
          "Ethiopia",
          "Myanmar",
          "Congo",
          "Zambia",
          "Cameroon",
          "Madagascar",
          "Malawi",
          "Guinea",
          "Nigeria",
          "Rwanda",
          "Philippines",
          "Ghana",
          "Togo",
          "Gambia",
          "India",
          "Thailand",
          "Mozambique",
          "Cambodia",
          "Sierra Leone",
          "Sri Lanka",
          "Indonesia",
          "Liberia",
          "Bangladesh"
         ],
         "xaxis": "x",
         "y": [
          0.49,
          8.73,
          4.36,
          3.88,
          8.22,
          7.86,
          0.95,
          0.93,
          0.67,
          5.14,
          6.23,
          5.72,
          5.94,
          3.43,
          4.1,
          10.5,
          5.39,
          8.01,
          5.28,
          13.81,
          2.34,
          7.71,
          9.27,
          7.94,
          5.23,
          4.18,
          7.88,
          1.68,
          7.63,
          4.03,
          3.91,
          5.62,
          2.55,
          5.28,
          2.22,
          0.35,
          7.32,
          7.96,
          1.62,
          3.88,
          3.36,
          7.44,
          1.6,
          2.96,
          1.04,
          4.16,
          2.13,
          7.97,
          4.29,
          2.51,
          1.38,
          9.16,
          0.98,
          1.05,
          2.47,
          1.8,
          0.42,
          15.83,
          4.6,
          3.31,
          23.03,
          2.08,
          2.68,
          0.83,
          6.44,
          3.78,
          2,
          1.3,
          4.88,
          2.23,
          3.23,
          1.08,
          5.87,
          0.64,
          3.78,
          6.34,
          1.82,
          2.33,
          2.26,
          3.23,
          3.7,
          6.95,
          1.64,
          3.56,
          2.59,
          2.47,
          0.18,
          1.1,
          0.23,
          6.39,
          0.75,
          9.06,
          2.26,
          1.82,
          0.71,
          5.58,
          2.9,
          2.22,
          2,
          3.77,
          2.42,
          12.16,
          5.94,
          4.03,
          0.65,
          2.36,
          6.28,
          1.21,
          4.5,
          3.08,
          5.04,
          9.29,
          0.35,
          5.08,
          4.14,
          6.93,
          0.58,
          2.08,
          5.56,
          3.59,
          5.27,
          1.92,
          1.5,
          2.61,
          1.25,
          5.57,
          1.09,
          4.92,
          1.31,
          0.72
         ],
         "yaxis": "y"
        }
       ],
       "layout": {
        "barmode": "relative",
        "legend": {
         "title": {
          "text": "food_category"
         },
         "tracegroupgap": 0
        },
        "template": {
         "data": {
          "bar": [
           {
            "error_x": {
             "color": "#2a3f5f"
            },
            "error_y": {
             "color": "#2a3f5f"
            },
            "marker": {
             "line": {
              "color": "#E5ECF6",
              "width": 0.5
             }
            },
            "type": "bar"
           }
          ],
          "barpolar": [
           {
            "marker": {
             "line": {
              "color": "#E5ECF6",
              "width": 0.5
             }
            },
            "type": "barpolar"
           }
          ],
          "carpet": [
           {
            "aaxis": {
             "endlinecolor": "#2a3f5f",
             "gridcolor": "white",
             "linecolor": "white",
             "minorgridcolor": "white",
             "startlinecolor": "#2a3f5f"
            },
            "baxis": {
             "endlinecolor": "#2a3f5f",
             "gridcolor": "white",
             "linecolor": "white",
             "minorgridcolor": "white",
             "startlinecolor": "#2a3f5f"
            },
            "type": "carpet"
           }
          ],
          "choropleth": [
           {
            "colorbar": {
             "outlinewidth": 0,
             "ticks": ""
            },
            "type": "choropleth"
           }
          ],
          "contour": [
           {
            "colorbar": {
             "outlinewidth": 0,
             "ticks": ""
            },
            "colorscale": [
             [
              0,
              "#0d0887"
             ],
             [
              0.1111111111111111,
              "#46039f"
             ],
             [
              0.2222222222222222,
              "#7201a8"
             ],
             [
              0.3333333333333333,
              "#9c179e"
             ],
             [
              0.4444444444444444,
              "#bd3786"
             ],
             [
              0.5555555555555556,
              "#d8576b"
             ],
             [
              0.6666666666666666,
              "#ed7953"
             ],
             [
              0.7777777777777778,
              "#fb9f3a"
             ],
             [
              0.8888888888888888,
              "#fdca26"
             ],
             [
              1,
              "#f0f921"
             ]
            ],
            "type": "contour"
           }
          ],
          "contourcarpet": [
           {
            "colorbar": {
             "outlinewidth": 0,
             "ticks": ""
            },
            "type": "contourcarpet"
           }
          ],
          "heatmap": [
           {
            "colorbar": {
             "outlinewidth": 0,
             "ticks": ""
            },
            "colorscale": [
             [
              0,
              "#0d0887"
             ],
             [
              0.1111111111111111,
              "#46039f"
             ],
             [
              0.2222222222222222,
              "#7201a8"
             ],
             [
              0.3333333333333333,
              "#9c179e"
             ],
             [
              0.4444444444444444,
              "#bd3786"
             ],
             [
              0.5555555555555556,
              "#d8576b"
             ],
             [
              0.6666666666666666,
              "#ed7953"
             ],
             [
              0.7777777777777778,
              "#fb9f3a"
             ],
             [
              0.8888888888888888,
              "#fdca26"
             ],
             [
              1,
              "#f0f921"
             ]
            ],
            "type": "heatmap"
           }
          ],
          "heatmapgl": [
           {
            "colorbar": {
             "outlinewidth": 0,
             "ticks": ""
            },
            "colorscale": [
             [
              0,
              "#0d0887"
             ],
             [
              0.1111111111111111,
              "#46039f"
             ],
             [
              0.2222222222222222,
              "#7201a8"
             ],
             [
              0.3333333333333333,
              "#9c179e"
             ],
             [
              0.4444444444444444,
              "#bd3786"
             ],
             [
              0.5555555555555556,
              "#d8576b"
             ],
             [
              0.6666666666666666,
              "#ed7953"
             ],
             [
              0.7777777777777778,
              "#fb9f3a"
             ],
             [
              0.8888888888888888,
              "#fdca26"
             ],
             [
              1,
              "#f0f921"
             ]
            ],
            "type": "heatmapgl"
           }
          ],
          "histogram": [
           {
            "marker": {
             "colorbar": {
              "outlinewidth": 0,
              "ticks": ""
             }
            },
            "type": "histogram"
           }
          ],
          "histogram2d": [
           {
            "colorbar": {
             "outlinewidth": 0,
             "ticks": ""
            },
            "colorscale": [
             [
              0,
              "#0d0887"
             ],
             [
              0.1111111111111111,
              "#46039f"
             ],
             [
              0.2222222222222222,
              "#7201a8"
             ],
             [
              0.3333333333333333,
              "#9c179e"
             ],
             [
              0.4444444444444444,
              "#bd3786"
             ],
             [
              0.5555555555555556,
              "#d8576b"
             ],
             [
              0.6666666666666666,
              "#ed7953"
             ],
             [
              0.7777777777777778,
              "#fb9f3a"
             ],
             [
              0.8888888888888888,
              "#fdca26"
             ],
             [
              1,
              "#f0f921"
             ]
            ],
            "type": "histogram2d"
           }
          ],
          "histogram2dcontour": [
           {
            "colorbar": {
             "outlinewidth": 0,
             "ticks": ""
            },
            "colorscale": [
             [
              0,
              "#0d0887"
             ],
             [
              0.1111111111111111,
              "#46039f"
             ],
             [
              0.2222222222222222,
              "#7201a8"
             ],
             [
              0.3333333333333333,
              "#9c179e"
             ],
             [
              0.4444444444444444,
              "#bd3786"
             ],
             [
              0.5555555555555556,
              "#d8576b"
             ],
             [
              0.6666666666666666,
              "#ed7953"
             ],
             [
              0.7777777777777778,
              "#fb9f3a"
             ],
             [
              0.8888888888888888,
              "#fdca26"
             ],
             [
              1,
              "#f0f921"
             ]
            ],
            "type": "histogram2dcontour"
           }
          ],
          "mesh3d": [
           {
            "colorbar": {
             "outlinewidth": 0,
             "ticks": ""
            },
            "type": "mesh3d"
           }
          ],
          "parcoords": [
           {
            "line": {
             "colorbar": {
              "outlinewidth": 0,
              "ticks": ""
             }
            },
            "type": "parcoords"
           }
          ],
          "pie": [
           {
            "automargin": true,
            "type": "pie"
           }
          ],
          "scatter": [
           {
            "marker": {
             "colorbar": {
              "outlinewidth": 0,
              "ticks": ""
             }
            },
            "type": "scatter"
           }
          ],
          "scatter3d": [
           {
            "line": {
             "colorbar": {
              "outlinewidth": 0,
              "ticks": ""
             }
            },
            "marker": {
             "colorbar": {
              "outlinewidth": 0,
              "ticks": ""
             }
            },
            "type": "scatter3d"
           }
          ],
          "scattercarpet": [
           {
            "marker": {
             "colorbar": {
              "outlinewidth": 0,
              "ticks": ""
             }
            },
            "type": "scattercarpet"
           }
          ],
          "scattergeo": [
           {
            "marker": {
             "colorbar": {
              "outlinewidth": 0,
              "ticks": ""
             }
            },
            "type": "scattergeo"
           }
          ],
          "scattergl": [
           {
            "marker": {
             "colorbar": {
              "outlinewidth": 0,
              "ticks": ""
             }
            },
            "type": "scattergl"
           }
          ],
          "scattermapbox": [
           {
            "marker": {
             "colorbar": {
              "outlinewidth": 0,
              "ticks": ""
             }
            },
            "type": "scattermapbox"
           }
          ],
          "scatterpolar": [
           {
            "marker": {
             "colorbar": {
              "outlinewidth": 0,
              "ticks": ""
             }
            },
            "type": "scatterpolar"
           }
          ],
          "scatterpolargl": [
           {
            "marker": {
             "colorbar": {
              "outlinewidth": 0,
              "ticks": ""
             }
            },
            "type": "scatterpolargl"
           }
          ],
          "scatterternary": [
           {
            "marker": {
             "colorbar": {
              "outlinewidth": 0,
              "ticks": ""
             }
            },
            "type": "scatterternary"
           }
          ],
          "surface": [
           {
            "colorbar": {
             "outlinewidth": 0,
             "ticks": ""
            },
            "colorscale": [
             [
              0,
              "#0d0887"
             ],
             [
              0.1111111111111111,
              "#46039f"
             ],
             [
              0.2222222222222222,
              "#7201a8"
             ],
             [
              0.3333333333333333,
              "#9c179e"
             ],
             [
              0.4444444444444444,
              "#bd3786"
             ],
             [
              0.5555555555555556,
              "#d8576b"
             ],
             [
              0.6666666666666666,
              "#ed7953"
             ],
             [
              0.7777777777777778,
              "#fb9f3a"
             ],
             [
              0.8888888888888888,
              "#fdca26"
             ],
             [
              1,
              "#f0f921"
             ]
            ],
            "type": "surface"
           }
          ],
          "table": [
           {
            "cells": {
             "fill": {
              "color": "#EBF0F8"
             },
             "line": {
              "color": "white"
             }
            },
            "header": {
             "fill": {
              "color": "#C8D4E3"
             },
             "line": {
              "color": "white"
             }
            },
            "type": "table"
           }
          ]
         },
         "layout": {
          "annotationdefaults": {
           "arrowcolor": "#2a3f5f",
           "arrowhead": 0,
           "arrowwidth": 1
          },
          "autotypenumbers": "strict",
          "coloraxis": {
           "colorbar": {
            "outlinewidth": 0,
            "ticks": ""
           }
          },
          "colorscale": {
           "diverging": [
            [
             0,
             "#8e0152"
            ],
            [
             0.1,
             "#c51b7d"
            ],
            [
             0.2,
             "#de77ae"
            ],
            [
             0.3,
             "#f1b6da"
            ],
            [
             0.4,
             "#fde0ef"
            ],
            [
             0.5,
             "#f7f7f7"
            ],
            [
             0.6,
             "#e6f5d0"
            ],
            [
             0.7,
             "#b8e186"
            ],
            [
             0.8,
             "#7fbc41"
            ],
            [
             0.9,
             "#4d9221"
            ],
            [
             1,
             "#276419"
            ]
           ],
           "sequential": [
            [
             0,
             "#0d0887"
            ],
            [
             0.1111111111111111,
             "#46039f"
            ],
            [
             0.2222222222222222,
             "#7201a8"
            ],
            [
             0.3333333333333333,
             "#9c179e"
            ],
            [
             0.4444444444444444,
             "#bd3786"
            ],
            [
             0.5555555555555556,
             "#d8576b"
            ],
            [
             0.6666666666666666,
             "#ed7953"
            ],
            [
             0.7777777777777778,
             "#fb9f3a"
            ],
            [
             0.8888888888888888,
             "#fdca26"
            ],
            [
             1,
             "#f0f921"
            ]
           ],
           "sequentialminus": [
            [
             0,
             "#0d0887"
            ],
            [
             0.1111111111111111,
             "#46039f"
            ],
            [
             0.2222222222222222,
             "#7201a8"
            ],
            [
             0.3333333333333333,
             "#9c179e"
            ],
            [
             0.4444444444444444,
             "#bd3786"
            ],
            [
             0.5555555555555556,
             "#d8576b"
            ],
            [
             0.6666666666666666,
             "#ed7953"
            ],
            [
             0.7777777777777778,
             "#fb9f3a"
            ],
            [
             0.8888888888888888,
             "#fdca26"
            ],
            [
             1,
             "#f0f921"
            ]
           ]
          },
          "colorway": [
           "#636efa",
           "#EF553B",
           "#00cc96",
           "#ab63fa",
           "#FFA15A",
           "#19d3f3",
           "#FF6692",
           "#B6E880",
           "#FF97FF",
           "#FECB52"
          ],
          "font": {
           "color": "#2a3f5f"
          },
          "geo": {
           "bgcolor": "white",
           "lakecolor": "white",
           "landcolor": "#E5ECF6",
           "showlakes": true,
           "showland": true,
           "subunitcolor": "white"
          },
          "hoverlabel": {
           "align": "left"
          },
          "hovermode": "closest",
          "mapbox": {
           "style": "light"
          },
          "paper_bgcolor": "white",
          "plot_bgcolor": "#E5ECF6",
          "polar": {
           "angularaxis": {
            "gridcolor": "white",
            "linecolor": "white",
            "ticks": ""
           },
           "bgcolor": "#E5ECF6",
           "radialaxis": {
            "gridcolor": "white",
            "linecolor": "white",
            "ticks": ""
           }
          },
          "scene": {
           "xaxis": {
            "backgroundcolor": "#E5ECF6",
            "gridcolor": "white",
            "gridwidth": 2,
            "linecolor": "white",
            "showbackground": true,
            "ticks": "",
            "zerolinecolor": "white"
           },
           "yaxis": {
            "backgroundcolor": "#E5ECF6",
            "gridcolor": "white",
            "gridwidth": 2,
            "linecolor": "white",
            "showbackground": true,
            "ticks": "",
            "zerolinecolor": "white"
           },
           "zaxis": {
            "backgroundcolor": "#E5ECF6",
            "gridcolor": "white",
            "gridwidth": 2,
            "linecolor": "white",
            "showbackground": true,
            "ticks": "",
            "zerolinecolor": "white"
           }
          },
          "shapedefaults": {
           "line": {
            "color": "#2a3f5f"
           }
          },
          "ternary": {
           "aaxis": {
            "gridcolor": "white",
            "linecolor": "white",
            "ticks": ""
           },
           "baxis": {
            "gridcolor": "white",
            "linecolor": "white",
            "ticks": ""
           },
           "bgcolor": "#E5ECF6",
           "caxis": {
            "gridcolor": "white",
            "linecolor": "white",
            "ticks": ""
           }
          },
          "title": {
           "x": 0.05
          },
          "xaxis": {
           "automargin": true,
           "gridcolor": "white",
           "linecolor": "white",
           "ticks": "",
           "title": {
            "standoff": 15
           },
           "zerolinecolor": "white",
           "zerolinewidth": 2
          },
          "yaxis": {
           "automargin": true,
           "gridcolor": "white",
           "linecolor": "white",
           "ticks": "",
           "title": {
            "standoff": 15
           },
           "zerolinecolor": "white",
           "zerolinewidth": 2
          }
         }
        },
        "title": {
         "text": "Food consumption all over the word"
        },
        "xaxis": {
         "anchor": "y",
         "domain": [
          0,
          1
         ],
         "title": {
          "text": "country"
         }
        },
        "yaxis": {
         "anchor": "x",
         "domain": [
          0,
          1
         ],
         "title": {
          "text": "consumption"
         }
        }
       }
      },
      "text/html": [
       "<div>                            <div id=\"fdbb3869-eda4-4dac-b790-7e973970e4f7\" class=\"plotly-graph-div\" style=\"height:525px; width:100%;\"></div>            <script type=\"text/javascript\">                require([\"plotly\"], function(Plotly) {                    window.PLOTLYENV=window.PLOTLYENV || {};                                    if (document.getElementById(\"fdbb3869-eda4-4dac-b790-7e973970e4f7\")) {                    Plotly.newPlot(                        \"fdbb3869-eda4-4dac-b790-7e973970e4f7\",                        [{\"alignmentgroup\": \"True\", \"hovertemplate\": \"food_category=Pork<br>country=%{x}<br>consumption=%{y}<extra></extra>\", \"legendgroup\": \"Pork\", \"marker\": {\"color\": \"rgb(103,0,31)\"}, \"name\": \"Pork\", \"offsetgroup\": \"Pork\", \"orientation\": \"v\", \"showlegend\": true, \"textposition\": \"auto\", \"type\": \"bar\", \"x\": [\"Argentina\", \"Australia\", \"Albania\", \"Iceland\", \"New Zealand\", \"USA\", \"Uruguay\", \"Luxembourg\", \"Brazil\", \"Kazakhstan\", \"Sweden\", \"Bermuda\", \"Denmark\", \"Finland\", \"Ireland\", \"Greece\", \"France\", \"Canada\", \"Norway\", \"Hong Kong SAR. China\", \"French Polynesia\", \"Israel\", \"Switzerland\", \"Netherlands\", \"Kuwait\", \"United Kingdom\", \"Austria\", \"Oman\", \"Italy\", \"Bahamas\", \"Portugal\", \"Malta\", \"Armenia\", \"Slovenia\", \"Chile\", \"Venezuela\", \"Belgium\", \"Germany\", \"Russia\", \"Croatia\", \"Belarus\", \"Spain\", \"Paraguay\", \"New Caledonia\", \"South Africa\", \"Barbados\", \"Lithuania\", \"Turkey\", \"Estonia\", \"Mexico\", \"Costa Rica\", \"Bolivia\", \"Ecuador\", \"Panama\", \"Czech Republic\", \"Romania\", \"Colombia\", \"Maldives\", \"Cyprus\", \"Serbia\", \"United Arab Emirates\", \"Algeria\", \"Ukraine\", \"Pakistan\", \"Swazerland\", \"Latvia\", \"Bosnia and Herzegovina\", \"Fiji\", \"South Korea\", \"Poland\", \"Saudi Arabia\", \"Botswana\", \"Macedonia\", \"Hungary\", \"Trinidad and Tobago\", \"Tunisia\", \"Egypt\", \"Mauritius\", \"Bulgaria\", \"Morocco\", \"Slovakia\", \"Niger\", \"Kenya\", \"Jordan\", \"Japan\", \"Georgia\", \"Grenada\", \"El Salvador\", \"Cuba\", \"China\", \"Honduras\", \"Taiwan. ROC\", \"Angola\", \"Jamaica\", \"Namibia\", \"Belize\", \"Malaysia\", \"Zimbabwe\", \"Guatemala\", \"Uganda\", \"Nepal\", \"Iran\", \"Tanzania\", \"Senegal\", \"Peru\", \"Nicaragua\", \"Vietnam\", \"Ethiopia\", \"Myanmar\", \"Congo\", \"Zambia\", \"Cameroon\", \"Madagascar\", \"Malawi\", \"Guinea\", \"Nigeria\", \"Rwanda\", \"Philippines\", \"Ghana\", \"Togo\", \"Gambia\", \"India\", \"Thailand\", \"Mozambique\", \"Cambodia\", \"Sierra Leone\", \"Sri Lanka\", \"Indonesia\", \"Liberia\", \"Bangladesh\"], \"xaxis\": \"x\", \"y\": [10.51, 24.14, 10.88, 21.69, 22.29, 27.64, 16.84, 43.58, 12.6, 10.36, 37.0, 28.24, 24.87, 36.14, 32.4, 28.31, 33.05, 22.81, 23.51, 67.11, 14.75, 1.99, 31.49, 36.36, 0.0, 25.79, 52.56, 0.01, 40.28, 32.74, 37.91, 34.24, 9.67, 28.19, 24.68, 7.23, 38.65, 51.81, 25.66, 42.79, 40.37, 48.92, 26.24, 19.9, 4.16, 8.3, 45.67, 0.01, 29.68, 15.23, 10.28, 8.89, 14.44, 13.48, 41.17, 25.31, 6.51, 1.22, 38.38, 32.04, 0.0, 0.0, 20.56, 0.0, 2.43, 34.96, 9.38, 4.31, 32.76, 46.19, 0.0, 0.74, 10.35, 34.93, 8.92, 0.0, 0.02, 4.08, 26.26, 0.01, 31.78, 0.09, 0.29, 0.02, 20.62, 8.93, 11.52, 3.23, 19.82, 38.43, 6.48, 39.37, 8.89, 3.99, 4.21, 16.8, 7.76, 2.65, 4.85, 3.37, 0.67, 0.0, 0.32, 0.94, 3.85, 3.38, 35.0, 0.02, 11.31, 2.39, 1.66, 1.47, 2.56, 5.45, 0.16, 1.47, 0.76, 18.4, 1.36, 1.57, 0.18, 0.28, 13.0, 5.13, 6.52, 1.22, 0.05, 2.98, 4.01, 0.0], \"yaxis\": \"y\"}, {\"alignmentgroup\": \"True\", \"hovertemplate\": \"food_category=Poultry<br>country=%{x}<br>consumption=%{y}<extra></extra>\", \"legendgroup\": \"Poultry\", \"marker\": {\"color\": \"rgb(178,24,43)\"}, \"name\": \"Poultry\", \"offsetgroup\": \"Poultry\", \"orientation\": \"v\", \"showlegend\": true, \"textposition\": \"auto\", \"type\": \"bar\", \"x\": [\"Argentina\", \"Australia\", \"Albania\", \"Iceland\", \"New Zealand\", \"USA\", \"Uruguay\", \"Luxembourg\", \"Brazil\", \"Kazakhstan\", \"Sweden\", \"Bermuda\", \"Denmark\", \"Finland\", \"Ireland\", \"Greece\", \"France\", \"Canada\", \"Norway\", \"Hong Kong SAR. China\", \"French Polynesia\", \"Israel\", \"Switzerland\", \"Netherlands\", \"Kuwait\", \"United Kingdom\", \"Austria\", \"Oman\", \"Italy\", \"Bahamas\", \"Portugal\", \"Malta\", \"Armenia\", \"Slovenia\", \"Chile\", \"Venezuela\", \"Belgium\", \"Germany\", \"Russia\", \"Croatia\", \"Belarus\", \"Spain\", \"Paraguay\", \"New Caledonia\", \"South Africa\", \"Barbados\", \"Lithuania\", \"Turkey\", \"Estonia\", \"Mexico\", \"Costa Rica\", \"Bolivia\", \"Ecuador\", \"Panama\", \"Czech Republic\", \"Romania\", \"Colombia\", \"Maldives\", \"Cyprus\", \"Serbia\", \"United Arab Emirates\", \"Algeria\", \"Ukraine\", \"Pakistan\", \"Swazerland\", \"Latvia\", \"Bosnia and Herzegovina\", \"Fiji\", \"South Korea\", \"Poland\", \"Saudi Arabia\", \"Botswana\", \"Macedonia\", \"Hungary\", \"Trinidad and Tobago\", \"Tunisia\", \"Egypt\", \"Mauritius\", \"Bulgaria\", \"Morocco\", \"Slovakia\", \"Niger\", \"Kenya\", \"Jordan\", \"Japan\", \"Georgia\", \"Grenada\", \"El Salvador\", \"Cuba\", \"China\", \"Honduras\", \"Taiwan. ROC\", \"Angola\", \"Jamaica\", \"Namibia\", \"Belize\", \"Malaysia\", \"Zimbabwe\", \"Guatemala\", \"Uganda\", \"Nepal\", \"Iran\", \"Tanzania\", \"Senegal\", \"Peru\", \"Nicaragua\", \"Vietnam\", \"Ethiopia\", \"Myanmar\", \"Congo\", \"Zambia\", \"Cameroon\", \"Madagascar\", \"Malawi\", \"Guinea\", \"Nigeria\", \"Rwanda\", \"Philippines\", \"Ghana\", \"Togo\", \"Gambia\", \"India\", \"Thailand\", \"Mozambique\", \"Cambodia\", \"Sierra Leone\", \"Sri Lanka\", \"Indonesia\", \"Liberia\", \"Bangladesh\"], \"xaxis\": \"x\", \"y\": [38.66, 46.12, 13.23, 26.87, 34.98, 50.01, 27.45, 21.37, 45.0, 18.38, 16.64, 32.62, 26.75, 19.87, 26.26, 15.74, 22.93, 36.68, 21.01, 54.86, 49.55, 62.5, 16.38, 23.9, 53.61, 31.55, 18.61, 31.51, 18.61, 45.74, 30.14, 26.4, 13.35, 23.46, 36.52, 39.28, 12.2, 17.75, 27.5, 8.52, 31.29, 28.63, 6.39, 44.36, 37.57, 42.62, 26.84, 18.78, 21.11, 30.12, 24.47, 34.31, 21.85, 30.81, 19.09, 15.38, 27.57, 18.47, 24.45, 10.64, 41.04, 7.42, 24.23, 5.01, 6.18, 20.53, 13.17, 20.26, 16.0, 27.41, 49.05, 5.33, 18.77, 23.78, 58.27, 18.5, 14.43, 38.51, 20.68, 20.77, 15.13, 1.08, 0.47, 33.39, 19.42, 12.28, 43.51, 19.84, 20.15, 13.2, 20.29, 32.13, 17.33, 52.51, 12.19, 28.31, 41.01, 4.97, 16.45, 1.51, 1.56, 25.38, 1.84, 4.62, 11.72, 21.31, 12.36, 0.66, 21.87, 13.02, 3.29, 3.29, 3.14, 1.38, 1.83, 1.73, 1.34, 11.91, 8.63, 6.63, 2.66, 1.88, 13.69, 1.41, 1.84, 4.97, 4.96, 7.5, 8.91, 1.4], \"yaxis\": \"y\"}, {\"alignmentgroup\": \"True\", \"hovertemplate\": \"food_category=Beef<br>country=%{x}<br>consumption=%{y}<extra></extra>\", \"legendgroup\": \"Beef\", \"marker\": {\"color\": \"rgb(214,96,77)\"}, \"name\": \"Beef\", \"offsetgroup\": \"Beef\", \"orientation\": \"v\", \"showlegend\": true, \"textposition\": \"auto\", \"type\": \"bar\", \"x\": [\"Argentina\", \"Australia\", \"Albania\", \"Iceland\", \"New Zealand\", \"USA\", \"Uruguay\", \"Luxembourg\", \"Brazil\", \"Kazakhstan\", \"Sweden\", \"Bermuda\", \"Denmark\", \"Finland\", \"Ireland\", \"Greece\", \"France\", \"Canada\", \"Norway\", \"Hong Kong SAR. China\", \"French Polynesia\", \"Israel\", \"Switzerland\", \"Netherlands\", \"Kuwait\", \"United Kingdom\", \"Austria\", \"Oman\", \"Italy\", \"Bahamas\", \"Portugal\", \"Malta\", \"Armenia\", \"Slovenia\", \"Chile\", \"Venezuela\", \"Belgium\", \"Germany\", \"Russia\", \"Croatia\", \"Belarus\", \"Spain\", \"Paraguay\", \"New Caledonia\", \"South Africa\", \"Barbados\", \"Lithuania\", \"Turkey\", \"Estonia\", \"Mexico\", \"Costa Rica\", \"Bolivia\", \"Ecuador\", \"Panama\", \"Czech Republic\", \"Romania\", \"Colombia\", \"Maldives\", \"Cyprus\", \"Serbia\", \"United Arab Emirates\", \"Algeria\", \"Ukraine\", \"Pakistan\", \"Swazerland\", \"Latvia\", \"Bosnia and Herzegovina\", \"Fiji\", \"South Korea\", \"Poland\", \"Saudi Arabia\", \"Botswana\", \"Macedonia\", \"Hungary\", \"Trinidad and Tobago\", \"Tunisia\", \"Egypt\", \"Mauritius\", \"Bulgaria\", \"Morocco\", \"Slovakia\", \"Niger\", \"Kenya\", \"Jordan\", \"Japan\", \"Georgia\", \"Grenada\", \"El Salvador\", \"Cuba\", \"China\", \"Honduras\", \"Taiwan. ROC\", \"Angola\", \"Jamaica\", \"Namibia\", \"Belize\", \"Malaysia\", \"Zimbabwe\", \"Guatemala\", \"Uganda\", \"Nepal\", \"Iran\", \"Tanzania\", \"Senegal\", \"Peru\", \"Nicaragua\", \"Vietnam\", \"Ethiopia\", \"Myanmar\", \"Congo\", \"Zambia\", \"Cameroon\", \"Madagascar\", \"Malawi\", \"Guinea\", \"Nigeria\", \"Rwanda\", \"Philippines\", \"Ghana\", \"Togo\", \"Gambia\", \"India\", \"Thailand\", \"Mozambique\", \"Cambodia\", \"Sierra Leone\", \"Sri Lanka\", \"Indonesia\", \"Liberia\", \"Bangladesh\"], \"xaxis\": \"x\", \"y\": [55.48, 33.86, 22.5, 13.36, 22.49, 36.24, 29.1, 29.88, 39.25, 23.38, 24.58, 33.15, 28.46, 19.22, 22.35, 16.1, 23.81, 30.25, 19.83, 25.82, 30.9, 28.78, 21.26, 17.67, 13.03, 18.12, 17.14, 15.1, 18.6, 19.92, 16.45, 19.22, 19.66, 18.43, 23.86, 25.89, 15.63, 13.16, 16.98, 12.41, 17.11, 12.15, 19.81, 16.07, 18.03, 13.13, 4.49, 11.64, 7.19, 15.33, 15.23, 19.78, 16.61, 20.4, 8.15, 4.78, 16.36, 9.44, 5.79, 7.05, 5.64, 5.6, 8.96, 8.82, 15.1, 5.11, 9.12, 8.96, 14.53, 2.32, 6.45, 7.85, 7.69, 4.96, 6.13, 5.53, 12.88, 5.99, 3.84, 8.04, 5.19, 8.97, 9.54, 5.61, 9.15, 6.04, 3.46, 5.95, 6.39, 5.12, 7.19, 5.21, 8.42, 3.97, 3.75, 4.86, 6.52, 7.37, 5.6, 5.15, 7.89, 3.58, 6.09, 5.85, 4.69, 4.73, 7.44, 3.61, 4.94, 4.35, 4.76, 4.17, 7.51, 2.35, 6.26, 2.33, 2.53, 4.06, 1.09, 1.53, 2.16, 0.81, 2.56, 1.04, 4.85, 1.99, 1.38, 2.59, 0.78, 1.28], \"yaxis\": \"y\"}, {\"alignmentgroup\": \"True\", \"hovertemplate\": \"food_category=Lamb & Goat<br>country=%{x}<br>consumption=%{y}<extra></extra>\", \"legendgroup\": \"Lamb & Goat\", \"marker\": {\"color\": \"rgb(244,165,130)\"}, \"name\": \"Lamb & Goat\", \"offsetgroup\": \"Lamb & Goat\", \"orientation\": \"v\", \"showlegend\": true, \"textposition\": \"auto\", \"type\": \"bar\", \"x\": [\"Argentina\", \"Australia\", \"Albania\", \"Iceland\", \"New Zealand\", \"USA\", \"Uruguay\", \"Luxembourg\", \"Brazil\", \"Kazakhstan\", \"Sweden\", \"Bermuda\", \"Denmark\", \"Finland\", \"Ireland\", \"Greece\", \"France\", \"Canada\", \"Norway\", \"Hong Kong SAR. China\", \"French Polynesia\", \"Israel\", \"Switzerland\", \"Netherlands\", \"Kuwait\", \"United Kingdom\", \"Austria\", \"Oman\", \"Italy\", \"Bahamas\", \"Portugal\", \"Malta\", \"Armenia\", \"Slovenia\", \"Chile\", \"Venezuela\", \"Belgium\", \"Germany\", \"Russia\", \"Croatia\", \"Belarus\", \"Spain\", \"Paraguay\", \"New Caledonia\", \"South Africa\", \"Barbados\", \"Lithuania\", \"Turkey\", \"Estonia\", \"Mexico\", \"Costa Rica\", \"Bolivia\", \"Ecuador\", \"Panama\", \"Czech Republic\", \"Romania\", \"Colombia\", \"Maldives\", \"Cyprus\", \"Serbia\", \"United Arab Emirates\", \"Algeria\", \"Ukraine\", \"Pakistan\", \"Swazerland\", \"Latvia\", \"Bosnia and Herzegovina\", \"Fiji\", \"South Korea\", \"Poland\", \"Saudi Arabia\", \"Botswana\", \"Macedonia\", \"Hungary\", \"Trinidad and Tobago\", \"Tunisia\", \"Egypt\", \"Mauritius\", \"Bulgaria\", \"Morocco\", \"Slovakia\", \"Niger\", \"Kenya\", \"Jordan\", \"Japan\", \"Georgia\", \"Grenada\", \"El Salvador\", \"Cuba\", \"China\", \"Honduras\", \"Taiwan. ROC\", \"Angola\", \"Jamaica\", \"Namibia\", \"Belize\", \"Malaysia\", \"Zimbabwe\", \"Guatemala\", \"Uganda\", \"Nepal\", \"Iran\", \"Tanzania\", \"Senegal\", \"Peru\", \"Nicaragua\", \"Vietnam\", \"Ethiopia\", \"Myanmar\", \"Congo\", \"Zambia\", \"Cameroon\", \"Madagascar\", \"Malawi\", \"Guinea\", \"Nigeria\", \"Rwanda\", \"Philippines\", \"Ghana\", \"Togo\", \"Gambia\", \"India\", \"Thailand\", \"Mozambique\", \"Cambodia\", \"Sierra Leone\", \"Sri Lanka\", \"Indonesia\", \"Liberia\", \"Bangladesh\"], \"xaxis\": \"x\", \"y\": [1.56, 9.87, 15.32, 21.12, 18.91, 0.43, 8.23, 1.67, 0.62, 9.56, 1.41, 2.71, 0.92, 0.53, 4.1, 12.47, 3.28, 0.97, 5.34, 2.22, 2.83, 1.87, 1.42, 0.94, 15.61, 4.49, 1.16, 12.87, 0.92, 5.22, 2.38, 1.19, 3.02, 0.79, 0.42, 0.32, 1.32, 0.73, 1.4, 1.71, 0.11, 2.16, 0.56, 1.95, 4.28, 4.08, 0.24, 4.68, 0.44, 0.89, 0.02, 1.72, 0.44, 0.01, 0.34, 3.41, 0.21, 0.7, 5.05, 3.56, 9.08, 7.69, 0.41, 2.46, 1.94, 0.34, 0.47, 5.9, 0.14, 0.02, 6.54, 3.76, 0.94, 0.11, 2.79, 5.34, 1.58, 4.08, 1.63, 4.36, 0.16, 4.17, 1.86, 5.68, 0.14, 0.63, 1.25, 0.02, 1.24, 3.13, 0.04, 0.92, 1.08, 1.26, 2.27, 0.14, 0.94, 0.96, 0.23, 1.25, 2.1, 3.69, 1.28, 3.19, 1.0, 0.01, 0.14, 1.57, 0.89, 0.4, 0.68, 1.4, 0.57, 2.07, 1.6, 2.72, 1.93, 0.56, 1.74, 1.58, 0.71, 0.58, 0.05, 0.9, 0.0, 0.65, 0.09, 0.46, 0.48, 1.33], \"yaxis\": \"y\"}, {\"alignmentgroup\": \"True\", \"hovertemplate\": \"food_category=Fish<br>country=%{x}<br>consumption=%{y}<extra></extra>\", \"legendgroup\": \"Fish\", \"marker\": {\"color\": \"rgb(253,219,199)\"}, \"name\": \"Fish\", \"offsetgroup\": \"Fish\", \"orientation\": \"v\", \"showlegend\": true, \"textposition\": \"auto\", \"type\": \"bar\", \"x\": [\"Argentina\", \"Australia\", \"Albania\", \"Iceland\", \"New Zealand\", \"USA\", \"Uruguay\", \"Luxembourg\", \"Brazil\", \"Kazakhstan\", \"Sweden\", \"Bermuda\", \"Denmark\", \"Finland\", \"Ireland\", \"Greece\", \"France\", \"Canada\", \"Norway\", \"Hong Kong SAR. China\", \"French Polynesia\", \"Israel\", \"Switzerland\", \"Netherlands\", \"Kuwait\", \"United Kingdom\", \"Austria\", \"Oman\", \"Italy\", \"Bahamas\", \"Portugal\", \"Malta\", \"Armenia\", \"Slovenia\", \"Chile\", \"Venezuela\", \"Belgium\", \"Germany\", \"Russia\", \"Croatia\", \"Belarus\", \"Spain\", \"Paraguay\", \"New Caledonia\", \"South Africa\", \"Barbados\", \"Lithuania\", \"Turkey\", \"Estonia\", \"Mexico\", \"Costa Rica\", \"Bolivia\", \"Ecuador\", \"Panama\", \"Czech Republic\", \"Romania\", \"Colombia\", \"Maldives\", \"Cyprus\", \"Serbia\", \"United Arab Emirates\", \"Algeria\", \"Ukraine\", \"Pakistan\", \"Swazerland\", \"Latvia\", \"Bosnia and Herzegovina\", \"Fiji\", \"South Korea\", \"Poland\", \"Saudi Arabia\", \"Botswana\", \"Macedonia\", \"Hungary\", \"Trinidad and Tobago\", \"Tunisia\", \"Egypt\", \"Mauritius\", \"Bulgaria\", \"Morocco\", \"Slovakia\", \"Niger\", \"Kenya\", \"Jordan\", \"Japan\", \"Georgia\", \"Grenada\", \"El Salvador\", \"Cuba\", \"China\", \"Honduras\", \"Taiwan. ROC\", \"Angola\", \"Jamaica\", \"Namibia\", \"Belize\", \"Malaysia\", \"Zimbabwe\", \"Guatemala\", \"Uganda\", \"Nepal\", \"Iran\", \"Tanzania\", \"Senegal\", \"Peru\", \"Nicaragua\", \"Vietnam\", \"Ethiopia\", \"Myanmar\", \"Congo\", \"Zambia\", \"Cameroon\", \"Madagascar\", \"Malawi\", \"Guinea\", \"Nigeria\", \"Rwanda\", \"Philippines\", \"Ghana\", \"Togo\", \"Gambia\", \"India\", \"Thailand\", \"Mozambique\", \"Cambodia\", \"Sierra Leone\", \"Sri Lanka\", \"Indonesia\", \"Liberia\", \"Bangladesh\"], \"xaxis\": \"x\", \"y\": [4.36, 17.69, 3.85, 74.41, 20.36, 12.35, 6.53, 23.09, 10.01, 5.21, 23.86, 33.22, 16.49, 33.8, 17.39, 14.42, 22.91, 14.56, 38.18, 42.44, 38.95, 22.18, 13.48, 18.64, 11.99, 15.49, 12.16, 21.56, 15.6, 18.8, 45.39, 24.58, 4.36, 7.76, 7.65, 8.34, 18.97, 11.16, 20.82, 15.83, 15.75, 28.83, 3.6, 19.38, 5.56, 37.41, 42.39, 5.58, 12.78, 7.56, 11.32, 2.18, 5.17, 11.05, 8.25, 6.07, 6.01, 179.71, 14.86, 5.59, 20.41, 3.74, 15.23, 1.87, 1.26, 21.3, 4.06, 35.01, 33.09, 10.49, 11.99, 3.98, 5.47, 4.93, 20.54, 12.63, 21.46, 19.66, 6.24, 17.44, 8.39, 2.7, 4.27, 5.13, 31.1, 10.42, 27.95, 6.25, 4.76, 21.01, 2.7, 18.29, 15.24, 21.95, 10.7, 7.57, 49.43, 2.8, 1.08, 12.5, 2.17, 9.8, 5.5, 22.94, 15.74, 3.59, 26.52, 0.24, 54.26, 26.22, 6.2, 14.71, 4.41, 7.33, 9.18, 16.03, 3.88, 28.51, 26.05, 11.69, 23.13, 4.71, 19.45, 7.74, 39.59, 32.03, 24.92, 25.65, 4.13, 18.07], \"yaxis\": \"y\"}, {\"alignmentgroup\": \"True\", \"hovertemplate\": \"food_category=Eggs<br>country=%{x}<br>consumption=%{y}<extra></extra>\", \"legendgroup\": \"Eggs\", \"marker\": {\"color\": \"rgb(247,247,247)\"}, \"name\": \"Eggs\", \"offsetgroup\": \"Eggs\", \"orientation\": \"v\", \"showlegend\": true, \"textposition\": \"auto\", \"type\": \"bar\", \"x\": [\"Argentina\", \"Australia\", \"Albania\", \"Iceland\", \"New Zealand\", \"USA\", \"Uruguay\", \"Luxembourg\", \"Brazil\", \"Kazakhstan\", \"Sweden\", \"Bermuda\", \"Denmark\", \"Finland\", \"Ireland\", \"Greece\", \"France\", \"Canada\", \"Norway\", \"Hong Kong SAR. China\", \"French Polynesia\", \"Israel\", \"Switzerland\", \"Netherlands\", \"Kuwait\", \"United Kingdom\", \"Austria\", \"Oman\", \"Italy\", \"Bahamas\", \"Portugal\", \"Malta\", \"Armenia\", \"Slovenia\", \"Chile\", \"Venezuela\", \"Belgium\", \"Germany\", \"Russia\", \"Croatia\", \"Belarus\", \"Spain\", \"Paraguay\", \"New Caledonia\", \"South Africa\", \"Barbados\", \"Lithuania\", \"Turkey\", \"Estonia\", \"Mexico\", \"Costa Rica\", \"Bolivia\", \"Ecuador\", \"Panama\", \"Czech Republic\", \"Romania\", \"Colombia\", \"Maldives\", \"Cyprus\", \"Serbia\", \"United Arab Emirates\", \"Algeria\", \"Ukraine\", \"Pakistan\", \"Swazerland\", \"Latvia\", \"Bosnia and Herzegovina\", \"Fiji\", \"South Korea\", \"Poland\", \"Saudi Arabia\", \"Botswana\", \"Macedonia\", \"Hungary\", \"Trinidad and Tobago\", \"Tunisia\", \"Egypt\", \"Mauritius\", \"Bulgaria\", \"Morocco\", \"Slovakia\", \"Niger\", \"Kenya\", \"Jordan\", \"Japan\", \"Georgia\", \"Grenada\", \"El Salvador\", \"Cuba\", \"China\", \"Honduras\", \"Taiwan. ROC\", \"Angola\", \"Jamaica\", \"Namibia\", \"Belize\", \"Malaysia\", \"Zimbabwe\", \"Guatemala\", \"Uganda\", \"Nepal\", \"Iran\", \"Tanzania\", \"Senegal\", \"Peru\", \"Nicaragua\", \"Vietnam\", \"Ethiopia\", \"Myanmar\", \"Congo\", \"Zambia\", \"Cameroon\", \"Madagascar\", \"Malawi\", \"Guinea\", \"Nigeria\", \"Rwanda\", \"Philippines\", \"Ghana\", \"Togo\", \"Gambia\", \"India\", \"Thailand\", \"Mozambique\", \"Cambodia\", \"Sierra Leone\", \"Sri Lanka\", \"Indonesia\", \"Liberia\", \"Bangladesh\"], \"xaxis\": \"x\", \"y\": [11.39, 8.51, 12.45, 8.24, 9.91, 14.58, 13.14, 14.64, 8.98, 8.29, 13.37, 14.92, 15.35, 9.55, 8.96, 10.13, 13.13, 12.95, 11.41, 14.5, 8.75, 11.35, 10.53, 14.03, 12.6, 11.08, 14.68, 7.8, 13.34, 6.2, 9.05, 11.64, 11.69, 9.36, 9.97, 5.63, 12.59, 12.2, 15.43, 8.48, 15.86, 13.32, 18.83, 8.85, 7.21, 9.61, 13.11, 8.2, 12.66, 18.34, 10.55, 5.18, 8.01, 4.53, 11.66, 12.94, 10.78, 10.79, 8.98, 8.89, 8.23, 8.06, 18.01, 2.95, 1.5, 14.03, 4.49, 6.44, 11.24, 7.53, 5.37, 1.95, 6.38, 12.45, 4.2, 7.67, 4.59, 6.32, 8.36, 6.68, 16.05, 0.3, 1.84, 3.92, 19.15, 6.12, 10.34, 9.51, 9.82, 18.76, 5.19, 13.08, 1.11, 2.27, 1.63, 4.85, 16.57, 1.75, 14.61, 0.97, 1.42, 7.7, 0.58, 1.63, 8.76, 4.9, 3.84, 0.36, 6.45, 0.6, 3.32, 0.4, 0.71, 1.08, 1.95, 3.46, 0.16, 4.02, 1.21, 0.86, 0.99, 2.58, 12.35, 1.7, 1.37, 1.92, 4.57, 4.88, 2.05, 2.08], \"yaxis\": \"y\"}, {\"alignmentgroup\": \"True\", \"hovertemplate\": \"food_category=Milk - inc. cheese<br>country=%{x}<br>consumption=%{y}<extra></extra>\", \"legendgroup\": \"Milk - inc. cheese\", \"marker\": {\"color\": \"rgb(209,229,240)\"}, \"name\": \"Milk - inc. cheese\", \"offsetgroup\": \"Milk - inc. cheese\", \"orientation\": \"v\", \"showlegend\": true, \"textposition\": \"auto\", \"type\": \"bar\", \"x\": [\"Argentina\", \"Australia\", \"Albania\", \"Iceland\", \"New Zealand\", \"USA\", \"Uruguay\", \"Luxembourg\", \"Brazil\", \"Kazakhstan\", \"Sweden\", \"Bermuda\", \"Denmark\", \"Finland\", \"Ireland\", \"Greece\", \"France\", \"Canada\", \"Norway\", \"Hong Kong SAR. China\", \"French Polynesia\", \"Israel\", \"Switzerland\", \"Netherlands\", \"Kuwait\", \"United Kingdom\", \"Austria\", \"Oman\", \"Italy\", \"Bahamas\", \"Portugal\", \"Malta\", \"Armenia\", \"Slovenia\", \"Chile\", \"Venezuela\", \"Belgium\", \"Germany\", \"Russia\", \"Croatia\", \"Belarus\", \"Spain\", \"Paraguay\", \"New Caledonia\", \"South Africa\", \"Barbados\", \"Lithuania\", \"Turkey\", \"Estonia\", \"Mexico\", \"Costa Rica\", \"Bolivia\", \"Ecuador\", \"Panama\", \"Czech Republic\", \"Romania\", \"Colombia\", \"Maldives\", \"Cyprus\", \"Serbia\", \"United Arab Emirates\", \"Algeria\", \"Ukraine\", \"Pakistan\", \"Swazerland\", \"Latvia\", \"Bosnia and Herzegovina\", \"Fiji\", \"South Korea\", \"Poland\", \"Saudi Arabia\", \"Botswana\", \"Macedonia\", \"Hungary\", \"Trinidad and Tobago\", \"Tunisia\", \"Egypt\", \"Mauritius\", \"Bulgaria\", \"Morocco\", \"Slovakia\", \"Niger\", \"Kenya\", \"Jordan\", \"Japan\", \"Georgia\", \"Grenada\", \"El Salvador\", \"Cuba\", \"China\", \"Honduras\", \"Taiwan. ROC\", \"Angola\", \"Jamaica\", \"Namibia\", \"Belize\", \"Malaysia\", \"Zimbabwe\", \"Guatemala\", \"Uganda\", \"Nepal\", \"Iran\", \"Tanzania\", \"Senegal\", \"Peru\", \"Nicaragua\", \"Vietnam\", \"Ethiopia\", \"Myanmar\", \"Congo\", \"Zambia\", \"Cameroon\", \"Madagascar\", \"Malawi\", \"Guinea\", \"Nigeria\", \"Rwanda\", \"Philippines\", \"Ghana\", \"Togo\", \"Gambia\", \"India\", \"Thailand\", \"Mozambique\", \"Cambodia\", \"Sierra Leone\", \"Sri Lanka\", \"Indonesia\", \"Liberia\", \"Bangladesh\"], \"xaxis\": \"x\", \"y\": [195.08, 234.49, 303.72, 225.82, 137.25, 254.69, 210.54, 255.3, 149.28, 288.12, 341.23, 95.56, 277.3, 430.76, 291.86, 255.26, 241.31, 187.77, 261.34, 105.85, 93.56, 193.6, 318.69, 341.47, 157.66, 232.2, 258.09, 152.28, 246.88, 104.76, 205.04, 190.06, 209.03, 235.01, 116.11, 117.79, 236.19, 258.7, 163.57, 231.02, 133.73, 164.29, 75.72, 108.0, 55.75, 110.48, 295.46, 193.94, 284.85, 111.87, 183.28, 46.04, 139.6, 70.29, 195.2, 238.33, 108.47, 111.47, 113.31, 148.53, 132.66, 141.53, 145.03, 183.13, 56.6, 174.11, 174.03, 40.2, 29.05, 205.39, 83.65, 117.74, 157.93, 159.05, 103.8, 114.47, 59.46, 117.27, 155.71, 54.68, 143.14, 58.92, 94.86, 77.68, 72.06, 149.26, 86.88, 124.34, 99.94, 32.66, 91.33, 41.72, 12.3, 91.13, 73.05, 80.3, 25.28, 31.9, 46.6, 37.27, 52.1, 46.69, 40.29, 16.86, 62.15, 85.16, 16.36, 44.14, 31.48, 10.69, 9.71, 15.27, 24.84, 7.98, 20.62, 7.91, 7.23, 15.66, 9.08, 7.96, 45.71, 84.5, 29.35, 4.79, 3.47, 7.0, 34.98, 14.82, 3.04, 21.91], \"yaxis\": \"y\"}, {\"alignmentgroup\": \"True\", \"hovertemplate\": \"food_category=Wheat and Wheat Products<br>country=%{x}<br>consumption=%{y}<extra></extra>\", \"legendgroup\": \"Wheat and Wheat Products\", \"marker\": {\"color\": \"rgb(146,197,222)\"}, \"name\": \"Wheat and Wheat Products\", \"offsetgroup\": \"Wheat and Wheat Products\", \"orientation\": \"v\", \"showlegend\": true, \"textposition\": \"auto\", \"type\": \"bar\", \"x\": [\"Argentina\", \"Australia\", \"Albania\", \"Iceland\", \"New Zealand\", \"USA\", \"Uruguay\", \"Luxembourg\", \"Brazil\", \"Kazakhstan\", \"Sweden\", \"Bermuda\", \"Denmark\", \"Finland\", \"Ireland\", \"Greece\", \"France\", \"Canada\", \"Norway\", \"Hong Kong SAR. China\", \"French Polynesia\", \"Israel\", \"Switzerland\", \"Netherlands\", \"Kuwait\", \"United Kingdom\", \"Austria\", \"Oman\", \"Italy\", \"Bahamas\", \"Portugal\", \"Malta\", \"Armenia\", \"Slovenia\", \"Chile\", \"Venezuela\", \"Belgium\", \"Germany\", \"Russia\", \"Croatia\", \"Belarus\", \"Spain\", \"Paraguay\", \"New Caledonia\", \"South Africa\", \"Barbados\", \"Lithuania\", \"Turkey\", \"Estonia\", \"Mexico\", \"Costa Rica\", \"Bolivia\", \"Ecuador\", \"Panama\", \"Czech Republic\", \"Romania\", \"Colombia\", \"Maldives\", \"Cyprus\", \"Serbia\", \"United Arab Emirates\", \"Algeria\", \"Ukraine\", \"Pakistan\", \"Swazerland\", \"Latvia\", \"Bosnia and Herzegovina\", \"Fiji\", \"South Korea\", \"Poland\", \"Saudi Arabia\", \"Botswana\", \"Macedonia\", \"Hungary\", \"Trinidad and Tobago\", \"Tunisia\", \"Egypt\", \"Mauritius\", \"Bulgaria\", \"Morocco\", \"Slovakia\", \"Niger\", \"Kenya\", \"Jordan\", \"Japan\", \"Georgia\", \"Grenada\", \"El Salvador\", \"Cuba\", \"China\", \"Honduras\", \"Taiwan. ROC\", \"Angola\", \"Jamaica\", \"Namibia\", \"Belize\", \"Malaysia\", \"Zimbabwe\", \"Guatemala\", \"Uganda\", \"Nepal\", \"Iran\", \"Tanzania\", \"Senegal\", \"Peru\", \"Nicaragua\", \"Vietnam\", \"Ethiopia\", \"Myanmar\", \"Congo\", \"Zambia\", \"Cameroon\", \"Madagascar\", \"Malawi\", \"Guinea\", \"Nigeria\", \"Rwanda\", \"Philippines\", \"Ghana\", \"Togo\", \"Gambia\", \"India\", \"Thailand\", \"Mozambique\", \"Cambodia\", \"Sierra Leone\", \"Sri Lanka\", \"Indonesia\", \"Liberia\", \"Bangladesh\"], \"xaxis\": \"x\", \"y\": [103.11, 70.46, 138.64, 72.92, 76.91, 80.43, 109.31, 103.2, 53.0, 92.31, 79.59, 54.88, 98.0, 81.99, 107.98, 124.04, 108.43, 84.96, 97.12, 53.14, 68.67, 110.86, 89.51, 70.17, 96.76, 98.63, 81.1, 64.1, 146.37, 39.98, 94.3, 139.58, 130.6, 103.43, 104.74, 49.17, 111.91, 83.41, 130.99, 106.59, 60.48, 93.88, 31.51, 81.75, 60.13, 65.71, 121.59, 169.96, 89.36, 35.21, 39.31, 49.99, 39.19, 38.96, 92.67, 134.87, 29.79, 77.77, 83.25, 105.88, 101.29, 185.42, 105.15, 113.63, 37.15, 72.13, 93.56, 84.22, 50.84, 108.83, 89.47, 38.2, 104.8, 109.98, 90.17, 197.5, 146.83, 114.02, 121.17, 179.7, 123.62, 4.79, 34.65, 136.74, 45.04, 163.43, 59.59, 28.19, 54.62, 63.36, 37.36, 50.92, 40.72, 70.67, 36.26, 54.06, 51.04, 31.31, 35.9, 10.14, 50.46, 153.31, 15.94, 37.32, 56.12, 28.17, 10.49, 31.26, 6.22, 40.07, 12.1, 22.6, 9.01, 11.77, 18.55, 20.82, 11.34, 23.12, 14.45, 12.91, 37.91, 60.56, 10.93, 14.65, 2.74, 8.72, 37.01, 25.45, 10.95, 17.47], \"yaxis\": \"y\"}, {\"alignmentgroup\": \"True\", \"hovertemplate\": \"food_category=Rice<br>country=%{x}<br>consumption=%{y}<extra></extra>\", \"legendgroup\": \"Rice\", \"marker\": {\"color\": \"rgb(67,147,195)\"}, \"name\": \"Rice\", \"offsetgroup\": \"Rice\", \"orientation\": \"v\", \"showlegend\": true, \"textposition\": \"auto\", \"type\": \"bar\", \"x\": [\"Argentina\", \"Australia\", \"Albania\", \"Iceland\", \"New Zealand\", \"USA\", \"Uruguay\", \"Luxembourg\", \"Brazil\", \"Kazakhstan\", \"Sweden\", \"Bermuda\", \"Denmark\", \"Finland\", \"Ireland\", \"Greece\", \"France\", \"Canada\", \"Norway\", \"Hong Kong SAR. China\", \"French Polynesia\", \"Israel\", \"Switzerland\", \"Netherlands\", \"Kuwait\", \"United Kingdom\", \"Austria\", \"Oman\", \"Italy\", \"Bahamas\", \"Portugal\", \"Malta\", \"Armenia\", \"Slovenia\", \"Chile\", \"Venezuela\", \"Belgium\", \"Germany\", \"Russia\", \"Croatia\", \"Belarus\", \"Spain\", \"Paraguay\", \"New Caledonia\", \"South Africa\", \"Barbados\", \"Lithuania\", \"Turkey\", \"Estonia\", \"Mexico\", \"Costa Rica\", \"Bolivia\", \"Ecuador\", \"Panama\", \"Czech Republic\", \"Romania\", \"Colombia\", \"Maldives\", \"Cyprus\", \"Serbia\", \"United Arab Emirates\", \"Algeria\", \"Ukraine\", \"Pakistan\", \"Swazerland\", \"Latvia\", \"Bosnia and Herzegovina\", \"Fiji\", \"South Korea\", \"Poland\", \"Saudi Arabia\", \"Botswana\", \"Macedonia\", \"Hungary\", \"Trinidad and Tobago\", \"Tunisia\", \"Egypt\", \"Mauritius\", \"Bulgaria\", \"Morocco\", \"Slovakia\", \"Niger\", \"Kenya\", \"Jordan\", \"Japan\", \"Georgia\", \"Grenada\", \"El Salvador\", \"Cuba\", \"China\", \"Honduras\", \"Taiwan. ROC\", \"Angola\", \"Jamaica\", \"Namibia\", \"Belize\", \"Malaysia\", \"Zimbabwe\", \"Guatemala\", \"Uganda\", \"Nepal\", \"Iran\", \"Tanzania\", \"Senegal\", \"Peru\", \"Nicaragua\", \"Vietnam\", \"Ethiopia\", \"Myanmar\", \"Congo\", \"Zambia\", \"Cameroon\", \"Madagascar\", \"Malawi\", \"Guinea\", \"Nigeria\", \"Rwanda\", \"Philippines\", \"Ghana\", \"Togo\", \"Gambia\", \"India\", \"Thailand\", \"Mozambique\", \"Cambodia\", \"Sierra Leone\", \"Sri Lanka\", \"Indonesia\", \"Liberia\", \"Bangladesh\"], \"xaxis\": \"x\", \"y\": [8.77, 11.03, 7.78, 3.89, 9.16, 6.88, 11.5, 4.2, 32.13, 7.32, 5.96, 5.38, 4.96, 4.42, 3.0, 6.64, 4.88, 12.65, 4.36, 43.48, 35.59, 16.81, 2.43, 2.93, 43.83, 6.39, 3.7, 56.55, 5.74, 23.97, 14.86, 4.96, 3.18, 3.95, 8.85, 23.39, 8.61, 3.34, 4.71, 2.64, 3.17, 8.32, 4.91, 17.47, 17.41, 15.66, 3.07, 10.74, 2.56, 5.64, 45.69, 26.99, 45.07, 66.42, 4.79, 2.59, 28.02, 50.73, 4.94, 1.22, 56.25, 2.97, 3.0, 12.25, 21.15, 2.21, 1.88, 45.62, 85.18, 0.95, 36.02, 7.06, 2.81, 2.15, 16.38, 1.07, 39.77, 45.56, 2.24, 1.1, 2.88, 13.17, 12.94, 19.67, 59.85, 2.64, 9.56, 10.53, 67.7, 78.18, 14.42, 45.85, 8.12, 23.45, 6.31, 28.42, 81.25, 10.09, 5.66, 4.64, 87.75, 29.95, 21.01, 72.29, 48.92, 43.33, 144.56, 2.25, 132.8, 16.51, 3.05, 23.85, 102.53, 4.75, 97.12, 28.23, 8.7, 119.44, 32.03, 25.99, 61.84, 69.49, 114.57, 23.41, 159.1, 103.3, 109.72, 134.62, 94.75, 171.73], \"yaxis\": \"y\"}, {\"alignmentgroup\": \"True\", \"hovertemplate\": \"food_category=Soybeans<br>country=%{x}<br>consumption=%{y}<extra></extra>\", \"legendgroup\": \"Soybeans\", \"marker\": {\"color\": \"rgb(33,102,172)\"}, \"name\": \"Soybeans\", \"offsetgroup\": \"Soybeans\", \"orientation\": \"v\", \"showlegend\": true, \"textposition\": \"auto\", \"type\": \"bar\", \"x\": [\"Argentina\", \"Australia\", \"Albania\", \"Iceland\", \"New Zealand\", \"USA\", \"Uruguay\", \"Luxembourg\", \"Brazil\", \"Kazakhstan\", \"Sweden\", \"Bermuda\", \"Denmark\", \"Finland\", \"Ireland\", \"Greece\", \"France\", \"Canada\", \"Norway\", \"Hong Kong SAR. China\", \"French Polynesia\", \"Israel\", \"Switzerland\", \"Netherlands\", \"Kuwait\", \"United Kingdom\", \"Austria\", \"Oman\", \"Italy\", \"Bahamas\", \"Portugal\", \"Malta\", \"Armenia\", \"Slovenia\", \"Chile\", \"Venezuela\", \"Belgium\", \"Germany\", \"Russia\", \"Croatia\", \"Belarus\", \"Spain\", \"Paraguay\", \"New Caledonia\", \"South Africa\", \"Barbados\", \"Lithuania\", \"Turkey\", \"Estonia\", \"Mexico\", \"Costa Rica\", \"Bolivia\", \"Ecuador\", \"Panama\", \"Czech Republic\", \"Romania\", \"Colombia\", \"Maldives\", \"Cyprus\", \"Serbia\", \"United Arab Emirates\", \"Algeria\", \"Ukraine\", \"Pakistan\", \"Swazerland\", \"Latvia\", \"Bosnia and Herzegovina\", \"Fiji\", \"South Korea\", \"Poland\", \"Saudi Arabia\", \"Botswana\", \"Macedonia\", \"Hungary\", \"Trinidad and Tobago\", \"Tunisia\", \"Egypt\", \"Mauritius\", \"Bulgaria\", \"Morocco\", \"Slovakia\", \"Niger\", \"Kenya\", \"Jordan\", \"Japan\", \"Georgia\", \"Grenada\", \"El Salvador\", \"Cuba\", \"China\", \"Honduras\", \"Taiwan. ROC\", \"Angola\", \"Jamaica\", \"Namibia\", \"Belize\", \"Malaysia\", \"Zimbabwe\", \"Guatemala\", \"Uganda\", \"Nepal\", \"Iran\", \"Tanzania\", \"Senegal\", \"Peru\", \"Nicaragua\", \"Vietnam\", \"Ethiopia\", \"Myanmar\", \"Congo\", \"Zambia\", \"Cameroon\", \"Madagascar\", \"Malawi\", \"Guinea\", \"Nigeria\", \"Rwanda\", \"Philippines\", \"Ghana\", \"Togo\", \"Gambia\", \"India\", \"Thailand\", \"Mozambique\", \"Cambodia\", \"Sierra Leone\", \"Sri Lanka\", \"Indonesia\", \"Liberia\", \"Bangladesh\"], \"xaxis\": \"x\", \"y\": [0.0, 0.19, 0.0, 0.11, 0.44, 0.04, 0.01, 0.04, 3.62, 0.03, 0.13, 0.22, 0.03, 0.08, 0.25, 0.02, 0.05, 0.94, 0.11, 2.79, 0.77, 0.1, 0.44, 0.12, 0.06, 0.05, 2.06, 0.21, 0.01, 0.09, 0.01, 0.05, 0.0, 0.75, 0.04, 0.0, 0.07, 0.88, 0.05, 0.0, 0.3, 0.02, 0.0, 0.55, 1.27, 0.1, 0.02, 1.71, 0.04, 0.02, 1.54, 0.01, 0.0, 3.53, 0.82, 0.01, 0.89, 0.2, 0.04, 0.0, 0.08, 0.0, 0.02, 0.0, 0.55, 0.04, 1.48, 0.3, 8.35, 0.06, 0.05, 1.16, 0.46, 0.01, 0.04, 1.88, 0.64, 0.3, 0.04, 0.0, 0.02, 0.0, 0.2, 0.02, 7.34, 0.0, 0.01, 0.8, 6.34, 3.66, 0.01, 16.95, 0.52, 0.0, 0.07, 1.88, 0.04, 0.54, 0.32, 0.01, 0.01, 0.0, 0.04, 0.0, 1.59, 0.01, 5.75, 0.45, 0.38, 0.0, 7.3, 0.64, 0.0, 1.76, 0.0, 2.6, 1.93, 0.03, 0.01, 0.01, 0.0, 0.39, 2.13, 0.03, 4.33, 0.0, 0.0, 1.12, 0.63, 0.61], \"yaxis\": \"y\"}, {\"alignmentgroup\": \"True\", \"hovertemplate\": \"food_category=Nuts inc. Peanut Butter<br>country=%{x}<br>consumption=%{y}<extra></extra>\", \"legendgroup\": \"Nuts inc. Peanut Butter\", \"marker\": {\"color\": \"rgb(5,48,97)\"}, \"name\": \"Nuts inc. Peanut Butter\", \"offsetgroup\": \"Nuts inc. Peanut Butter\", \"orientation\": \"v\", \"showlegend\": true, \"textposition\": \"auto\", \"type\": \"bar\", \"x\": [\"Argentina\", \"Australia\", \"Albania\", \"Iceland\", \"New Zealand\", \"USA\", \"Uruguay\", \"Luxembourg\", \"Brazil\", \"Kazakhstan\", \"Sweden\", \"Bermuda\", \"Denmark\", \"Finland\", \"Ireland\", \"Greece\", \"France\", \"Canada\", \"Norway\", \"Hong Kong SAR. China\", \"French Polynesia\", \"Israel\", \"Switzerland\", \"Netherlands\", \"Kuwait\", \"United Kingdom\", \"Austria\", \"Oman\", \"Italy\", \"Bahamas\", \"Portugal\", \"Malta\", \"Armenia\", \"Slovenia\", \"Chile\", \"Venezuela\", \"Belgium\", \"Germany\", \"Russia\", \"Croatia\", \"Belarus\", \"Spain\", \"Paraguay\", \"New Caledonia\", \"South Africa\", \"Barbados\", \"Lithuania\", \"Turkey\", \"Estonia\", \"Mexico\", \"Costa Rica\", \"Bolivia\", \"Ecuador\", \"Panama\", \"Czech Republic\", \"Romania\", \"Colombia\", \"Maldives\", \"Cyprus\", \"Serbia\", \"United Arab Emirates\", \"Algeria\", \"Ukraine\", \"Pakistan\", \"Swazerland\", \"Latvia\", \"Bosnia and Herzegovina\", \"Fiji\", \"South Korea\", \"Poland\", \"Saudi Arabia\", \"Botswana\", \"Macedonia\", \"Hungary\", \"Trinidad and Tobago\", \"Tunisia\", \"Egypt\", \"Mauritius\", \"Bulgaria\", \"Morocco\", \"Slovakia\", \"Niger\", \"Kenya\", \"Jordan\", \"Japan\", \"Georgia\", \"Grenada\", \"El Salvador\", \"Cuba\", \"China\", \"Honduras\", \"Taiwan. ROC\", \"Angola\", \"Jamaica\", \"Namibia\", \"Belize\", \"Malaysia\", \"Zimbabwe\", \"Guatemala\", \"Uganda\", \"Nepal\", \"Iran\", \"Tanzania\", \"Senegal\", \"Peru\", \"Nicaragua\", \"Vietnam\", \"Ethiopia\", \"Myanmar\", \"Congo\", \"Zambia\", \"Cameroon\", \"Madagascar\", \"Malawi\", \"Guinea\", \"Nigeria\", \"Rwanda\", \"Philippines\", \"Ghana\", \"Togo\", \"Gambia\", \"India\", \"Thailand\", \"Mozambique\", \"Cambodia\", \"Sierra Leone\", \"Sri Lanka\", \"Indonesia\", \"Liberia\", \"Bangladesh\"], \"xaxis\": \"x\", \"y\": [0.49, 8.73, 4.36, 3.88, 8.22, 7.86, 0.95, 0.93, 0.67, 5.14, 6.23, 5.72, 5.94, 3.43, 4.1, 10.5, 5.39, 8.01, 5.28, 13.81, 2.34, 7.71, 9.27, 7.94, 5.23, 4.18, 7.88, 1.68, 7.63, 4.03, 3.91, 5.62, 2.55, 5.28, 2.22, 0.35, 7.32, 7.96, 1.62, 3.88, 3.36, 7.44, 1.6, 2.96, 1.04, 4.16, 2.13, 7.97, 4.29, 2.51, 1.38, 9.16, 0.98, 1.05, 2.47, 1.8, 0.42, 15.83, 4.6, 3.31, 23.03, 2.08, 2.68, 0.83, 6.44, 3.78, 2.0, 1.3, 4.88, 2.23, 3.23, 1.08, 5.87, 0.64, 3.78, 6.34, 1.82, 2.33, 2.26, 3.23, 3.7, 6.95, 1.64, 3.56, 2.59, 2.47, 0.18, 1.1, 0.23, 6.39, 0.75, 9.06, 2.26, 1.82, 0.71, 5.58, 2.9, 2.22, 2.0, 3.77, 2.42, 12.16, 5.94, 4.03, 0.65, 2.36, 6.28, 1.21, 4.5, 3.08, 5.04, 9.29, 0.35, 5.08, 4.14, 6.93, 0.58, 2.08, 5.56, 3.59, 5.27, 1.92, 1.5, 2.61, 1.25, 5.57, 1.09, 4.92, 1.31, 0.72], \"yaxis\": \"y\"}],                        {\"barmode\": \"relative\", \"legend\": {\"title\": {\"text\": \"food_category\"}, \"tracegroupgap\": 0}, \"template\": {\"data\": {\"bar\": [{\"error_x\": {\"color\": \"#2a3f5f\"}, \"error_y\": {\"color\": \"#2a3f5f\"}, \"marker\": {\"line\": {\"color\": \"#E5ECF6\", \"width\": 0.5}}, \"type\": \"bar\"}], \"barpolar\": [{\"marker\": {\"line\": {\"color\": \"#E5ECF6\", \"width\": 0.5}}, \"type\": \"barpolar\"}], \"carpet\": [{\"aaxis\": {\"endlinecolor\": \"#2a3f5f\", \"gridcolor\": \"white\", \"linecolor\": \"white\", \"minorgridcolor\": \"white\", \"startlinecolor\": \"#2a3f5f\"}, \"baxis\": {\"endlinecolor\": \"#2a3f5f\", \"gridcolor\": \"white\", \"linecolor\": \"white\", \"minorgridcolor\": \"white\", \"startlinecolor\": \"#2a3f5f\"}, \"type\": \"carpet\"}], \"choropleth\": [{\"colorbar\": {\"outlinewidth\": 0, \"ticks\": \"\"}, \"type\": \"choropleth\"}], \"contour\": [{\"colorbar\": {\"outlinewidth\": 0, \"ticks\": \"\"}, \"colorscale\": [[0.0, \"#0d0887\"], [0.1111111111111111, \"#46039f\"], [0.2222222222222222, \"#7201a8\"], [0.3333333333333333, \"#9c179e\"], [0.4444444444444444, \"#bd3786\"], [0.5555555555555556, \"#d8576b\"], [0.6666666666666666, \"#ed7953\"], [0.7777777777777778, \"#fb9f3a\"], [0.8888888888888888, \"#fdca26\"], [1.0, \"#f0f921\"]], \"type\": \"contour\"}], \"contourcarpet\": [{\"colorbar\": {\"outlinewidth\": 0, \"ticks\": \"\"}, \"type\": \"contourcarpet\"}], \"heatmap\": [{\"colorbar\": {\"outlinewidth\": 0, \"ticks\": \"\"}, \"colorscale\": [[0.0, \"#0d0887\"], [0.1111111111111111, \"#46039f\"], [0.2222222222222222, \"#7201a8\"], [0.3333333333333333, \"#9c179e\"], [0.4444444444444444, \"#bd3786\"], [0.5555555555555556, \"#d8576b\"], [0.6666666666666666, \"#ed7953\"], [0.7777777777777778, \"#fb9f3a\"], [0.8888888888888888, \"#fdca26\"], [1.0, \"#f0f921\"]], \"type\": \"heatmap\"}], \"heatmapgl\": [{\"colorbar\": {\"outlinewidth\": 0, \"ticks\": \"\"}, \"colorscale\": [[0.0, \"#0d0887\"], [0.1111111111111111, \"#46039f\"], [0.2222222222222222, \"#7201a8\"], [0.3333333333333333, \"#9c179e\"], [0.4444444444444444, \"#bd3786\"], [0.5555555555555556, \"#d8576b\"], [0.6666666666666666, \"#ed7953\"], [0.7777777777777778, \"#fb9f3a\"], [0.8888888888888888, \"#fdca26\"], [1.0, \"#f0f921\"]], \"type\": \"heatmapgl\"}], \"histogram\": [{\"marker\": {\"colorbar\": {\"outlinewidth\": 0, \"ticks\": \"\"}}, \"type\": \"histogram\"}], \"histogram2d\": [{\"colorbar\": {\"outlinewidth\": 0, \"ticks\": \"\"}, \"colorscale\": [[0.0, \"#0d0887\"], [0.1111111111111111, \"#46039f\"], [0.2222222222222222, \"#7201a8\"], [0.3333333333333333, \"#9c179e\"], [0.4444444444444444, \"#bd3786\"], [0.5555555555555556, \"#d8576b\"], [0.6666666666666666, \"#ed7953\"], [0.7777777777777778, \"#fb9f3a\"], [0.8888888888888888, \"#fdca26\"], [1.0, \"#f0f921\"]], \"type\": \"histogram2d\"}], \"histogram2dcontour\": [{\"colorbar\": {\"outlinewidth\": 0, \"ticks\": \"\"}, \"colorscale\": [[0.0, \"#0d0887\"], [0.1111111111111111, \"#46039f\"], [0.2222222222222222, \"#7201a8\"], [0.3333333333333333, \"#9c179e\"], [0.4444444444444444, \"#bd3786\"], [0.5555555555555556, \"#d8576b\"], [0.6666666666666666, \"#ed7953\"], [0.7777777777777778, \"#fb9f3a\"], [0.8888888888888888, \"#fdca26\"], [1.0, \"#f0f921\"]], \"type\": \"histogram2dcontour\"}], \"mesh3d\": [{\"colorbar\": {\"outlinewidth\": 0, \"ticks\": \"\"}, \"type\": \"mesh3d\"}], \"parcoords\": [{\"line\": {\"colorbar\": {\"outlinewidth\": 0, \"ticks\": \"\"}}, \"type\": \"parcoords\"}], \"pie\": [{\"automargin\": true, \"type\": \"pie\"}], \"scatter\": [{\"marker\": {\"colorbar\": {\"outlinewidth\": 0, \"ticks\": \"\"}}, \"type\": \"scatter\"}], \"scatter3d\": [{\"line\": {\"colorbar\": {\"outlinewidth\": 0, \"ticks\": \"\"}}, \"marker\": {\"colorbar\": {\"outlinewidth\": 0, \"ticks\": \"\"}}, \"type\": \"scatter3d\"}], \"scattercarpet\": [{\"marker\": {\"colorbar\": {\"outlinewidth\": 0, \"ticks\": \"\"}}, \"type\": \"scattercarpet\"}], \"scattergeo\": [{\"marker\": {\"colorbar\": {\"outlinewidth\": 0, \"ticks\": \"\"}}, \"type\": \"scattergeo\"}], \"scattergl\": [{\"marker\": {\"colorbar\": {\"outlinewidth\": 0, \"ticks\": \"\"}}, \"type\": \"scattergl\"}], \"scattermapbox\": [{\"marker\": {\"colorbar\": {\"outlinewidth\": 0, \"ticks\": \"\"}}, \"type\": \"scattermapbox\"}], \"scatterpolar\": [{\"marker\": {\"colorbar\": {\"outlinewidth\": 0, \"ticks\": \"\"}}, \"type\": \"scatterpolar\"}], \"scatterpolargl\": [{\"marker\": {\"colorbar\": {\"outlinewidth\": 0, \"ticks\": \"\"}}, \"type\": \"scatterpolargl\"}], \"scatterternary\": [{\"marker\": {\"colorbar\": {\"outlinewidth\": 0, \"ticks\": \"\"}}, \"type\": \"scatterternary\"}], \"surface\": [{\"colorbar\": {\"outlinewidth\": 0, \"ticks\": \"\"}, \"colorscale\": [[0.0, \"#0d0887\"], [0.1111111111111111, \"#46039f\"], [0.2222222222222222, \"#7201a8\"], [0.3333333333333333, \"#9c179e\"], [0.4444444444444444, \"#bd3786\"], [0.5555555555555556, \"#d8576b\"], [0.6666666666666666, \"#ed7953\"], [0.7777777777777778, \"#fb9f3a\"], [0.8888888888888888, \"#fdca26\"], [1.0, \"#f0f921\"]], \"type\": \"surface\"}], \"table\": [{\"cells\": {\"fill\": {\"color\": \"#EBF0F8\"}, \"line\": {\"color\": \"white\"}}, \"header\": {\"fill\": {\"color\": \"#C8D4E3\"}, \"line\": {\"color\": \"white\"}}, \"type\": \"table\"}]}, \"layout\": {\"annotationdefaults\": {\"arrowcolor\": \"#2a3f5f\", \"arrowhead\": 0, \"arrowwidth\": 1}, \"autotypenumbers\": \"strict\", \"coloraxis\": {\"colorbar\": {\"outlinewidth\": 0, \"ticks\": \"\"}}, \"colorscale\": {\"diverging\": [[0, \"#8e0152\"], [0.1, \"#c51b7d\"], [0.2, \"#de77ae\"], [0.3, \"#f1b6da\"], [0.4, \"#fde0ef\"], [0.5, \"#f7f7f7\"], [0.6, \"#e6f5d0\"], [0.7, \"#b8e186\"], [0.8, \"#7fbc41\"], [0.9, \"#4d9221\"], [1, \"#276419\"]], \"sequential\": [[0.0, \"#0d0887\"], [0.1111111111111111, \"#46039f\"], [0.2222222222222222, \"#7201a8\"], [0.3333333333333333, \"#9c179e\"], [0.4444444444444444, \"#bd3786\"], [0.5555555555555556, \"#d8576b\"], [0.6666666666666666, \"#ed7953\"], [0.7777777777777778, \"#fb9f3a\"], [0.8888888888888888, \"#fdca26\"], [1.0, \"#f0f921\"]], \"sequentialminus\": [[0.0, \"#0d0887\"], [0.1111111111111111, \"#46039f\"], [0.2222222222222222, \"#7201a8\"], [0.3333333333333333, \"#9c179e\"], [0.4444444444444444, \"#bd3786\"], [0.5555555555555556, \"#d8576b\"], [0.6666666666666666, \"#ed7953\"], [0.7777777777777778, \"#fb9f3a\"], [0.8888888888888888, \"#fdca26\"], [1.0, \"#f0f921\"]]}, \"colorway\": [\"#636efa\", \"#EF553B\", \"#00cc96\", \"#ab63fa\", \"#FFA15A\", \"#19d3f3\", \"#FF6692\", \"#B6E880\", \"#FF97FF\", \"#FECB52\"], \"font\": {\"color\": \"#2a3f5f\"}, \"geo\": {\"bgcolor\": \"white\", \"lakecolor\": \"white\", \"landcolor\": \"#E5ECF6\", \"showlakes\": true, \"showland\": true, \"subunitcolor\": \"white\"}, \"hoverlabel\": {\"align\": \"left\"}, \"hovermode\": \"closest\", \"mapbox\": {\"style\": \"light\"}, \"paper_bgcolor\": \"white\", \"plot_bgcolor\": \"#E5ECF6\", \"polar\": {\"angularaxis\": {\"gridcolor\": \"white\", \"linecolor\": \"white\", \"ticks\": \"\"}, \"bgcolor\": \"#E5ECF6\", \"radialaxis\": {\"gridcolor\": \"white\", \"linecolor\": \"white\", \"ticks\": \"\"}}, \"scene\": {\"xaxis\": {\"backgroundcolor\": \"#E5ECF6\", \"gridcolor\": \"white\", \"gridwidth\": 2, \"linecolor\": \"white\", \"showbackground\": true, \"ticks\": \"\", \"zerolinecolor\": \"white\"}, \"yaxis\": {\"backgroundcolor\": \"#E5ECF6\", \"gridcolor\": \"white\", \"gridwidth\": 2, \"linecolor\": \"white\", \"showbackground\": true, \"ticks\": \"\", \"zerolinecolor\": \"white\"}, \"zaxis\": {\"backgroundcolor\": \"#E5ECF6\", \"gridcolor\": \"white\", \"gridwidth\": 2, \"linecolor\": \"white\", \"showbackground\": true, \"ticks\": \"\", \"zerolinecolor\": \"white\"}}, \"shapedefaults\": {\"line\": {\"color\": \"#2a3f5f\"}}, \"ternary\": {\"aaxis\": {\"gridcolor\": \"white\", \"linecolor\": \"white\", \"ticks\": \"\"}, \"baxis\": {\"gridcolor\": \"white\", \"linecolor\": \"white\", \"ticks\": \"\"}, \"bgcolor\": \"#E5ECF6\", \"caxis\": {\"gridcolor\": \"white\", \"linecolor\": \"white\", \"ticks\": \"\"}}, \"title\": {\"x\": 0.05}, \"xaxis\": {\"automargin\": true, \"gridcolor\": \"white\", \"linecolor\": \"white\", \"ticks\": \"\", \"title\": {\"standoff\": 15}, \"zerolinecolor\": \"white\", \"zerolinewidth\": 2}, \"yaxis\": {\"automargin\": true, \"gridcolor\": \"white\", \"linecolor\": \"white\", \"ticks\": \"\", \"title\": {\"standoff\": 15}, \"zerolinecolor\": \"white\", \"zerolinewidth\": 2}}}, \"title\": {\"text\": \"Food consumption all over the word\"}, \"xaxis\": {\"anchor\": \"y\", \"domain\": [0.0, 1.0], \"title\": {\"text\": \"country\"}}, \"yaxis\": {\"anchor\": \"x\", \"domain\": [0.0, 1.0], \"title\": {\"text\": \"consumption\"}}},                        {\"responsive\": true}                    ).then(function(){\n",
       "                            \n",
       "var gd = document.getElementById('fdbb3869-eda4-4dac-b790-7e973970e4f7');\n",
       "var x = new MutationObserver(function (mutations, observer) {{\n",
       "        var display = window.getComputedStyle(gd).display;\n",
       "        if (!display || display === 'none') {{\n",
       "            console.log([gd, 'removed!']);\n",
       "            Plotly.purge(gd);\n",
       "            observer.disconnect();\n",
       "        }}\n",
       "}});\n",
       "\n",
       "// Listen for the removal of the full notebook cells\n",
       "var notebookContainer = gd.closest('#notebook-container');\n",
       "if (notebookContainer) {{\n",
       "    x.observe(notebookContainer, {childList: true});\n",
       "}}\n",
       "\n",
       "// Listen for the clearing of the current output cell\n",
       "var outputEl = gd.closest('.output');\n",
       "if (outputEl) {{\n",
       "    x.observe(outputEl, {childList: true});\n",
       "}}\n",
       "\n",
       "                        })                };                });            </script>        </div>"
      ]
     },
     "metadata": {},
     "output_type": "display_data"
    }
   ],
   "source": [
    "fig = px.bar(data, x='country', y='consumption', color=\"food_category\", title=\"Food consumption all over the word\",color_discrete_sequence=px.colors.sequential.RdBu)\n",
    "fig.show()"
   ]
  },
  {
   "cell_type": "code",
   "execution_count": 13,
   "metadata": {},
   "outputs": [
    {
     "data": {
      "application/vnd.plotly.v1+json": {
       "config": {
        "plotlyServerURL": "https://plot.ly"
       },
       "data": [
        {
         "alignmentgroup": "True",
         "hovertemplate": "food_category=%{x}<br>Food Consumption in Canada=%{y}<extra></extra>",
         "legendgroup": "",
         "marker": {
          "color": "#636efa"
         },
         "name": "",
         "offsetgroup": "",
         "orientation": "v",
         "showlegend": false,
         "textposition": "auto",
         "type": "bar",
         "x": [
          "Pork",
          "Poultry",
          "Beef",
          "Lamb & Goat",
          "Fish",
          "Eggs",
          "Milk - inc. cheese",
          "Wheat and Wheat Products",
          "Rice",
          "Soybeans",
          "Nuts inc. Peanut Butter"
         ],
         "xaxis": "x",
         "y": [
          38.43,
          13.2,
          5.12,
          3.13,
          21.01,
          18.76,
          32.66,
          63.36,
          78.18,
          3.66,
          6.39
         ],
         "yaxis": "y"
        }
       ],
       "layout": {
        "barmode": "relative",
        "height": 400,
        "legend": {
         "tracegroupgap": 0
        },
        "template": {
         "data": {
          "bar": [
           {
            "error_x": {
             "color": "#2a3f5f"
            },
            "error_y": {
             "color": "#2a3f5f"
            },
            "marker": {
             "line": {
              "color": "#E5ECF6",
              "width": 0.5
             }
            },
            "type": "bar"
           }
          ],
          "barpolar": [
           {
            "marker": {
             "line": {
              "color": "#E5ECF6",
              "width": 0.5
             }
            },
            "type": "barpolar"
           }
          ],
          "carpet": [
           {
            "aaxis": {
             "endlinecolor": "#2a3f5f",
             "gridcolor": "white",
             "linecolor": "white",
             "minorgridcolor": "white",
             "startlinecolor": "#2a3f5f"
            },
            "baxis": {
             "endlinecolor": "#2a3f5f",
             "gridcolor": "white",
             "linecolor": "white",
             "minorgridcolor": "white",
             "startlinecolor": "#2a3f5f"
            },
            "type": "carpet"
           }
          ],
          "choropleth": [
           {
            "colorbar": {
             "outlinewidth": 0,
             "ticks": ""
            },
            "type": "choropleth"
           }
          ],
          "contour": [
           {
            "colorbar": {
             "outlinewidth": 0,
             "ticks": ""
            },
            "colorscale": [
             [
              0,
              "#0d0887"
             ],
             [
              0.1111111111111111,
              "#46039f"
             ],
             [
              0.2222222222222222,
              "#7201a8"
             ],
             [
              0.3333333333333333,
              "#9c179e"
             ],
             [
              0.4444444444444444,
              "#bd3786"
             ],
             [
              0.5555555555555556,
              "#d8576b"
             ],
             [
              0.6666666666666666,
              "#ed7953"
             ],
             [
              0.7777777777777778,
              "#fb9f3a"
             ],
             [
              0.8888888888888888,
              "#fdca26"
             ],
             [
              1,
              "#f0f921"
             ]
            ],
            "type": "contour"
           }
          ],
          "contourcarpet": [
           {
            "colorbar": {
             "outlinewidth": 0,
             "ticks": ""
            },
            "type": "contourcarpet"
           }
          ],
          "heatmap": [
           {
            "colorbar": {
             "outlinewidth": 0,
             "ticks": ""
            },
            "colorscale": [
             [
              0,
              "#0d0887"
             ],
             [
              0.1111111111111111,
              "#46039f"
             ],
             [
              0.2222222222222222,
              "#7201a8"
             ],
             [
              0.3333333333333333,
              "#9c179e"
             ],
             [
              0.4444444444444444,
              "#bd3786"
             ],
             [
              0.5555555555555556,
              "#d8576b"
             ],
             [
              0.6666666666666666,
              "#ed7953"
             ],
             [
              0.7777777777777778,
              "#fb9f3a"
             ],
             [
              0.8888888888888888,
              "#fdca26"
             ],
             [
              1,
              "#f0f921"
             ]
            ],
            "type": "heatmap"
           }
          ],
          "heatmapgl": [
           {
            "colorbar": {
             "outlinewidth": 0,
             "ticks": ""
            },
            "colorscale": [
             [
              0,
              "#0d0887"
             ],
             [
              0.1111111111111111,
              "#46039f"
             ],
             [
              0.2222222222222222,
              "#7201a8"
             ],
             [
              0.3333333333333333,
              "#9c179e"
             ],
             [
              0.4444444444444444,
              "#bd3786"
             ],
             [
              0.5555555555555556,
              "#d8576b"
             ],
             [
              0.6666666666666666,
              "#ed7953"
             ],
             [
              0.7777777777777778,
              "#fb9f3a"
             ],
             [
              0.8888888888888888,
              "#fdca26"
             ],
             [
              1,
              "#f0f921"
             ]
            ],
            "type": "heatmapgl"
           }
          ],
          "histogram": [
           {
            "marker": {
             "colorbar": {
              "outlinewidth": 0,
              "ticks": ""
             }
            },
            "type": "histogram"
           }
          ],
          "histogram2d": [
           {
            "colorbar": {
             "outlinewidth": 0,
             "ticks": ""
            },
            "colorscale": [
             [
              0,
              "#0d0887"
             ],
             [
              0.1111111111111111,
              "#46039f"
             ],
             [
              0.2222222222222222,
              "#7201a8"
             ],
             [
              0.3333333333333333,
              "#9c179e"
             ],
             [
              0.4444444444444444,
              "#bd3786"
             ],
             [
              0.5555555555555556,
              "#d8576b"
             ],
             [
              0.6666666666666666,
              "#ed7953"
             ],
             [
              0.7777777777777778,
              "#fb9f3a"
             ],
             [
              0.8888888888888888,
              "#fdca26"
             ],
             [
              1,
              "#f0f921"
             ]
            ],
            "type": "histogram2d"
           }
          ],
          "histogram2dcontour": [
           {
            "colorbar": {
             "outlinewidth": 0,
             "ticks": ""
            },
            "colorscale": [
             [
              0,
              "#0d0887"
             ],
             [
              0.1111111111111111,
              "#46039f"
             ],
             [
              0.2222222222222222,
              "#7201a8"
             ],
             [
              0.3333333333333333,
              "#9c179e"
             ],
             [
              0.4444444444444444,
              "#bd3786"
             ],
             [
              0.5555555555555556,
              "#d8576b"
             ],
             [
              0.6666666666666666,
              "#ed7953"
             ],
             [
              0.7777777777777778,
              "#fb9f3a"
             ],
             [
              0.8888888888888888,
              "#fdca26"
             ],
             [
              1,
              "#f0f921"
             ]
            ],
            "type": "histogram2dcontour"
           }
          ],
          "mesh3d": [
           {
            "colorbar": {
             "outlinewidth": 0,
             "ticks": ""
            },
            "type": "mesh3d"
           }
          ],
          "parcoords": [
           {
            "line": {
             "colorbar": {
              "outlinewidth": 0,
              "ticks": ""
             }
            },
            "type": "parcoords"
           }
          ],
          "pie": [
           {
            "automargin": true,
            "type": "pie"
           }
          ],
          "scatter": [
           {
            "marker": {
             "colorbar": {
              "outlinewidth": 0,
              "ticks": ""
             }
            },
            "type": "scatter"
           }
          ],
          "scatter3d": [
           {
            "line": {
             "colorbar": {
              "outlinewidth": 0,
              "ticks": ""
             }
            },
            "marker": {
             "colorbar": {
              "outlinewidth": 0,
              "ticks": ""
             }
            },
            "type": "scatter3d"
           }
          ],
          "scattercarpet": [
           {
            "marker": {
             "colorbar": {
              "outlinewidth": 0,
              "ticks": ""
             }
            },
            "type": "scattercarpet"
           }
          ],
          "scattergeo": [
           {
            "marker": {
             "colorbar": {
              "outlinewidth": 0,
              "ticks": ""
             }
            },
            "type": "scattergeo"
           }
          ],
          "scattergl": [
           {
            "marker": {
             "colorbar": {
              "outlinewidth": 0,
              "ticks": ""
             }
            },
            "type": "scattergl"
           }
          ],
          "scattermapbox": [
           {
            "marker": {
             "colorbar": {
              "outlinewidth": 0,
              "ticks": ""
             }
            },
            "type": "scattermapbox"
           }
          ],
          "scatterpolar": [
           {
            "marker": {
             "colorbar": {
              "outlinewidth": 0,
              "ticks": ""
             }
            },
            "type": "scatterpolar"
           }
          ],
          "scatterpolargl": [
           {
            "marker": {
             "colorbar": {
              "outlinewidth": 0,
              "ticks": ""
             }
            },
            "type": "scatterpolargl"
           }
          ],
          "scatterternary": [
           {
            "marker": {
             "colorbar": {
              "outlinewidth": 0,
              "ticks": ""
             }
            },
            "type": "scatterternary"
           }
          ],
          "surface": [
           {
            "colorbar": {
             "outlinewidth": 0,
             "ticks": ""
            },
            "colorscale": [
             [
              0,
              "#0d0887"
             ],
             [
              0.1111111111111111,
              "#46039f"
             ],
             [
              0.2222222222222222,
              "#7201a8"
             ],
             [
              0.3333333333333333,
              "#9c179e"
             ],
             [
              0.4444444444444444,
              "#bd3786"
             ],
             [
              0.5555555555555556,
              "#d8576b"
             ],
             [
              0.6666666666666666,
              "#ed7953"
             ],
             [
              0.7777777777777778,
              "#fb9f3a"
             ],
             [
              0.8888888888888888,
              "#fdca26"
             ],
             [
              1,
              "#f0f921"
             ]
            ],
            "type": "surface"
           }
          ],
          "table": [
           {
            "cells": {
             "fill": {
              "color": "#EBF0F8"
             },
             "line": {
              "color": "white"
             }
            },
            "header": {
             "fill": {
              "color": "#C8D4E3"
             },
             "line": {
              "color": "white"
             }
            },
            "type": "table"
           }
          ]
         },
         "layout": {
          "annotationdefaults": {
           "arrowcolor": "#2a3f5f",
           "arrowhead": 0,
           "arrowwidth": 1
          },
          "autotypenumbers": "strict",
          "coloraxis": {
           "colorbar": {
            "outlinewidth": 0,
            "ticks": ""
           }
          },
          "colorscale": {
           "diverging": [
            [
             0,
             "#8e0152"
            ],
            [
             0.1,
             "#c51b7d"
            ],
            [
             0.2,
             "#de77ae"
            ],
            [
             0.3,
             "#f1b6da"
            ],
            [
             0.4,
             "#fde0ef"
            ],
            [
             0.5,
             "#f7f7f7"
            ],
            [
             0.6,
             "#e6f5d0"
            ],
            [
             0.7,
             "#b8e186"
            ],
            [
             0.8,
             "#7fbc41"
            ],
            [
             0.9,
             "#4d9221"
            ],
            [
             1,
             "#276419"
            ]
           ],
           "sequential": [
            [
             0,
             "#0d0887"
            ],
            [
             0.1111111111111111,
             "#46039f"
            ],
            [
             0.2222222222222222,
             "#7201a8"
            ],
            [
             0.3333333333333333,
             "#9c179e"
            ],
            [
             0.4444444444444444,
             "#bd3786"
            ],
            [
             0.5555555555555556,
             "#d8576b"
            ],
            [
             0.6666666666666666,
             "#ed7953"
            ],
            [
             0.7777777777777778,
             "#fb9f3a"
            ],
            [
             0.8888888888888888,
             "#fdca26"
            ],
            [
             1,
             "#f0f921"
            ]
           ],
           "sequentialminus": [
            [
             0,
             "#0d0887"
            ],
            [
             0.1111111111111111,
             "#46039f"
            ],
            [
             0.2222222222222222,
             "#7201a8"
            ],
            [
             0.3333333333333333,
             "#9c179e"
            ],
            [
             0.4444444444444444,
             "#bd3786"
            ],
            [
             0.5555555555555556,
             "#d8576b"
            ],
            [
             0.6666666666666666,
             "#ed7953"
            ],
            [
             0.7777777777777778,
             "#fb9f3a"
            ],
            [
             0.8888888888888888,
             "#fdca26"
            ],
            [
             1,
             "#f0f921"
            ]
           ]
          },
          "colorway": [
           "#636efa",
           "#EF553B",
           "#00cc96",
           "#ab63fa",
           "#FFA15A",
           "#19d3f3",
           "#FF6692",
           "#B6E880",
           "#FF97FF",
           "#FECB52"
          ],
          "font": {
           "color": "#2a3f5f"
          },
          "geo": {
           "bgcolor": "white",
           "lakecolor": "white",
           "landcolor": "#E5ECF6",
           "showlakes": true,
           "showland": true,
           "subunitcolor": "white"
          },
          "hoverlabel": {
           "align": "left"
          },
          "hovermode": "closest",
          "mapbox": {
           "style": "light"
          },
          "paper_bgcolor": "white",
          "plot_bgcolor": "#E5ECF6",
          "polar": {
           "angularaxis": {
            "gridcolor": "white",
            "linecolor": "white",
            "ticks": ""
           },
           "bgcolor": "#E5ECF6",
           "radialaxis": {
            "gridcolor": "white",
            "linecolor": "white",
            "ticks": ""
           }
          },
          "scene": {
           "xaxis": {
            "backgroundcolor": "#E5ECF6",
            "gridcolor": "white",
            "gridwidth": 2,
            "linecolor": "white",
            "showbackground": true,
            "ticks": "",
            "zerolinecolor": "white"
           },
           "yaxis": {
            "backgroundcolor": "#E5ECF6",
            "gridcolor": "white",
            "gridwidth": 2,
            "linecolor": "white",
            "showbackground": true,
            "ticks": "",
            "zerolinecolor": "white"
           },
           "zaxis": {
            "backgroundcolor": "#E5ECF6",
            "gridcolor": "white",
            "gridwidth": 2,
            "linecolor": "white",
            "showbackground": true,
            "ticks": "",
            "zerolinecolor": "white"
           }
          },
          "shapedefaults": {
           "line": {
            "color": "#2a3f5f"
           }
          },
          "ternary": {
           "aaxis": {
            "gridcolor": "white",
            "linecolor": "white",
            "ticks": ""
           },
           "baxis": {
            "gridcolor": "white",
            "linecolor": "white",
            "ticks": ""
           },
           "bgcolor": "#E5ECF6",
           "caxis": {
            "gridcolor": "white",
            "linecolor": "white",
            "ticks": ""
           }
          },
          "title": {
           "x": 0.05
          },
          "xaxis": {
           "automargin": true,
           "gridcolor": "white",
           "linecolor": "white",
           "ticks": "",
           "title": {
            "standoff": 15
           },
           "zerolinecolor": "white",
           "zerolinewidth": 2
          },
          "yaxis": {
           "automargin": true,
           "gridcolor": "white",
           "linecolor": "white",
           "ticks": "",
           "title": {
            "standoff": 15
           },
           "zerolinecolor": "white",
           "zerolinewidth": 2
          }
         }
        },
        "title": {
         "text": "Product Consumption in China"
        },
        "xaxis": {
         "anchor": "y",
         "domain": [
          0,
          1
         ],
         "title": {
          "text": "food_category"
         }
        },
        "yaxis": {
         "anchor": "x",
         "domain": [
          0,
          1
         ],
         "title": {
          "text": "Food Consumption in Canada"
         }
        }
       }
      },
      "text/html": [
       "<div>                            <div id=\"753586f6-afb5-47c5-add5-ef9b6005fd87\" class=\"plotly-graph-div\" style=\"height:400px; width:100%;\"></div>            <script type=\"text/javascript\">                require([\"plotly\"], function(Plotly) {                    window.PLOTLYENV=window.PLOTLYENV || {};                                    if (document.getElementById(\"753586f6-afb5-47c5-add5-ef9b6005fd87\")) {                    Plotly.newPlot(                        \"753586f6-afb5-47c5-add5-ef9b6005fd87\",                        [{\"alignmentgroup\": \"True\", \"hovertemplate\": \"food_category=%{x}<br>Food Consumption in Canada=%{y}<extra></extra>\", \"legendgroup\": \"\", \"marker\": {\"color\": \"#636efa\"}, \"name\": \"\", \"offsetgroup\": \"\", \"orientation\": \"v\", \"showlegend\": false, \"textposition\": \"auto\", \"type\": \"bar\", \"x\": [\"Pork\", \"Poultry\", \"Beef\", \"Lamb & Goat\", \"Fish\", \"Eggs\", \"Milk - inc. cheese\", \"Wheat and Wheat Products\", \"Rice\", \"Soybeans\", \"Nuts inc. Peanut Butter\"], \"xaxis\": \"x\", \"y\": [38.43, 13.2, 5.12, 3.13, 21.01, 18.76, 32.66, 63.36, 78.18, 3.66, 6.39], \"yaxis\": \"y\"}],                        {\"barmode\": \"relative\", \"height\": 400, \"legend\": {\"tracegroupgap\": 0}, \"template\": {\"data\": {\"bar\": [{\"error_x\": {\"color\": \"#2a3f5f\"}, \"error_y\": {\"color\": \"#2a3f5f\"}, \"marker\": {\"line\": {\"color\": \"#E5ECF6\", \"width\": 0.5}}, \"type\": \"bar\"}], \"barpolar\": [{\"marker\": {\"line\": {\"color\": \"#E5ECF6\", \"width\": 0.5}}, \"type\": \"barpolar\"}], \"carpet\": [{\"aaxis\": {\"endlinecolor\": \"#2a3f5f\", \"gridcolor\": \"white\", \"linecolor\": \"white\", \"minorgridcolor\": \"white\", \"startlinecolor\": \"#2a3f5f\"}, \"baxis\": {\"endlinecolor\": \"#2a3f5f\", \"gridcolor\": \"white\", \"linecolor\": \"white\", \"minorgridcolor\": \"white\", \"startlinecolor\": \"#2a3f5f\"}, \"type\": \"carpet\"}], \"choropleth\": [{\"colorbar\": {\"outlinewidth\": 0, \"ticks\": \"\"}, \"type\": \"choropleth\"}], \"contour\": [{\"colorbar\": {\"outlinewidth\": 0, \"ticks\": \"\"}, \"colorscale\": [[0.0, \"#0d0887\"], [0.1111111111111111, \"#46039f\"], [0.2222222222222222, \"#7201a8\"], [0.3333333333333333, \"#9c179e\"], [0.4444444444444444, \"#bd3786\"], [0.5555555555555556, \"#d8576b\"], [0.6666666666666666, \"#ed7953\"], [0.7777777777777778, \"#fb9f3a\"], [0.8888888888888888, \"#fdca26\"], [1.0, \"#f0f921\"]], \"type\": \"contour\"}], \"contourcarpet\": [{\"colorbar\": {\"outlinewidth\": 0, \"ticks\": \"\"}, \"type\": \"contourcarpet\"}], \"heatmap\": [{\"colorbar\": {\"outlinewidth\": 0, \"ticks\": \"\"}, \"colorscale\": [[0.0, \"#0d0887\"], [0.1111111111111111, \"#46039f\"], [0.2222222222222222, \"#7201a8\"], [0.3333333333333333, \"#9c179e\"], [0.4444444444444444, \"#bd3786\"], [0.5555555555555556, \"#d8576b\"], [0.6666666666666666, \"#ed7953\"], [0.7777777777777778, \"#fb9f3a\"], [0.8888888888888888, \"#fdca26\"], [1.0, \"#f0f921\"]], \"type\": \"heatmap\"}], \"heatmapgl\": [{\"colorbar\": {\"outlinewidth\": 0, \"ticks\": \"\"}, \"colorscale\": [[0.0, \"#0d0887\"], [0.1111111111111111, \"#46039f\"], [0.2222222222222222, \"#7201a8\"], [0.3333333333333333, \"#9c179e\"], [0.4444444444444444, \"#bd3786\"], [0.5555555555555556, \"#d8576b\"], [0.6666666666666666, \"#ed7953\"], [0.7777777777777778, \"#fb9f3a\"], [0.8888888888888888, \"#fdca26\"], [1.0, \"#f0f921\"]], \"type\": \"heatmapgl\"}], \"histogram\": [{\"marker\": {\"colorbar\": {\"outlinewidth\": 0, \"ticks\": \"\"}}, \"type\": \"histogram\"}], \"histogram2d\": [{\"colorbar\": {\"outlinewidth\": 0, \"ticks\": \"\"}, \"colorscale\": [[0.0, \"#0d0887\"], [0.1111111111111111, \"#46039f\"], [0.2222222222222222, \"#7201a8\"], [0.3333333333333333, \"#9c179e\"], [0.4444444444444444, \"#bd3786\"], [0.5555555555555556, \"#d8576b\"], [0.6666666666666666, \"#ed7953\"], [0.7777777777777778, \"#fb9f3a\"], [0.8888888888888888, \"#fdca26\"], [1.0, \"#f0f921\"]], \"type\": \"histogram2d\"}], \"histogram2dcontour\": [{\"colorbar\": {\"outlinewidth\": 0, \"ticks\": \"\"}, \"colorscale\": [[0.0, \"#0d0887\"], [0.1111111111111111, \"#46039f\"], [0.2222222222222222, \"#7201a8\"], [0.3333333333333333, \"#9c179e\"], [0.4444444444444444, \"#bd3786\"], [0.5555555555555556, \"#d8576b\"], [0.6666666666666666, \"#ed7953\"], [0.7777777777777778, \"#fb9f3a\"], [0.8888888888888888, \"#fdca26\"], [1.0, \"#f0f921\"]], \"type\": \"histogram2dcontour\"}], \"mesh3d\": [{\"colorbar\": {\"outlinewidth\": 0, \"ticks\": \"\"}, \"type\": \"mesh3d\"}], \"parcoords\": [{\"line\": {\"colorbar\": {\"outlinewidth\": 0, \"ticks\": \"\"}}, \"type\": \"parcoords\"}], \"pie\": [{\"automargin\": true, \"type\": \"pie\"}], \"scatter\": [{\"marker\": {\"colorbar\": {\"outlinewidth\": 0, \"ticks\": \"\"}}, \"type\": \"scatter\"}], \"scatter3d\": [{\"line\": {\"colorbar\": {\"outlinewidth\": 0, \"ticks\": \"\"}}, \"marker\": {\"colorbar\": {\"outlinewidth\": 0, \"ticks\": \"\"}}, \"type\": \"scatter3d\"}], \"scattercarpet\": [{\"marker\": {\"colorbar\": {\"outlinewidth\": 0, \"ticks\": \"\"}}, \"type\": \"scattercarpet\"}], \"scattergeo\": [{\"marker\": {\"colorbar\": {\"outlinewidth\": 0, \"ticks\": \"\"}}, \"type\": \"scattergeo\"}], \"scattergl\": [{\"marker\": {\"colorbar\": {\"outlinewidth\": 0, \"ticks\": \"\"}}, \"type\": \"scattergl\"}], \"scattermapbox\": [{\"marker\": {\"colorbar\": {\"outlinewidth\": 0, \"ticks\": \"\"}}, \"type\": \"scattermapbox\"}], \"scatterpolar\": [{\"marker\": {\"colorbar\": {\"outlinewidth\": 0, \"ticks\": \"\"}}, \"type\": \"scatterpolar\"}], \"scatterpolargl\": [{\"marker\": {\"colorbar\": {\"outlinewidth\": 0, \"ticks\": \"\"}}, \"type\": \"scatterpolargl\"}], \"scatterternary\": [{\"marker\": {\"colorbar\": {\"outlinewidth\": 0, \"ticks\": \"\"}}, \"type\": \"scatterternary\"}], \"surface\": [{\"colorbar\": {\"outlinewidth\": 0, \"ticks\": \"\"}, \"colorscale\": [[0.0, \"#0d0887\"], [0.1111111111111111, \"#46039f\"], [0.2222222222222222, \"#7201a8\"], [0.3333333333333333, \"#9c179e\"], [0.4444444444444444, \"#bd3786\"], [0.5555555555555556, \"#d8576b\"], [0.6666666666666666, \"#ed7953\"], [0.7777777777777778, \"#fb9f3a\"], [0.8888888888888888, \"#fdca26\"], [1.0, \"#f0f921\"]], \"type\": \"surface\"}], \"table\": [{\"cells\": {\"fill\": {\"color\": \"#EBF0F8\"}, \"line\": {\"color\": \"white\"}}, \"header\": {\"fill\": {\"color\": \"#C8D4E3\"}, \"line\": {\"color\": \"white\"}}, \"type\": \"table\"}]}, \"layout\": {\"annotationdefaults\": {\"arrowcolor\": \"#2a3f5f\", \"arrowhead\": 0, \"arrowwidth\": 1}, \"autotypenumbers\": \"strict\", \"coloraxis\": {\"colorbar\": {\"outlinewidth\": 0, \"ticks\": \"\"}}, \"colorscale\": {\"diverging\": [[0, \"#8e0152\"], [0.1, \"#c51b7d\"], [0.2, \"#de77ae\"], [0.3, \"#f1b6da\"], [0.4, \"#fde0ef\"], [0.5, \"#f7f7f7\"], [0.6, \"#e6f5d0\"], [0.7, \"#b8e186\"], [0.8, \"#7fbc41\"], [0.9, \"#4d9221\"], [1, \"#276419\"]], \"sequential\": [[0.0, \"#0d0887\"], [0.1111111111111111, \"#46039f\"], [0.2222222222222222, \"#7201a8\"], [0.3333333333333333, \"#9c179e\"], [0.4444444444444444, \"#bd3786\"], [0.5555555555555556, \"#d8576b\"], [0.6666666666666666, \"#ed7953\"], [0.7777777777777778, \"#fb9f3a\"], [0.8888888888888888, \"#fdca26\"], [1.0, \"#f0f921\"]], \"sequentialminus\": [[0.0, \"#0d0887\"], [0.1111111111111111, \"#46039f\"], [0.2222222222222222, \"#7201a8\"], [0.3333333333333333, \"#9c179e\"], [0.4444444444444444, \"#bd3786\"], [0.5555555555555556, \"#d8576b\"], [0.6666666666666666, \"#ed7953\"], [0.7777777777777778, \"#fb9f3a\"], [0.8888888888888888, \"#fdca26\"], [1.0, \"#f0f921\"]]}, \"colorway\": [\"#636efa\", \"#EF553B\", \"#00cc96\", \"#ab63fa\", \"#FFA15A\", \"#19d3f3\", \"#FF6692\", \"#B6E880\", \"#FF97FF\", \"#FECB52\"], \"font\": {\"color\": \"#2a3f5f\"}, \"geo\": {\"bgcolor\": \"white\", \"lakecolor\": \"white\", \"landcolor\": \"#E5ECF6\", \"showlakes\": true, \"showland\": true, \"subunitcolor\": \"white\"}, \"hoverlabel\": {\"align\": \"left\"}, \"hovermode\": \"closest\", \"mapbox\": {\"style\": \"light\"}, \"paper_bgcolor\": \"white\", \"plot_bgcolor\": \"#E5ECF6\", \"polar\": {\"angularaxis\": {\"gridcolor\": \"white\", \"linecolor\": \"white\", \"ticks\": \"\"}, \"bgcolor\": \"#E5ECF6\", \"radialaxis\": {\"gridcolor\": \"white\", \"linecolor\": \"white\", \"ticks\": \"\"}}, \"scene\": {\"xaxis\": {\"backgroundcolor\": \"#E5ECF6\", \"gridcolor\": \"white\", \"gridwidth\": 2, \"linecolor\": \"white\", \"showbackground\": true, \"ticks\": \"\", \"zerolinecolor\": \"white\"}, \"yaxis\": {\"backgroundcolor\": \"#E5ECF6\", \"gridcolor\": \"white\", \"gridwidth\": 2, \"linecolor\": \"white\", \"showbackground\": true, \"ticks\": \"\", \"zerolinecolor\": \"white\"}, \"zaxis\": {\"backgroundcolor\": \"#E5ECF6\", \"gridcolor\": \"white\", \"gridwidth\": 2, \"linecolor\": \"white\", \"showbackground\": true, \"ticks\": \"\", \"zerolinecolor\": \"white\"}}, \"shapedefaults\": {\"line\": {\"color\": \"#2a3f5f\"}}, \"ternary\": {\"aaxis\": {\"gridcolor\": \"white\", \"linecolor\": \"white\", \"ticks\": \"\"}, \"baxis\": {\"gridcolor\": \"white\", \"linecolor\": \"white\", \"ticks\": \"\"}, \"bgcolor\": \"#E5ECF6\", \"caxis\": {\"gridcolor\": \"white\", \"linecolor\": \"white\", \"ticks\": \"\"}}, \"title\": {\"x\": 0.05}, \"xaxis\": {\"automargin\": true, \"gridcolor\": \"white\", \"linecolor\": \"white\", \"ticks\": \"\", \"title\": {\"standoff\": 15}, \"zerolinecolor\": \"white\", \"zerolinewidth\": 2}, \"yaxis\": {\"automargin\": true, \"gridcolor\": \"white\", \"linecolor\": \"white\", \"ticks\": \"\", \"title\": {\"standoff\": 15}, \"zerolinecolor\": \"white\", \"zerolinewidth\": 2}}}, \"title\": {\"text\": \"Product Consumption in China\"}, \"xaxis\": {\"anchor\": \"y\", \"domain\": [0.0, 1.0], \"title\": {\"text\": \"food_category\"}}, \"yaxis\": {\"anchor\": \"x\", \"domain\": [0.0, 1.0], \"title\": {\"text\": \"Food Consumption in Canada\"}}},                        {\"responsive\": true}                    ).then(function(){\n",
       "                            \n",
       "var gd = document.getElementById('753586f6-afb5-47c5-add5-ef9b6005fd87');\n",
       "var x = new MutationObserver(function (mutations, observer) {{\n",
       "        var display = window.getComputedStyle(gd).display;\n",
       "        if (!display || display === 'none') {{\n",
       "            console.log([gd, 'removed!']);\n",
       "            Plotly.purge(gd);\n",
       "            observer.disconnect();\n",
       "        }}\n",
       "}});\n",
       "\n",
       "// Listen for the removal of the full notebook cells\n",
       "var notebookContainer = gd.closest('#notebook-container');\n",
       "if (notebookContainer) {{\n",
       "    x.observe(notebookContainer, {childList: true});\n",
       "}}\n",
       "\n",
       "// Listen for the clearing of the current output cell\n",
       "var outputEl = gd.closest('.output');\n",
       "if (outputEl) {{\n",
       "    x.observe(outputEl, {childList: true});\n",
       "}}\n",
       "\n",
       "                        })                };                });            </script>        </div>"
      ]
     },
     "metadata": {},
     "output_type": "display_data"
    }
   ],
   "source": [
    "data_china = data[data.country == 'China']\n",
    "fig = px.bar(data_china, x='food_category', y='consumption',\n",
    "             labels={'consumption':'Food Consumption in Canada'},title=\"Product Consumption in China\", height=400)\n",
    "fig.show()"
   ]
  },
  {
   "cell_type": "code",
   "execution_count": 14,
   "metadata": {},
   "outputs": [
    {
     "data": {
      "application/vnd.plotly.v1+json": {
       "config": {
        "plotlyServerURL": "https://plot.ly"
       },
       "data": [
        {
         "hovertemplate": "country=USA<br>co2_emmission=%{marker.size}<br>consumption=%{y}<extra></extra>",
         "legendgroup": "USA",
         "marker": {
          "color": "rgb(103,0,31)",
          "size": [
           1118.29,
           362.78,
           15.34
          ],
          "sizemode": "area",
          "sizeref": 0.3106361111111111,
          "symbol": "circle"
         },
         "mode": "markers",
         "name": "USA",
         "orientation": "v",
         "showlegend": true,
         "type": "scatter",
         "x": [
          1118.29,
          362.78,
          15.34
         ],
         "xaxis": "x",
         "y": [
          36.24,
          254.69,
          80.43
         ],
         "yaxis": "y"
        },
        {
         "hovertemplate": "country=China<br>co2_emmission=%{marker.size}<br>consumption=%{y}<extra></extra>",
         "legendgroup": "China",
         "marker": {
          "color": "rgb(178,24,43)",
          "size": [
           157.99,
           46.52,
           12.08
          ],
          "sizemode": "area",
          "sizeref": 0.3106361111111111,
          "symbol": "circle"
         },
         "mode": "markers",
         "name": "China",
         "orientation": "v",
         "showlegend": true,
         "type": "scatter",
         "x": [
          157.99,
          46.52,
          12.08
         ],
         "xaxis": "x",
         "y": [
          5.12,
          32.66,
          63.36
         ],
         "yaxis": "y"
        },
        {
         "hovertemplate": "country=India<br>co2_emmission=%{marker.size}<br>consumption=%{y}<extra></extra>",
         "legendgroup": "India",
         "marker": {
          "color": "rgb(214,96,77)",
          "size": [
           24.99,
           120.36,
           11.55
          ],
          "sizemode": "area",
          "sizeref": 0.3106361111111111,
          "symbol": "circle"
         },
         "mode": "markers",
         "name": "India",
         "orientation": "v",
         "showlegend": true,
         "type": "scatter",
         "x": [
          24.99,
          120.36,
          11.55
         ],
         "xaxis": "x",
         "y": [
          0.81,
          84.5,
          60.56
         ],
         "yaxis": "y"
        }
       ],
       "layout": {
        "legend": {
         "itemsizing": "constant",
         "title": {
          "text": "country"
         },
         "tracegroupgap": 0
        },
        "margin": {
         "t": 60
        },
        "template": {
         "data": {
          "bar": [
           {
            "error_x": {
             "color": "#2a3f5f"
            },
            "error_y": {
             "color": "#2a3f5f"
            },
            "marker": {
             "line": {
              "color": "#E5ECF6",
              "width": 0.5
             }
            },
            "type": "bar"
           }
          ],
          "barpolar": [
           {
            "marker": {
             "line": {
              "color": "#E5ECF6",
              "width": 0.5
             }
            },
            "type": "barpolar"
           }
          ],
          "carpet": [
           {
            "aaxis": {
             "endlinecolor": "#2a3f5f",
             "gridcolor": "white",
             "linecolor": "white",
             "minorgridcolor": "white",
             "startlinecolor": "#2a3f5f"
            },
            "baxis": {
             "endlinecolor": "#2a3f5f",
             "gridcolor": "white",
             "linecolor": "white",
             "minorgridcolor": "white",
             "startlinecolor": "#2a3f5f"
            },
            "type": "carpet"
           }
          ],
          "choropleth": [
           {
            "colorbar": {
             "outlinewidth": 0,
             "ticks": ""
            },
            "type": "choropleth"
           }
          ],
          "contour": [
           {
            "colorbar": {
             "outlinewidth": 0,
             "ticks": ""
            },
            "colorscale": [
             [
              0,
              "#0d0887"
             ],
             [
              0.1111111111111111,
              "#46039f"
             ],
             [
              0.2222222222222222,
              "#7201a8"
             ],
             [
              0.3333333333333333,
              "#9c179e"
             ],
             [
              0.4444444444444444,
              "#bd3786"
             ],
             [
              0.5555555555555556,
              "#d8576b"
             ],
             [
              0.6666666666666666,
              "#ed7953"
             ],
             [
              0.7777777777777778,
              "#fb9f3a"
             ],
             [
              0.8888888888888888,
              "#fdca26"
             ],
             [
              1,
              "#f0f921"
             ]
            ],
            "type": "contour"
           }
          ],
          "contourcarpet": [
           {
            "colorbar": {
             "outlinewidth": 0,
             "ticks": ""
            },
            "type": "contourcarpet"
           }
          ],
          "heatmap": [
           {
            "colorbar": {
             "outlinewidth": 0,
             "ticks": ""
            },
            "colorscale": [
             [
              0,
              "#0d0887"
             ],
             [
              0.1111111111111111,
              "#46039f"
             ],
             [
              0.2222222222222222,
              "#7201a8"
             ],
             [
              0.3333333333333333,
              "#9c179e"
             ],
             [
              0.4444444444444444,
              "#bd3786"
             ],
             [
              0.5555555555555556,
              "#d8576b"
             ],
             [
              0.6666666666666666,
              "#ed7953"
             ],
             [
              0.7777777777777778,
              "#fb9f3a"
             ],
             [
              0.8888888888888888,
              "#fdca26"
             ],
             [
              1,
              "#f0f921"
             ]
            ],
            "type": "heatmap"
           }
          ],
          "heatmapgl": [
           {
            "colorbar": {
             "outlinewidth": 0,
             "ticks": ""
            },
            "colorscale": [
             [
              0,
              "#0d0887"
             ],
             [
              0.1111111111111111,
              "#46039f"
             ],
             [
              0.2222222222222222,
              "#7201a8"
             ],
             [
              0.3333333333333333,
              "#9c179e"
             ],
             [
              0.4444444444444444,
              "#bd3786"
             ],
             [
              0.5555555555555556,
              "#d8576b"
             ],
             [
              0.6666666666666666,
              "#ed7953"
             ],
             [
              0.7777777777777778,
              "#fb9f3a"
             ],
             [
              0.8888888888888888,
              "#fdca26"
             ],
             [
              1,
              "#f0f921"
             ]
            ],
            "type": "heatmapgl"
           }
          ],
          "histogram": [
           {
            "marker": {
             "colorbar": {
              "outlinewidth": 0,
              "ticks": ""
             }
            },
            "type": "histogram"
           }
          ],
          "histogram2d": [
           {
            "colorbar": {
             "outlinewidth": 0,
             "ticks": ""
            },
            "colorscale": [
             [
              0,
              "#0d0887"
             ],
             [
              0.1111111111111111,
              "#46039f"
             ],
             [
              0.2222222222222222,
              "#7201a8"
             ],
             [
              0.3333333333333333,
              "#9c179e"
             ],
             [
              0.4444444444444444,
              "#bd3786"
             ],
             [
              0.5555555555555556,
              "#d8576b"
             ],
             [
              0.6666666666666666,
              "#ed7953"
             ],
             [
              0.7777777777777778,
              "#fb9f3a"
             ],
             [
              0.8888888888888888,
              "#fdca26"
             ],
             [
              1,
              "#f0f921"
             ]
            ],
            "type": "histogram2d"
           }
          ],
          "histogram2dcontour": [
           {
            "colorbar": {
             "outlinewidth": 0,
             "ticks": ""
            },
            "colorscale": [
             [
              0,
              "#0d0887"
             ],
             [
              0.1111111111111111,
              "#46039f"
             ],
             [
              0.2222222222222222,
              "#7201a8"
             ],
             [
              0.3333333333333333,
              "#9c179e"
             ],
             [
              0.4444444444444444,
              "#bd3786"
             ],
             [
              0.5555555555555556,
              "#d8576b"
             ],
             [
              0.6666666666666666,
              "#ed7953"
             ],
             [
              0.7777777777777778,
              "#fb9f3a"
             ],
             [
              0.8888888888888888,
              "#fdca26"
             ],
             [
              1,
              "#f0f921"
             ]
            ],
            "type": "histogram2dcontour"
           }
          ],
          "mesh3d": [
           {
            "colorbar": {
             "outlinewidth": 0,
             "ticks": ""
            },
            "type": "mesh3d"
           }
          ],
          "parcoords": [
           {
            "line": {
             "colorbar": {
              "outlinewidth": 0,
              "ticks": ""
             }
            },
            "type": "parcoords"
           }
          ],
          "pie": [
           {
            "automargin": true,
            "type": "pie"
           }
          ],
          "scatter": [
           {
            "marker": {
             "colorbar": {
              "outlinewidth": 0,
              "ticks": ""
             }
            },
            "type": "scatter"
           }
          ],
          "scatter3d": [
           {
            "line": {
             "colorbar": {
              "outlinewidth": 0,
              "ticks": ""
             }
            },
            "marker": {
             "colorbar": {
              "outlinewidth": 0,
              "ticks": ""
             }
            },
            "type": "scatter3d"
           }
          ],
          "scattercarpet": [
           {
            "marker": {
             "colorbar": {
              "outlinewidth": 0,
              "ticks": ""
             }
            },
            "type": "scattercarpet"
           }
          ],
          "scattergeo": [
           {
            "marker": {
             "colorbar": {
              "outlinewidth": 0,
              "ticks": ""
             }
            },
            "type": "scattergeo"
           }
          ],
          "scattergl": [
           {
            "marker": {
             "colorbar": {
              "outlinewidth": 0,
              "ticks": ""
             }
            },
            "type": "scattergl"
           }
          ],
          "scattermapbox": [
           {
            "marker": {
             "colorbar": {
              "outlinewidth": 0,
              "ticks": ""
             }
            },
            "type": "scattermapbox"
           }
          ],
          "scatterpolar": [
           {
            "marker": {
             "colorbar": {
              "outlinewidth": 0,
              "ticks": ""
             }
            },
            "type": "scatterpolar"
           }
          ],
          "scatterpolargl": [
           {
            "marker": {
             "colorbar": {
              "outlinewidth": 0,
              "ticks": ""
             }
            },
            "type": "scatterpolargl"
           }
          ],
          "scatterternary": [
           {
            "marker": {
             "colorbar": {
              "outlinewidth": 0,
              "ticks": ""
             }
            },
            "type": "scatterternary"
           }
          ],
          "surface": [
           {
            "colorbar": {
             "outlinewidth": 0,
             "ticks": ""
            },
            "colorscale": [
             [
              0,
              "#0d0887"
             ],
             [
              0.1111111111111111,
              "#46039f"
             ],
             [
              0.2222222222222222,
              "#7201a8"
             ],
             [
              0.3333333333333333,
              "#9c179e"
             ],
             [
              0.4444444444444444,
              "#bd3786"
             ],
             [
              0.5555555555555556,
              "#d8576b"
             ],
             [
              0.6666666666666666,
              "#ed7953"
             ],
             [
              0.7777777777777778,
              "#fb9f3a"
             ],
             [
              0.8888888888888888,
              "#fdca26"
             ],
             [
              1,
              "#f0f921"
             ]
            ],
            "type": "surface"
           }
          ],
          "table": [
           {
            "cells": {
             "fill": {
              "color": "#EBF0F8"
             },
             "line": {
              "color": "white"
             }
            },
            "header": {
             "fill": {
              "color": "#C8D4E3"
             },
             "line": {
              "color": "white"
             }
            },
            "type": "table"
           }
          ]
         },
         "layout": {
          "annotationdefaults": {
           "arrowcolor": "#2a3f5f",
           "arrowhead": 0,
           "arrowwidth": 1
          },
          "autotypenumbers": "strict",
          "coloraxis": {
           "colorbar": {
            "outlinewidth": 0,
            "ticks": ""
           }
          },
          "colorscale": {
           "diverging": [
            [
             0,
             "#8e0152"
            ],
            [
             0.1,
             "#c51b7d"
            ],
            [
             0.2,
             "#de77ae"
            ],
            [
             0.3,
             "#f1b6da"
            ],
            [
             0.4,
             "#fde0ef"
            ],
            [
             0.5,
             "#f7f7f7"
            ],
            [
             0.6,
             "#e6f5d0"
            ],
            [
             0.7,
             "#b8e186"
            ],
            [
             0.8,
             "#7fbc41"
            ],
            [
             0.9,
             "#4d9221"
            ],
            [
             1,
             "#276419"
            ]
           ],
           "sequential": [
            [
             0,
             "#0d0887"
            ],
            [
             0.1111111111111111,
             "#46039f"
            ],
            [
             0.2222222222222222,
             "#7201a8"
            ],
            [
             0.3333333333333333,
             "#9c179e"
            ],
            [
             0.4444444444444444,
             "#bd3786"
            ],
            [
             0.5555555555555556,
             "#d8576b"
            ],
            [
             0.6666666666666666,
             "#ed7953"
            ],
            [
             0.7777777777777778,
             "#fb9f3a"
            ],
            [
             0.8888888888888888,
             "#fdca26"
            ],
            [
             1,
             "#f0f921"
            ]
           ],
           "sequentialminus": [
            [
             0,
             "#0d0887"
            ],
            [
             0.1111111111111111,
             "#46039f"
            ],
            [
             0.2222222222222222,
             "#7201a8"
            ],
            [
             0.3333333333333333,
             "#9c179e"
            ],
            [
             0.4444444444444444,
             "#bd3786"
            ],
            [
             0.5555555555555556,
             "#d8576b"
            ],
            [
             0.6666666666666666,
             "#ed7953"
            ],
            [
             0.7777777777777778,
             "#fb9f3a"
            ],
            [
             0.8888888888888888,
             "#fdca26"
            ],
            [
             1,
             "#f0f921"
            ]
           ]
          },
          "colorway": [
           "#636efa",
           "#EF553B",
           "#00cc96",
           "#ab63fa",
           "#FFA15A",
           "#19d3f3",
           "#FF6692",
           "#B6E880",
           "#FF97FF",
           "#FECB52"
          ],
          "font": {
           "color": "#2a3f5f"
          },
          "geo": {
           "bgcolor": "white",
           "lakecolor": "white",
           "landcolor": "#E5ECF6",
           "showlakes": true,
           "showland": true,
           "subunitcolor": "white"
          },
          "hoverlabel": {
           "align": "left"
          },
          "hovermode": "closest",
          "mapbox": {
           "style": "light"
          },
          "paper_bgcolor": "white",
          "plot_bgcolor": "#E5ECF6",
          "polar": {
           "angularaxis": {
            "gridcolor": "white",
            "linecolor": "white",
            "ticks": ""
           },
           "bgcolor": "#E5ECF6",
           "radialaxis": {
            "gridcolor": "white",
            "linecolor": "white",
            "ticks": ""
           }
          },
          "scene": {
           "xaxis": {
            "backgroundcolor": "#E5ECF6",
            "gridcolor": "white",
            "gridwidth": 2,
            "linecolor": "white",
            "showbackground": true,
            "ticks": "",
            "zerolinecolor": "white"
           },
           "yaxis": {
            "backgroundcolor": "#E5ECF6",
            "gridcolor": "white",
            "gridwidth": 2,
            "linecolor": "white",
            "showbackground": true,
            "ticks": "",
            "zerolinecolor": "white"
           },
           "zaxis": {
            "backgroundcolor": "#E5ECF6",
            "gridcolor": "white",
            "gridwidth": 2,
            "linecolor": "white",
            "showbackground": true,
            "ticks": "",
            "zerolinecolor": "white"
           }
          },
          "shapedefaults": {
           "line": {
            "color": "#2a3f5f"
           }
          },
          "ternary": {
           "aaxis": {
            "gridcolor": "white",
            "linecolor": "white",
            "ticks": ""
           },
           "baxis": {
            "gridcolor": "white",
            "linecolor": "white",
            "ticks": ""
           },
           "bgcolor": "#E5ECF6",
           "caxis": {
            "gridcolor": "white",
            "linecolor": "white",
            "ticks": ""
           }
          },
          "title": {
           "x": 0.05
          },
          "xaxis": {
           "automargin": true,
           "gridcolor": "white",
           "linecolor": "white",
           "ticks": "",
           "title": {
            "standoff": 15
           },
           "zerolinecolor": "white",
           "zerolinewidth": 2
          },
          "yaxis": {
           "automargin": true,
           "gridcolor": "white",
           "linecolor": "white",
           "ticks": "",
           "title": {
            "standoff": 15
           },
           "zerolinecolor": "white",
           "zerolinewidth": 2
          }
         }
        },
        "xaxis": {
         "anchor": "y",
         "domain": [
          0,
          1
         ],
         "title": {
          "text": "co2_emmission"
         },
         "type": "log"
        },
        "yaxis": {
         "anchor": "x",
         "domain": [
          0,
          1
         ],
         "title": {
          "text": "consumption"
         }
        }
       }
      },
      "text/html": [
       "<div>                            <div id=\"9300e734-04d3-4e57-89ac-874bc5505b57\" class=\"plotly-graph-div\" style=\"height:525px; width:100%;\"></div>            <script type=\"text/javascript\">                require([\"plotly\"], function(Plotly) {                    window.PLOTLYENV=window.PLOTLYENV || {};                                    if (document.getElementById(\"9300e734-04d3-4e57-89ac-874bc5505b57\")) {                    Plotly.newPlot(                        \"9300e734-04d3-4e57-89ac-874bc5505b57\",                        [{\"hovertemplate\": \"country=USA<br>co2_emmission=%{marker.size}<br>consumption=%{y}<extra></extra>\", \"legendgroup\": \"USA\", \"marker\": {\"color\": \"rgb(103,0,31)\", \"size\": [1118.29, 362.78, 15.34], \"sizemode\": \"area\", \"sizeref\": 0.3106361111111111, \"symbol\": \"circle\"}, \"mode\": \"markers\", \"name\": \"USA\", \"orientation\": \"v\", \"showlegend\": true, \"type\": \"scatter\", \"x\": [1118.29, 362.78, 15.34], \"xaxis\": \"x\", \"y\": [36.24, 254.69, 80.43], \"yaxis\": \"y\"}, {\"hovertemplate\": \"country=China<br>co2_emmission=%{marker.size}<br>consumption=%{y}<extra></extra>\", \"legendgroup\": \"China\", \"marker\": {\"color\": \"rgb(178,24,43)\", \"size\": [157.99, 46.52, 12.08], \"sizemode\": \"area\", \"sizeref\": 0.3106361111111111, \"symbol\": \"circle\"}, \"mode\": \"markers\", \"name\": \"China\", \"orientation\": \"v\", \"showlegend\": true, \"type\": \"scatter\", \"x\": [157.99, 46.52, 12.08], \"xaxis\": \"x\", \"y\": [5.12, 32.66, 63.36], \"yaxis\": \"y\"}, {\"hovertemplate\": \"country=India<br>co2_emmission=%{marker.size}<br>consumption=%{y}<extra></extra>\", \"legendgroup\": \"India\", \"marker\": {\"color\": \"rgb(214,96,77)\", \"size\": [24.99, 120.36, 11.55], \"sizemode\": \"area\", \"sizeref\": 0.3106361111111111, \"symbol\": \"circle\"}, \"mode\": \"markers\", \"name\": \"India\", \"orientation\": \"v\", \"showlegend\": true, \"type\": \"scatter\", \"x\": [24.99, 120.36, 11.55], \"xaxis\": \"x\", \"y\": [0.81, 84.5, 60.56], \"yaxis\": \"y\"}],                        {\"legend\": {\"itemsizing\": \"constant\", \"title\": {\"text\": \"country\"}, \"tracegroupgap\": 0}, \"margin\": {\"t\": 60}, \"template\": {\"data\": {\"bar\": [{\"error_x\": {\"color\": \"#2a3f5f\"}, \"error_y\": {\"color\": \"#2a3f5f\"}, \"marker\": {\"line\": {\"color\": \"#E5ECF6\", \"width\": 0.5}}, \"type\": \"bar\"}], \"barpolar\": [{\"marker\": {\"line\": {\"color\": \"#E5ECF6\", \"width\": 0.5}}, \"type\": \"barpolar\"}], \"carpet\": [{\"aaxis\": {\"endlinecolor\": \"#2a3f5f\", \"gridcolor\": \"white\", \"linecolor\": \"white\", \"minorgridcolor\": \"white\", \"startlinecolor\": \"#2a3f5f\"}, \"baxis\": {\"endlinecolor\": \"#2a3f5f\", \"gridcolor\": \"white\", \"linecolor\": \"white\", \"minorgridcolor\": \"white\", \"startlinecolor\": \"#2a3f5f\"}, \"type\": \"carpet\"}], \"choropleth\": [{\"colorbar\": {\"outlinewidth\": 0, \"ticks\": \"\"}, \"type\": \"choropleth\"}], \"contour\": [{\"colorbar\": {\"outlinewidth\": 0, \"ticks\": \"\"}, \"colorscale\": [[0.0, \"#0d0887\"], [0.1111111111111111, \"#46039f\"], [0.2222222222222222, \"#7201a8\"], [0.3333333333333333, \"#9c179e\"], [0.4444444444444444, \"#bd3786\"], [0.5555555555555556, \"#d8576b\"], [0.6666666666666666, \"#ed7953\"], [0.7777777777777778, \"#fb9f3a\"], [0.8888888888888888, \"#fdca26\"], [1.0, \"#f0f921\"]], \"type\": \"contour\"}], \"contourcarpet\": [{\"colorbar\": {\"outlinewidth\": 0, \"ticks\": \"\"}, \"type\": \"contourcarpet\"}], \"heatmap\": [{\"colorbar\": {\"outlinewidth\": 0, \"ticks\": \"\"}, \"colorscale\": [[0.0, \"#0d0887\"], [0.1111111111111111, \"#46039f\"], [0.2222222222222222, \"#7201a8\"], [0.3333333333333333, \"#9c179e\"], [0.4444444444444444, \"#bd3786\"], [0.5555555555555556, \"#d8576b\"], [0.6666666666666666, \"#ed7953\"], [0.7777777777777778, \"#fb9f3a\"], [0.8888888888888888, \"#fdca26\"], [1.0, \"#f0f921\"]], \"type\": \"heatmap\"}], \"heatmapgl\": [{\"colorbar\": {\"outlinewidth\": 0, \"ticks\": \"\"}, \"colorscale\": [[0.0, \"#0d0887\"], [0.1111111111111111, \"#46039f\"], [0.2222222222222222, \"#7201a8\"], [0.3333333333333333, \"#9c179e\"], [0.4444444444444444, \"#bd3786\"], [0.5555555555555556, \"#d8576b\"], [0.6666666666666666, \"#ed7953\"], [0.7777777777777778, \"#fb9f3a\"], [0.8888888888888888, \"#fdca26\"], [1.0, \"#f0f921\"]], \"type\": \"heatmapgl\"}], \"histogram\": [{\"marker\": {\"colorbar\": {\"outlinewidth\": 0, \"ticks\": \"\"}}, \"type\": \"histogram\"}], \"histogram2d\": [{\"colorbar\": {\"outlinewidth\": 0, \"ticks\": \"\"}, \"colorscale\": [[0.0, \"#0d0887\"], [0.1111111111111111, \"#46039f\"], [0.2222222222222222, \"#7201a8\"], [0.3333333333333333, \"#9c179e\"], [0.4444444444444444, \"#bd3786\"], [0.5555555555555556, \"#d8576b\"], [0.6666666666666666, \"#ed7953\"], [0.7777777777777778, \"#fb9f3a\"], [0.8888888888888888, \"#fdca26\"], [1.0, \"#f0f921\"]], \"type\": \"histogram2d\"}], \"histogram2dcontour\": [{\"colorbar\": {\"outlinewidth\": 0, \"ticks\": \"\"}, \"colorscale\": [[0.0, \"#0d0887\"], [0.1111111111111111, \"#46039f\"], [0.2222222222222222, \"#7201a8\"], [0.3333333333333333, \"#9c179e\"], [0.4444444444444444, \"#bd3786\"], [0.5555555555555556, \"#d8576b\"], [0.6666666666666666, \"#ed7953\"], [0.7777777777777778, \"#fb9f3a\"], [0.8888888888888888, \"#fdca26\"], [1.0, \"#f0f921\"]], \"type\": \"histogram2dcontour\"}], \"mesh3d\": [{\"colorbar\": {\"outlinewidth\": 0, \"ticks\": \"\"}, \"type\": \"mesh3d\"}], \"parcoords\": [{\"line\": {\"colorbar\": {\"outlinewidth\": 0, \"ticks\": \"\"}}, \"type\": \"parcoords\"}], \"pie\": [{\"automargin\": true, \"type\": \"pie\"}], \"scatter\": [{\"marker\": {\"colorbar\": {\"outlinewidth\": 0, \"ticks\": \"\"}}, \"type\": \"scatter\"}], \"scatter3d\": [{\"line\": {\"colorbar\": {\"outlinewidth\": 0, \"ticks\": \"\"}}, \"marker\": {\"colorbar\": {\"outlinewidth\": 0, \"ticks\": \"\"}}, \"type\": \"scatter3d\"}], \"scattercarpet\": [{\"marker\": {\"colorbar\": {\"outlinewidth\": 0, \"ticks\": \"\"}}, \"type\": \"scattercarpet\"}], \"scattergeo\": [{\"marker\": {\"colorbar\": {\"outlinewidth\": 0, \"ticks\": \"\"}}, \"type\": \"scattergeo\"}], \"scattergl\": [{\"marker\": {\"colorbar\": {\"outlinewidth\": 0, \"ticks\": \"\"}}, \"type\": \"scattergl\"}], \"scattermapbox\": [{\"marker\": {\"colorbar\": {\"outlinewidth\": 0, \"ticks\": \"\"}}, \"type\": \"scattermapbox\"}], \"scatterpolar\": [{\"marker\": {\"colorbar\": {\"outlinewidth\": 0, \"ticks\": \"\"}}, \"type\": \"scatterpolar\"}], \"scatterpolargl\": [{\"marker\": {\"colorbar\": {\"outlinewidth\": 0, \"ticks\": \"\"}}, \"type\": \"scatterpolargl\"}], \"scatterternary\": [{\"marker\": {\"colorbar\": {\"outlinewidth\": 0, \"ticks\": \"\"}}, \"type\": \"scatterternary\"}], \"surface\": [{\"colorbar\": {\"outlinewidth\": 0, \"ticks\": \"\"}, \"colorscale\": [[0.0, \"#0d0887\"], [0.1111111111111111, \"#46039f\"], [0.2222222222222222, \"#7201a8\"], [0.3333333333333333, \"#9c179e\"], [0.4444444444444444, \"#bd3786\"], [0.5555555555555556, \"#d8576b\"], [0.6666666666666666, \"#ed7953\"], [0.7777777777777778, \"#fb9f3a\"], [0.8888888888888888, \"#fdca26\"], [1.0, \"#f0f921\"]], \"type\": \"surface\"}], \"table\": [{\"cells\": {\"fill\": {\"color\": \"#EBF0F8\"}, \"line\": {\"color\": \"white\"}}, \"header\": {\"fill\": {\"color\": \"#C8D4E3\"}, \"line\": {\"color\": \"white\"}}, \"type\": \"table\"}]}, \"layout\": {\"annotationdefaults\": {\"arrowcolor\": \"#2a3f5f\", \"arrowhead\": 0, \"arrowwidth\": 1}, \"autotypenumbers\": \"strict\", \"coloraxis\": {\"colorbar\": {\"outlinewidth\": 0, \"ticks\": \"\"}}, \"colorscale\": {\"diverging\": [[0, \"#8e0152\"], [0.1, \"#c51b7d\"], [0.2, \"#de77ae\"], [0.3, \"#f1b6da\"], [0.4, \"#fde0ef\"], [0.5, \"#f7f7f7\"], [0.6, \"#e6f5d0\"], [0.7, \"#b8e186\"], [0.8, \"#7fbc41\"], [0.9, \"#4d9221\"], [1, \"#276419\"]], \"sequential\": [[0.0, \"#0d0887\"], [0.1111111111111111, \"#46039f\"], [0.2222222222222222, \"#7201a8\"], [0.3333333333333333, \"#9c179e\"], [0.4444444444444444, \"#bd3786\"], [0.5555555555555556, \"#d8576b\"], [0.6666666666666666, \"#ed7953\"], [0.7777777777777778, \"#fb9f3a\"], [0.8888888888888888, \"#fdca26\"], [1.0, \"#f0f921\"]], \"sequentialminus\": [[0.0, \"#0d0887\"], [0.1111111111111111, \"#46039f\"], [0.2222222222222222, \"#7201a8\"], [0.3333333333333333, \"#9c179e\"], [0.4444444444444444, \"#bd3786\"], [0.5555555555555556, \"#d8576b\"], [0.6666666666666666, \"#ed7953\"], [0.7777777777777778, \"#fb9f3a\"], [0.8888888888888888, \"#fdca26\"], [1.0, \"#f0f921\"]]}, \"colorway\": [\"#636efa\", \"#EF553B\", \"#00cc96\", \"#ab63fa\", \"#FFA15A\", \"#19d3f3\", \"#FF6692\", \"#B6E880\", \"#FF97FF\", \"#FECB52\"], \"font\": {\"color\": \"#2a3f5f\"}, \"geo\": {\"bgcolor\": \"white\", \"lakecolor\": \"white\", \"landcolor\": \"#E5ECF6\", \"showlakes\": true, \"showland\": true, \"subunitcolor\": \"white\"}, \"hoverlabel\": {\"align\": \"left\"}, \"hovermode\": \"closest\", \"mapbox\": {\"style\": \"light\"}, \"paper_bgcolor\": \"white\", \"plot_bgcolor\": \"#E5ECF6\", \"polar\": {\"angularaxis\": {\"gridcolor\": \"white\", \"linecolor\": \"white\", \"ticks\": \"\"}, \"bgcolor\": \"#E5ECF6\", \"radialaxis\": {\"gridcolor\": \"white\", \"linecolor\": \"white\", \"ticks\": \"\"}}, \"scene\": {\"xaxis\": {\"backgroundcolor\": \"#E5ECF6\", \"gridcolor\": \"white\", \"gridwidth\": 2, \"linecolor\": \"white\", \"showbackground\": true, \"ticks\": \"\", \"zerolinecolor\": \"white\"}, \"yaxis\": {\"backgroundcolor\": \"#E5ECF6\", \"gridcolor\": \"white\", \"gridwidth\": 2, \"linecolor\": \"white\", \"showbackground\": true, \"ticks\": \"\", \"zerolinecolor\": \"white\"}, \"zaxis\": {\"backgroundcolor\": \"#E5ECF6\", \"gridcolor\": \"white\", \"gridwidth\": 2, \"linecolor\": \"white\", \"showbackground\": true, \"ticks\": \"\", \"zerolinecolor\": \"white\"}}, \"shapedefaults\": {\"line\": {\"color\": \"#2a3f5f\"}}, \"ternary\": {\"aaxis\": {\"gridcolor\": \"white\", \"linecolor\": \"white\", \"ticks\": \"\"}, \"baxis\": {\"gridcolor\": \"white\", \"linecolor\": \"white\", \"ticks\": \"\"}, \"bgcolor\": \"#E5ECF6\", \"caxis\": {\"gridcolor\": \"white\", \"linecolor\": \"white\", \"ticks\": \"\"}}, \"title\": {\"x\": 0.05}, \"xaxis\": {\"automargin\": true, \"gridcolor\": \"white\", \"linecolor\": \"white\", \"ticks\": \"\", \"title\": {\"standoff\": 15}, \"zerolinecolor\": \"white\", \"zerolinewidth\": 2}, \"yaxis\": {\"automargin\": true, \"gridcolor\": \"white\", \"linecolor\": \"white\", \"ticks\": \"\", \"title\": {\"standoff\": 15}, \"zerolinecolor\": \"white\", \"zerolinewidth\": 2}}}, \"xaxis\": {\"anchor\": \"y\", \"domain\": [0.0, 1.0], \"title\": {\"text\": \"co2_emmission\"}, \"type\": \"log\"}, \"yaxis\": {\"anchor\": \"x\", \"domain\": [0.0, 1.0], \"title\": {\"text\": \"consumption\"}}},                        {\"responsive\": true}                    ).then(function(){\n",
       "                            \n",
       "var gd = document.getElementById('9300e734-04d3-4e57-89ac-874bc5505b57');\n",
       "var x = new MutationObserver(function (mutations, observer) {{\n",
       "        var display = window.getComputedStyle(gd).display;\n",
       "        if (!display || display === 'none') {{\n",
       "            console.log([gd, 'removed!']);\n",
       "            Plotly.purge(gd);\n",
       "            observer.disconnect();\n",
       "        }}\n",
       "}});\n",
       "\n",
       "// Listen for the removal of the full notebook cells\n",
       "var notebookContainer = gd.closest('#notebook-container');\n",
       "if (notebookContainer) {{\n",
       "    x.observe(notebookContainer, {childList: true});\n",
       "}}\n",
       "\n",
       "// Listen for the clearing of the current output cell\n",
       "var outputEl = gd.closest('.output');\n",
       "if (outputEl) {{\n",
       "    x.observe(outputEl, {childList: true});\n",
       "}}\n",
       "\n",
       "                        })                };                });            </script>        </div>"
      ]
     },
     "metadata": {},
     "output_type": "display_data"
    }
   ],
   "source": [
    "fig = px.scatter(top, x=\"co2_emmission\", y=\"consumption\", size=\"co2_emmission\", color=\"country\", log_x=True, size_max=60,color_discrete_sequence=px.colors.sequential.RdBu)\n",
    "fig.show()"
   ]
  },
  {
   "cell_type": "code",
   "execution_count": 103,
   "metadata": {},
   "outputs": [
    {
     "data": {
      "text/html": [
       "<div>\n",
       "<style scoped>\n",
       "    .dataframe tbody tr th:only-of-type {\n",
       "        vertical-align: middle;\n",
       "    }\n",
       "\n",
       "    .dataframe tbody tr th {\n",
       "        vertical-align: top;\n",
       "    }\n",
       "\n",
       "    .dataframe thead tr th {\n",
       "        text-align: left;\n",
       "    }\n",
       "\n",
       "    .dataframe thead tr:last-of-type th {\n",
       "        text-align: right;\n",
       "    }\n",
       "</style>\n",
       "<table border=\"1\" class=\"dataframe\">\n",
       "  <thead>\n",
       "    <tr>\n",
       "      <th></th>\n",
       "      <th colspan=\"11\" halign=\"left\">consumption</th>\n",
       "    </tr>\n",
       "    <tr>\n",
       "      <th>food_type</th>\n",
       "      <th colspan=\"7\" halign=\"left\">Animal</th>\n",
       "      <th colspan=\"4\" halign=\"left\">Non-Animal</th>\n",
       "    </tr>\n",
       "    <tr>\n",
       "      <th>food_category</th>\n",
       "      <th>Beef</th>\n",
       "      <th>Eggs</th>\n",
       "      <th>Fish</th>\n",
       "      <th>Lamb &amp; Goat</th>\n",
       "      <th>Milk - inc. cheese</th>\n",
       "      <th>Pork</th>\n",
       "      <th>Poultry</th>\n",
       "      <th>Nuts inc. Peanut Butter</th>\n",
       "      <th>Rice</th>\n",
       "      <th>Soybeans</th>\n",
       "      <th>Wheat and Wheat Products</th>\n",
       "    </tr>\n",
       "    <tr>\n",
       "      <th>country</th>\n",
       "      <th></th>\n",
       "      <th></th>\n",
       "      <th></th>\n",
       "      <th></th>\n",
       "      <th></th>\n",
       "      <th></th>\n",
       "      <th></th>\n",
       "      <th></th>\n",
       "      <th></th>\n",
       "      <th></th>\n",
       "      <th></th>\n",
       "    </tr>\n",
       "  </thead>\n",
       "  <tbody>\n",
       "    <tr>\n",
       "      <th>Albania</th>\n",
       "      <td>22.50</td>\n",
       "      <td>12.45</td>\n",
       "      <td>3.85</td>\n",
       "      <td>15.32</td>\n",
       "      <td>303.72</td>\n",
       "      <td>10.88</td>\n",
       "      <td>13.23</td>\n",
       "      <td>4.36</td>\n",
       "      <td>7.78</td>\n",
       "      <td>0.00</td>\n",
       "      <td>138.64</td>\n",
       "    </tr>\n",
       "    <tr>\n",
       "      <th>Algeria</th>\n",
       "      <td>5.60</td>\n",
       "      <td>8.06</td>\n",
       "      <td>3.74</td>\n",
       "      <td>7.69</td>\n",
       "      <td>141.53</td>\n",
       "      <td>0.00</td>\n",
       "      <td>7.42</td>\n",
       "      <td>2.08</td>\n",
       "      <td>2.97</td>\n",
       "      <td>0.00</td>\n",
       "      <td>185.42</td>\n",
       "    </tr>\n",
       "    <tr>\n",
       "      <th>Angola</th>\n",
       "      <td>8.42</td>\n",
       "      <td>1.11</td>\n",
       "      <td>15.24</td>\n",
       "      <td>1.08</td>\n",
       "      <td>12.30</td>\n",
       "      <td>8.89</td>\n",
       "      <td>17.33</td>\n",
       "      <td>2.26</td>\n",
       "      <td>8.12</td>\n",
       "      <td>0.52</td>\n",
       "      <td>40.72</td>\n",
       "    </tr>\n",
       "    <tr>\n",
       "      <th>Argentina</th>\n",
       "      <td>55.48</td>\n",
       "      <td>11.39</td>\n",
       "      <td>4.36</td>\n",
       "      <td>1.56</td>\n",
       "      <td>195.08</td>\n",
       "      <td>10.51</td>\n",
       "      <td>38.66</td>\n",
       "      <td>0.49</td>\n",
       "      <td>8.77</td>\n",
       "      <td>0.00</td>\n",
       "      <td>103.11</td>\n",
       "    </tr>\n",
       "    <tr>\n",
       "      <th>Armenia</th>\n",
       "      <td>19.66</td>\n",
       "      <td>11.69</td>\n",
       "      <td>4.36</td>\n",
       "      <td>3.02</td>\n",
       "      <td>209.03</td>\n",
       "      <td>9.67</td>\n",
       "      <td>13.35</td>\n",
       "      <td>2.55</td>\n",
       "      <td>3.18</td>\n",
       "      <td>0.00</td>\n",
       "      <td>130.60</td>\n",
       "    </tr>\n",
       "    <tr>\n",
       "      <th>...</th>\n",
       "      <td>...</td>\n",
       "      <td>...</td>\n",
       "      <td>...</td>\n",
       "      <td>...</td>\n",
       "      <td>...</td>\n",
       "      <td>...</td>\n",
       "      <td>...</td>\n",
       "      <td>...</td>\n",
       "      <td>...</td>\n",
       "      <td>...</td>\n",
       "      <td>...</td>\n",
       "    </tr>\n",
       "    <tr>\n",
       "      <th>Uruguay</th>\n",
       "      <td>29.10</td>\n",
       "      <td>13.14</td>\n",
       "      <td>6.53</td>\n",
       "      <td>8.23</td>\n",
       "      <td>210.54</td>\n",
       "      <td>16.84</td>\n",
       "      <td>27.45</td>\n",
       "      <td>0.95</td>\n",
       "      <td>11.50</td>\n",
       "      <td>0.01</td>\n",
       "      <td>109.31</td>\n",
       "    </tr>\n",
       "    <tr>\n",
       "      <th>Venezuela</th>\n",
       "      <td>25.89</td>\n",
       "      <td>5.63</td>\n",
       "      <td>8.34</td>\n",
       "      <td>0.32</td>\n",
       "      <td>117.79</td>\n",
       "      <td>7.23</td>\n",
       "      <td>39.28</td>\n",
       "      <td>0.35</td>\n",
       "      <td>23.39</td>\n",
       "      <td>0.00</td>\n",
       "      <td>49.17</td>\n",
       "    </tr>\n",
       "    <tr>\n",
       "      <th>Vietnam</th>\n",
       "      <td>7.44</td>\n",
       "      <td>3.84</td>\n",
       "      <td>26.52</td>\n",
       "      <td>0.14</td>\n",
       "      <td>16.36</td>\n",
       "      <td>35.00</td>\n",
       "      <td>12.36</td>\n",
       "      <td>6.28</td>\n",
       "      <td>144.56</td>\n",
       "      <td>5.75</td>\n",
       "      <td>10.49</td>\n",
       "    </tr>\n",
       "    <tr>\n",
       "      <th>Zambia</th>\n",
       "      <td>4.76</td>\n",
       "      <td>3.32</td>\n",
       "      <td>6.20</td>\n",
       "      <td>0.68</td>\n",
       "      <td>9.71</td>\n",
       "      <td>1.66</td>\n",
       "      <td>3.29</td>\n",
       "      <td>5.04</td>\n",
       "      <td>3.05</td>\n",
       "      <td>7.30</td>\n",
       "      <td>12.10</td>\n",
       "    </tr>\n",
       "    <tr>\n",
       "      <th>Zimbabwe</th>\n",
       "      <td>7.37</td>\n",
       "      <td>1.75</td>\n",
       "      <td>2.80</td>\n",
       "      <td>0.96</td>\n",
       "      <td>31.90</td>\n",
       "      <td>2.65</td>\n",
       "      <td>4.97</td>\n",
       "      <td>2.22</td>\n",
       "      <td>10.09</td>\n",
       "      <td>0.54</td>\n",
       "      <td>31.31</td>\n",
       "    </tr>\n",
       "  </tbody>\n",
       "</table>\n",
       "<p>130 rows × 11 columns</p>\n",
       "</div>"
      ],
      "text/plain": [
       "              consumption                                                      \\\n",
       "food_type          Animal                                                       \n",
       "food_category        Beef   Eggs   Fish Lamb & Goat Milk - inc. cheese   Pork   \n",
       "country                                                                         \n",
       "Albania             22.50  12.45   3.85       15.32             303.72  10.88   \n",
       "Algeria              5.60   8.06   3.74        7.69             141.53   0.00   \n",
       "Angola               8.42   1.11  15.24        1.08              12.30   8.89   \n",
       "Argentina           55.48  11.39   4.36        1.56             195.08  10.51   \n",
       "Armenia             19.66  11.69   4.36        3.02             209.03   9.67   \n",
       "...                   ...    ...    ...         ...                ...    ...   \n",
       "Uruguay             29.10  13.14   6.53        8.23             210.54  16.84   \n",
       "Venezuela           25.89   5.63   8.34        0.32             117.79   7.23   \n",
       "Vietnam              7.44   3.84  26.52        0.14              16.36  35.00   \n",
       "Zambia               4.76   3.32   6.20        0.68               9.71   1.66   \n",
       "Zimbabwe             7.37   1.75   2.80        0.96              31.90   2.65   \n",
       "\n",
       "                                                                \\\n",
       "food_type                          Non-Animal                    \n",
       "food_category Poultry Nuts inc. Peanut Butter    Rice Soybeans   \n",
       "country                                                          \n",
       "Albania         13.23                    4.36    7.78     0.00   \n",
       "Algeria          7.42                    2.08    2.97     0.00   \n",
       "Angola          17.33                    2.26    8.12     0.52   \n",
       "Argentina       38.66                    0.49    8.77     0.00   \n",
       "Armenia         13.35                    2.55    3.18     0.00   \n",
       "...               ...                     ...     ...      ...   \n",
       "Uruguay         27.45                    0.95   11.50     0.01   \n",
       "Venezuela       39.28                    0.35   23.39     0.00   \n",
       "Vietnam         12.36                    6.28  144.56     5.75   \n",
       "Zambia           3.29                    5.04    3.05     7.30   \n",
       "Zimbabwe         4.97                    2.22   10.09     0.54   \n",
       "\n",
       "                                        \n",
       "food_type                               \n",
       "food_category Wheat and Wheat Products  \n",
       "country                                 \n",
       "Albania                         138.64  \n",
       "Algeria                         185.42  \n",
       "Angola                           40.72  \n",
       "Argentina                       103.11  \n",
       "Armenia                         130.60  \n",
       "...                                ...  \n",
       "Uruguay                         109.31  \n",
       "Venezuela                        49.17  \n",
       "Vietnam                          10.49  \n",
       "Zambia                           12.10  \n",
       "Zimbabwe                         31.31  \n",
       "\n",
       "[130 rows x 11 columns]"
      ]
     },
     "execution_count": 103,
     "metadata": {},
     "output_type": "execute_result"
    }
   ],
   "source": [
    "countrygroup = pd.pivot_table(data,index=[\"country\"],values=[\"consumption\"],columns=[\"food_type\",\"food_category\"],aggfunc=np.mean)\n",
    "countrygroup"
   ]
  },
  {
   "cell_type": "code",
   "execution_count": 115,
   "metadata": {},
   "outputs": [
    {
     "data": {
      "text/html": [
       "<div>\n",
       "<style scoped>\n",
       "    .dataframe tbody tr th:only-of-type {\n",
       "        vertical-align: middle;\n",
       "    }\n",
       "\n",
       "    .dataframe tbody tr th {\n",
       "        vertical-align: top;\n",
       "    }\n",
       "\n",
       "    .dataframe thead tr th {\n",
       "        text-align: left;\n",
       "    }\n",
       "\n",
       "    .dataframe thead tr:last-of-type th {\n",
       "        text-align: right;\n",
       "    }\n",
       "</style>\n",
       "<table border=\"1\" class=\"dataframe\">\n",
       "  <thead>\n",
       "    <tr>\n",
       "      <th></th>\n",
       "      <th colspan=\"11\" halign=\"left\">consumption</th>\n",
       "    </tr>\n",
       "    <tr>\n",
       "      <th>food_type</th>\n",
       "      <th colspan=\"7\" halign=\"left\">Animal</th>\n",
       "      <th colspan=\"4\" halign=\"left\">Non-Animal</th>\n",
       "    </tr>\n",
       "    <tr>\n",
       "      <th>food_category</th>\n",
       "      <th>Beef</th>\n",
       "      <th>Eggs</th>\n",
       "      <th>Fish</th>\n",
       "      <th>Lamb &amp; Goat</th>\n",
       "      <th>Milk - inc. cheese</th>\n",
       "      <th>Pork</th>\n",
       "      <th>Poultry</th>\n",
       "      <th>Nuts inc. Peanut Butter</th>\n",
       "      <th>Rice</th>\n",
       "      <th>Soybeans</th>\n",
       "      <th>Wheat and Wheat Products</th>\n",
       "    </tr>\n",
       "    <tr>\n",
       "      <th>country</th>\n",
       "      <th></th>\n",
       "      <th></th>\n",
       "      <th></th>\n",
       "      <th></th>\n",
       "      <th></th>\n",
       "      <th></th>\n",
       "      <th></th>\n",
       "      <th></th>\n",
       "      <th></th>\n",
       "      <th></th>\n",
       "      <th></th>\n",
       "    </tr>\n",
       "  </thead>\n",
       "  <tbody>\n",
       "    <tr>\n",
       "      <th>Armenia</th>\n",
       "      <td>19.66</td>\n",
       "      <td>11.69</td>\n",
       "      <td>4.36</td>\n",
       "      <td>3.02</td>\n",
       "      <td>209.03</td>\n",
       "      <td>9.67</td>\n",
       "      <td>13.35</td>\n",
       "      <td>2.55</td>\n",
       "      <td>3.18</td>\n",
       "      <td>0.0</td>\n",
       "      <td>130.6</td>\n",
       "    </tr>\n",
       "  </tbody>\n",
       "</table>\n",
       "</div>"
      ],
      "text/plain": [
       "              consumption                                                    \\\n",
       "food_type          Animal                                                     \n",
       "food_category        Beef   Eggs  Fish Lamb & Goat Milk - inc. cheese  Pork   \n",
       "country                                                                       \n",
       "Armenia             19.66  11.69  4.36        3.02             209.03  9.67   \n",
       "\n",
       "                                                              \\\n",
       "food_type                          Non-Animal                  \n",
       "food_category Poultry Nuts inc. Peanut Butter  Rice Soybeans   \n",
       "country                                                        \n",
       "Armenia         13.35                    2.55  3.18      0.0   \n",
       "\n",
       "                                        \n",
       "food_type                               \n",
       "food_category Wheat and Wheat Products  \n",
       "country                                 \n",
       "Armenia                          130.6  "
      ]
     },
     "execution_count": 115,
     "metadata": {},
     "output_type": "execute_result"
    }
   ],
   "source": [
    "AM = countrygroup.query('country == [\"Armenia\"]')\n",
    "AM"
   ]
  },
  {
   "cell_type": "code",
   "execution_count": 137,
   "metadata": {},
   "outputs": [
    {
     "data": {
      "image/png": "[encoded data removed]",
      "text/plain": [
       "<Figure size 1440x720 with 1 Axes>"
      ]
     },
     "metadata": {},
     "output_type": "display_data"
    }
   ],
   "source": [
    "sns.set() \n",
    "data.pivot_table(\"consumption\", index='country', columns='food_category', aggfunc='sum').plot(figsize=(20, 10))\n",
    "plt.ylabel('total births per year');"
   ]
  }
 ],
 "metadata": {
  "kernelspec": {
   "display_name": "Python 3",
   "language": "python",
   "name": "python3"
  },
  "language_info": {
   "codemirror_mode": {
    "name": "ipython",
    "version": 3
   },
   "file_extension": ".py",
   "mimetype": "text/x-python",
   "name": "python",
   "nbconvert_exporter": "python",
   "pygments_lexer": "ipython3",
   "version": "3.8.5"
  }
 },
 "nbformat": 4,
 "nbformat_minor": 4
}
